{
 "cells": [
  {
   "cell_type": "code",
   "execution_count": 102,
   "metadata": {
    "collapsed": true
   },
   "outputs": [],
   "source": [
    "import graphlab as gl\n",
    "import matplotlib.pyplot as plt\n",
    "%matplotlib inline\n"
   ]
  },
  {
   "cell_type": "code",
   "execution_count": 3,
   "metadata": {
    "collapsed": false
   },
   "outputs": [
    {
     "name": "stderr",
     "output_type": "stream",
     "text": [
      "[INFO] graphlab.cython.cy_server: GraphLab Create v1.10 started. Logging: /tmp/graphlab_server_1465138490.log\n"
     ]
    },
    {
     "name": "stdout",
     "output_type": "stream",
     "text": [
      "This non-commercial license of GraphLab Create is assigned to mkkedia@dons.usfca.edu and will expire on May 31, 2017. For commercial licensing options, visit https://dato.com/buy/.\n"
     ]
    }
   ],
   "source": [
    "reviews = gl.load_sframe(\"yelp_dataset_challenge_academic_dataset/reviews/\")"
   ]
  },
  {
   "cell_type": "code",
   "execution_count": 4,
   "metadata": {
    "collapsed": false
   },
   "outputs": [
    {
     "name": "stdout",
     "output_type": "stream",
     "text": [
      "PROGRESS: Creating a validation set from 5 percent of training data. This may take a while.\n",
      "          You can set ``validation_set=None`` to disable validation tracking.\n",
      "\n"
     ]
    },
    {
     "data": {
      "text/html": [
       "<pre>Logistic regression:</pre>"
      ],
      "text/plain": [
       "Logistic regression:"
      ]
     },
     "metadata": {},
     "output_type": "display_data"
    },
    {
     "data": {
      "text/html": [
       "<pre>--------------------------------------------------------</pre>"
      ],
      "text/plain": [
       "--------------------------------------------------------"
      ]
     },
     "metadata": {},
     "output_type": "display_data"
    },
    {
     "data": {
      "text/html": [
       "<pre>Number of examples          : 1845409</pre>"
      ],
      "text/plain": [
       "Number of examples          : 1845409"
      ]
     },
     "metadata": {},
     "output_type": "display_data"
    },
    {
     "data": {
      "text/html": [
       "<pre>Number of classes           : 2</pre>"
      ],
      "text/plain": [
       "Number of classes           : 2"
      ]
     },
     "metadata": {},
     "output_type": "display_data"
    },
    {
     "data": {
      "text/html": [
       "<pre>Number of feature columns   : 1</pre>"
      ],
      "text/plain": [
       "Number of feature columns   : 1"
      ]
     },
     "metadata": {},
     "output_type": "display_data"
    },
    {
     "data": {
      "text/html": [
       "<pre>Number of unpacked features : 1797997</pre>"
      ],
      "text/plain": [
       "Number of unpacked features : 1797997"
      ]
     },
     "metadata": {},
     "output_type": "display_data"
    },
    {
     "data": {
      "text/html": [
       "<pre>Number of coefficients    : 1797998</pre>"
      ],
      "text/plain": [
       "Number of coefficients    : 1797998"
      ]
     },
     "metadata": {},
     "output_type": "display_data"
    },
    {
     "data": {
      "text/html": [
       "<pre>Starting L-BFGS</pre>"
      ],
      "text/plain": [
       "Starting L-BFGS"
      ]
     },
     "metadata": {},
     "output_type": "display_data"
    },
    {
     "data": {
      "text/html": [
       "<pre>--------------------------------------------------------</pre>"
      ],
      "text/plain": [
       "--------------------------------------------------------"
      ]
     },
     "metadata": {},
     "output_type": "display_data"
    },
    {
     "data": {
      "text/html": [
       "<pre>+-----------+----------+-----------+--------------+-------------------+---------------------+</pre>"
      ],
      "text/plain": [
       "+-----------+----------+-----------+--------------+-------------------+---------------------+"
      ]
     },
     "metadata": {},
     "output_type": "display_data"
    },
    {
     "data": {
      "text/html": [
       "<pre>| Iteration | Passes   | Step size | Elapsed Time | Training-accuracy | Validation-accuracy |</pre>"
      ],
      "text/plain": [
       "| Iteration | Passes   | Step size | Elapsed Time | Training-accuracy | Validation-accuracy |"
      ]
     },
     "metadata": {},
     "output_type": "display_data"
    },
    {
     "data": {
      "text/html": [
       "<pre>+-----------+----------+-----------+--------------+-------------------+---------------------+</pre>"
      ],
      "text/plain": [
       "+-----------+----------+-----------+--------------+-------------------+---------------------+"
      ]
     },
     "metadata": {},
     "output_type": "display_data"
    },
    {
     "data": {
      "text/html": [
       "<pre>| 1         | 6        | 0.000000  | 29.821195    | 0.768852          | 0.764825            |</pre>"
      ],
      "text/plain": [
       "| 1         | 6        | 0.000000  | 29.821195    | 0.768852          | 0.764825            |"
      ]
     },
     "metadata": {},
     "output_type": "display_data"
    },
    {
     "data": {
      "text/html": [
       "<pre>| 2         | 9        | 5.000000  | 47.362483    | 0.937116          | 0.915456            |</pre>"
      ],
      "text/plain": [
       "| 2         | 9        | 5.000000  | 47.362483    | 0.937116          | 0.915456            |"
      ]
     },
     "metadata": {},
     "output_type": "display_data"
    },
    {
     "data": {
      "text/html": [
       "<pre>| 3         | 10       | 5.000000  | 55.046364    | 0.935499          | 0.908004            |</pre>"
      ],
      "text/plain": [
       "| 3         | 10       | 5.000000  | 55.046364    | 0.935499          | 0.908004            |"
      ]
     },
     "metadata": {},
     "output_type": "display_data"
    },
    {
     "data": {
      "text/html": [
       "<pre>| 4         | 11       | 5.000000  | 62.508377    | 0.919325          | 0.890540            |</pre>"
      ],
      "text/plain": [
       "| 4         | 11       | 5.000000  | 62.508377    | 0.919325          | 0.890540            |"
      ]
     },
     "metadata": {},
     "output_type": "display_data"
    },
    {
     "data": {
      "text/html": [
       "<pre>| 5         | 13       | 1.000000  | 74.389416    | 0.963755          | 0.936564            |</pre>"
      ],
      "text/plain": [
       "| 5         | 13       | 1.000000  | 74.389416    | 0.963755          | 0.936564            |"
      ]
     },
     "metadata": {},
     "output_type": "display_data"
    },
    {
     "data": {
      "text/html": [
       "<pre>| 6         | 14       | 1.000000  | 82.201985    | 0.971363          | 0.943904            |</pre>"
      ],
      "text/plain": [
       "| 6         | 14       | 1.000000  | 82.201985    | 0.971363          | 0.943904            |"
      ]
     },
     "metadata": {},
     "output_type": "display_data"
    },
    {
     "data": {
      "text/html": [
       "<pre>| 7         | 15       | 1.000000  | 89.730482    | 0.972742          | 0.944272            |</pre>"
      ],
      "text/plain": [
       "| 7         | 15       | 1.000000  | 89.730482    | 0.972742          | 0.944272            |"
      ]
     },
     "metadata": {},
     "output_type": "display_data"
    },
    {
     "data": {
      "text/html": [
       "<pre>| 8         | 16       | 1.000000  | 97.328729    | 0.976106          | 0.944334            |</pre>"
      ],
      "text/plain": [
       "| 8         | 16       | 1.000000  | 97.328729    | 0.976106          | 0.944334            |"
      ]
     },
     "metadata": {},
     "output_type": "display_data"
    },
    {
     "data": {
      "text/html": [
       "<pre>| 9         | 17       | 1.000000  | 104.901726   | 0.979091          | 0.945091            |</pre>"
      ],
      "text/plain": [
       "| 9         | 17       | 1.000000  | 104.901726   | 0.979091          | 0.945091            |"
      ]
     },
     "metadata": {},
     "output_type": "display_data"
    },
    {
     "data": {
      "text/html": [
       "<pre>| 10        | 18       | 1.000000  | 112.435632   | 0.984720          | 0.945675            |</pre>"
      ],
      "text/plain": [
       "| 10        | 18       | 1.000000  | 112.435632   | 0.984720          | 0.945675            |"
      ]
     },
     "metadata": {},
     "output_type": "display_data"
    },
    {
     "data": {
      "text/html": [
       "<pre>+-----------+----------+-----------+--------------+-------------------+---------------------+</pre>"
      ],
      "text/plain": [
       "+-----------+----------+-----------+--------------+-------------------+---------------------+"
      ]
     },
     "metadata": {},
     "output_type": "display_data"
    },
    {
     "data": {
      "text/html": [
       "<pre>TERMINATED: Iteration limit reached.</pre>"
      ],
      "text/plain": [
       "TERMINATED: Iteration limit reached."
      ]
     },
     "metadata": {},
     "output_type": "display_data"
    },
    {
     "data": {
      "text/html": [
       "<pre>This model may not be optimal. To improve it, consider increasing `max_iterations`.</pre>"
      ],
      "text/plain": [
       "This model may not be optimal. To improve it, consider increasing `max_iterations`."
      ]
     },
     "metadata": {},
     "output_type": "display_data"
    }
   ],
   "source": [
    "sm = gl.sentiment_analysis.create(reviews, 'stars', ['text'])"
   ]
  },
  {
   "cell_type": "code",
   "execution_count": 5,
   "metadata": {
    "collapsed": false
   },
   "outputs": [
    {
     "name": "stdout",
     "output_type": "stream",
     "text": [
      "Class                         : LogisticClassifier\n",
      "\n",
      "Schema\n",
      "------\n",
      "Number of coefficients        : 1797998\n",
      "Number of examples            : 1845409\n",
      "Number of classes             : 2\n",
      "Number of feature columns     : 1\n",
      "Number of unpacked features   : 1797997\n",
      "\n",
      "Hyperparameters\n",
      "---------------\n",
      "L1 penalty                    : 0.0\n",
      "L2 penalty                    : 0.2\n",
      "\n",
      "Training Summary\n",
      "----------------\n",
      "Solver                        : lbfgs\n",
      "Solver iterations             : 10\n",
      "Solver status                 : TERMINATED: Iteration limit reached.\n",
      "Training time (sec)           : 115.4849\n",
      "\n",
      "Settings\n",
      "--------\n",
      "Log-likelihood                : 102135.7318\n",
      "\n",
      "Highest Positive Coefficients\n",
      "-----------------------------\n",
      "text[\"issues]                 : 22.8227\n",
      "text[streaming/gaming.]       : 20.2704\n",
      "text[9/5/2015.]               : 16.6593\n",
      "text[erbi]                    : 15.3555\n",
      "text[resurfacing!]            : 14.0152\n",
      "\n",
      "Lowest Negative Coefficients\n",
      "----------------------------\n",
      "text[historical/cozy/older]   : -21.193\n",
      "text[instructs)]              : -15.292\n",
      "text[slices\").]               : -14.5425\n",
      "text[directions....just]      : -14.4893\n",
      "text[seaweed/rice).]          : -14.415\n",
      "\n"
     ]
    }
   ],
   "source": [
    "sm.summary()"
   ]
  },
  {
   "cell_type": "code",
   "execution_count": null,
   "metadata": {
    "collapsed": true
   },
   "outputs": [],
   "source": [
    "# Get all reviews with the word burger in it\n",
    "# Group by business\n",
    "# Find average sentiment for those businesses\n",
    "# Find top 5 \n",
    "# Make sure number of reviews for the top 5 are reasonable\n"
   ]
  },
  {
   "cell_type": "code",
   "execution_count": 10,
   "metadata": {
    "collapsed": false
   },
   "outputs": [
    {
     "ename": "SyntaxError",
     "evalue": "invalid syntax (<ipython-input-10-ea3f0fc227ce>, line 1)",
     "output_type": "error",
     "traceback": [
      "\u001b[0;36m  File \u001b[0;32m\"<ipython-input-10-ea3f0fc227ce>\"\u001b[0;36m, line \u001b[0;32m1\u001b[0m\n\u001b[0;31m    sm.\u001b[0m\n\u001b[0m       ^\u001b[0m\n\u001b[0;31mSyntaxError\u001b[0m\u001b[0;31m:\u001b[0m invalid syntax\n"
     ]
    }
   ],
   "source": []
  },
  {
   "cell_type": "code",
   "execution_count": 17,
   "metadata": {
    "collapsed": false
   },
   "outputs": [],
   "source": [
    "from graphlab.toolkits.feature_engineering import *"
   ]
  },
  {
   "cell_type": "code",
   "execution_count": 18,
   "metadata": {
    "collapsed": true
   },
   "outputs": [],
   "source": [
    "tokenizer = Tokenizer('text', to_lower=True, output_column_prefix='token')"
   ]
  },
  {
   "cell_type": "code",
   "execution_count": 19,
   "metadata": {
    "collapsed": true
   },
   "outputs": [],
   "source": [
    "tokenized_reviews = tokenizer.fit_transform(reviews)"
   ]
  },
  {
   "cell_type": "code",
   "execution_count": 20,
   "metadata": {
    "collapsed": false
   },
   "outputs": [
    {
     "data": {
      "text/html": [
       "<div style=\"max-height:1000px;max-width:1500px;overflow:auto;\"><table frame=\"box\" rules=\"cols\">\n",
       "    <tr>\n",
       "        <th style=\"padding-left: 1em; padding-right: 1em; text-align: center\">business_id</th>\n",
       "        <th style=\"padding-left: 1em; padding-right: 1em; text-align: center\">date</th>\n",
       "        <th style=\"padding-left: 1em; padding-right: 1em; text-align: center\">review_id</th>\n",
       "        <th style=\"padding-left: 1em; padding-right: 1em; text-align: center\">stars</th>\n",
       "        <th style=\"padding-left: 1em; padding-right: 1em; text-align: center\">text</th>\n",
       "        <th style=\"padding-left: 1em; padding-right: 1em; text-align: center\">type</th>\n",
       "    </tr>\n",
       "    <tr>\n",
       "        <td style=\"padding-left: 1em; padding-right: 1em; text-align: center; vertical-align: top\">5UmKMjUEUNdYWqANhGckJw</td>\n",
       "        <td style=\"padding-left: 1em; padding-right: 1em; text-align: center; vertical-align: top\">2012-08-01</td>\n",
       "        <td style=\"padding-left: 1em; padding-right: 1em; text-align: center; vertical-align: top\">Ya85v4eqdd6k9Od8HbQjyA</td>\n",
       "        <td style=\"padding-left: 1em; padding-right: 1em; text-align: center; vertical-align: top\">4</td>\n",
       "        <td style=\"padding-left: 1em; padding-right: 1em; text-align: center; vertical-align: top\">Mr Hoagie is an<br>institution. Walking in, ...</td>\n",
       "        <td style=\"padding-left: 1em; padding-right: 1em; text-align: center; vertical-align: top\">review</td>\n",
       "    </tr>\n",
       "    <tr>\n",
       "        <td style=\"padding-left: 1em; padding-right: 1em; text-align: center; vertical-align: top\">5UmKMjUEUNdYWqANhGckJw</td>\n",
       "        <td style=\"padding-left: 1em; padding-right: 1em; text-align: center; vertical-align: top\">2014-02-13</td>\n",
       "        <td style=\"padding-left: 1em; padding-right: 1em; text-align: center; vertical-align: top\">KPvLNJ21_4wbYNctrOwWdQ</td>\n",
       "        <td style=\"padding-left: 1em; padding-right: 1em; text-align: center; vertical-align: top\">5</td>\n",
       "        <td style=\"padding-left: 1em; padding-right: 1em; text-align: center; vertical-align: top\">Excellent food. Superb<br>customer service. I miss ...</td>\n",
       "        <td style=\"padding-left: 1em; padding-right: 1em; text-align: center; vertical-align: top\">review</td>\n",
       "    </tr>\n",
       "    <tr>\n",
       "        <td style=\"padding-left: 1em; padding-right: 1em; text-align: center; vertical-align: top\">5UmKMjUEUNdYWqANhGckJw</td>\n",
       "        <td style=\"padding-left: 1em; padding-right: 1em; text-align: center; vertical-align: top\">2015-10-31</td>\n",
       "        <td style=\"padding-left: 1em; padding-right: 1em; text-align: center; vertical-align: top\">fFSoGV46Yxuwbr3fHNuZig</td>\n",
       "        <td style=\"padding-left: 1em; padding-right: 1em; text-align: center; vertical-align: top\">5</td>\n",
       "        <td style=\"padding-left: 1em; padding-right: 1em; text-align: center; vertical-align: top\">Yes this place is a<br>little out dated and not ...</td>\n",
       "        <td style=\"padding-left: 1em; padding-right: 1em; text-align: center; vertical-align: top\">review</td>\n",
       "    </tr>\n",
       "    <tr>\n",
       "        <td style=\"padding-left: 1em; padding-right: 1em; text-align: center; vertical-align: top\">UsFtqoBl7naz8AVUBZMjQQ</td>\n",
       "        <td style=\"padding-left: 1em; padding-right: 1em; text-align: center; vertical-align: top\">2013-11-08</td>\n",
       "        <td style=\"padding-left: 1em; padding-right: 1em; text-align: center; vertical-align: top\">Di3exaUCFNw1V4kSNW5pgA</td>\n",
       "        <td style=\"padding-left: 1em; padding-right: 1em; text-align: center; vertical-align: top\">5</td>\n",
       "        <td style=\"padding-left: 1em; padding-right: 1em; text-align: center; vertical-align: top\">All the food is great<br>here. But the best thing ...</td>\n",
       "        <td style=\"padding-left: 1em; padding-right: 1em; text-align: center; vertical-align: top\">review</td>\n",
       "    </tr>\n",
       "    <tr>\n",
       "        <td style=\"padding-left: 1em; padding-right: 1em; text-align: center; vertical-align: top\">UsFtqoBl7naz8AVUBZMjQQ</td>\n",
       "        <td style=\"padding-left: 1em; padding-right: 1em; text-align: center; vertical-align: top\">2014-03-29</td>\n",
       "        <td style=\"padding-left: 1em; padding-right: 1em; text-align: center; vertical-align: top\">0Lua2-PbqEQMjD9r89-asw</td>\n",
       "        <td style=\"padding-left: 1em; padding-right: 1em; text-align: center; vertical-align: top\">3</td>\n",
       "        <td style=\"padding-left: 1em; padding-right: 1em; text-align: center; vertical-align: top\">We checked this place out<br>this past Monday for ...</td>\n",
       "        <td style=\"padding-left: 1em; padding-right: 1em; text-align: center; vertical-align: top\">review</td>\n",
       "    </tr>\n",
       "    <tr>\n",
       "        <td style=\"padding-left: 1em; padding-right: 1em; text-align: center; vertical-align: top\">UsFtqoBl7naz8AVUBZMjQQ</td>\n",
       "        <td style=\"padding-left: 1em; padding-right: 1em; text-align: center; vertical-align: top\">2014-10-29</td>\n",
       "        <td style=\"padding-left: 1em; padding-right: 1em; text-align: center; vertical-align: top\">7N9j5YbBHBW6qguE5DAeyA</td>\n",
       "        <td style=\"padding-left: 1em; padding-right: 1em; text-align: center; vertical-align: top\">1</td>\n",
       "        <td style=\"padding-left: 1em; padding-right: 1em; text-align: center; vertical-align: top\">Wing sauce is like water.<br>Pretty much a lot of ...</td>\n",
       "        <td style=\"padding-left: 1em; padding-right: 1em; text-align: center; vertical-align: top\">review</td>\n",
       "    </tr>\n",
       "    <tr>\n",
       "        <td style=\"padding-left: 1em; padding-right: 1em; text-align: center; vertical-align: top\">UsFtqoBl7naz8AVUBZMjQQ</td>\n",
       "        <td style=\"padding-left: 1em; padding-right: 1em; text-align: center; vertical-align: top\">2014-11-28</td>\n",
       "        <td style=\"padding-left: 1em; padding-right: 1em; text-align: center; vertical-align: top\">mjCJR33jvUNt41iJCxDU_g</td>\n",
       "        <td style=\"padding-left: 1em; padding-right: 1em; text-align: center; vertical-align: top\">4</td>\n",
       "        <td style=\"padding-left: 1em; padding-right: 1em; text-align: center; vertical-align: top\">Cold cheap beer. Good bar<br>food. Good service. ...</td>\n",
       "        <td style=\"padding-left: 1em; padding-right: 1em; text-align: center; vertical-align: top\">review</td>\n",
       "    </tr>\n",
       "    <tr>\n",
       "        <td style=\"padding-left: 1em; padding-right: 1em; text-align: center; vertical-align: top\">3eu6MEFlq2Dg7bQh8QbdOg</td>\n",
       "        <td style=\"padding-left: 1em; padding-right: 1em; text-align: center; vertical-align: top\">2014-02-27</td>\n",
       "        <td style=\"padding-left: 1em; padding-right: 1em; text-align: center; vertical-align: top\">Ieh3kfZ-5J9pLju4JiQDvQ</td>\n",
       "        <td style=\"padding-left: 1em; padding-right: 1em; text-align: center; vertical-align: top\">5</td>\n",
       "        <td style=\"padding-left: 1em; padding-right: 1em; text-align: center; vertical-align: top\">I highly recommend this<br>place. The mechanics are ...</td>\n",
       "        <td style=\"padding-left: 1em; padding-right: 1em; text-align: center; vertical-align: top\">review</td>\n",
       "    </tr>\n",
       "    <tr>\n",
       "        <td style=\"padding-left: 1em; padding-right: 1em; text-align: center; vertical-align: top\">3eu6MEFlq2Dg7bQh8QbdOg</td>\n",
       "        <td style=\"padding-left: 1em; padding-right: 1em; text-align: center; vertical-align: top\">2015-06-16</td>\n",
       "        <td style=\"padding-left: 1em; padding-right: 1em; text-align: center; vertical-align: top\">PU28OoBSHpZLkYGCmNxlmg</td>\n",
       "        <td style=\"padding-left: 1em; padding-right: 1em; text-align: center; vertical-align: top\">5</td>\n",
       "        <td style=\"padding-left: 1em; padding-right: 1em; text-align: center; vertical-align: top\">I am a big believer in<br>first impressions, so ...</td>\n",
       "        <td style=\"padding-left: 1em; padding-right: 1em; text-align: center; vertical-align: top\">review</td>\n",
       "    </tr>\n",
       "    <tr>\n",
       "        <td style=\"padding-left: 1em; padding-right: 1em; text-align: center; vertical-align: top\">cE27W9VPgO88Qxe4ol6y_g</td>\n",
       "        <td style=\"padding-left: 1em; padding-right: 1em; text-align: center; vertical-align: top\">2012-08-19</td>\n",
       "        <td style=\"padding-left: 1em; padding-right: 1em; text-align: center; vertical-align: top\">XsA6AojkWjOHA4FmuAb8XQ</td>\n",
       "        <td style=\"padding-left: 1em; padding-right: 1em; text-align: center; vertical-align: top\">3</td>\n",
       "        <td style=\"padding-left: 1em; padding-right: 1em; text-align: center; vertical-align: top\">Decent range somewhat<br>close to the city.  The ...</td>\n",
       "        <td style=\"padding-left: 1em; padding-right: 1em; text-align: center; vertical-align: top\">review</td>\n",
       "    </tr>\n",
       "</table>\n",
       "<table frame=\"box\" rules=\"cols\">\n",
       "    <tr>\n",
       "        <th style=\"padding-left: 1em; padding-right: 1em; text-align: center\">user_id</th>\n",
       "        <th style=\"padding-left: 1em; padding-right: 1em; text-align: center\">votes</th>\n",
       "        <th style=\"padding-left: 1em; padding-right: 1em; text-align: center\">token.text</th>\n",
       "    </tr>\n",
       "    <tr>\n",
       "        <td style=\"padding-left: 1em; padding-right: 1em; text-align: center; vertical-align: top\">PUFPaY9KxDAcGqfsorJp3Q</td>\n",
       "        <td style=\"padding-left: 1em; padding-right: 1em; text-align: center; vertical-align: top\">{'funny': 0, 'useful': 0,<br>'cool': 0} ...</td>\n",
       "        <td style=\"padding-left: 1em; padding-right: 1em; text-align: center; vertical-align: top\">[mr, hoagie, is, an,<br>institution., walking, ...</td>\n",
       "    </tr>\n",
       "    <tr>\n",
       "        <td style=\"padding-left: 1em; padding-right: 1em; text-align: center; vertical-align: top\">Iu6AxdBYGR4A0wspR9BYHA</td>\n",
       "        <td style=\"padding-left: 1em; padding-right: 1em; text-align: center; vertical-align: top\">{'funny': 0, 'useful': 0,<br>'cool': 0} ...</td>\n",
       "        <td style=\"padding-left: 1em; padding-right: 1em; text-align: center; vertical-align: top\">[excellent, food.,<br>superb, customer, ...</td>\n",
       "    </tr>\n",
       "    <tr>\n",
       "        <td style=\"padding-left: 1em; padding-right: 1em; text-align: center; vertical-align: top\">auESFwWvW42h6alXgFxAXQ</td>\n",
       "        <td style=\"padding-left: 1em; padding-right: 1em; text-align: center; vertical-align: top\">{'funny': 0, 'useful': 0,<br>'cool': 0} ...</td>\n",
       "        <td style=\"padding-left: 1em; padding-right: 1em; text-align: center; vertical-align: top\">[yes, this, place, is, a,<br>little, out, dated, and, ...</td>\n",
       "    </tr>\n",
       "    <tr>\n",
       "        <td style=\"padding-left: 1em; padding-right: 1em; text-align: center; vertical-align: top\">uK8tzraOp4M5u3uYrqIBXg</td>\n",
       "        <td style=\"padding-left: 1em; padding-right: 1em; text-align: center; vertical-align: top\">{'funny': 0, 'useful': 0,<br>'cool': 0} ...</td>\n",
       "        <td style=\"padding-left: 1em; padding-right: 1em; text-align: center; vertical-align: top\">[all, the, food, is,<br>great, here., but, the, ...</td>\n",
       "    </tr>\n",
       "    <tr>\n",
       "        <td style=\"padding-left: 1em; padding-right: 1em; text-align: center; vertical-align: top\">I_47G-R2_egp7ME5u_ltew</td>\n",
       "        <td style=\"padding-left: 1em; padding-right: 1em; text-align: center; vertical-align: top\">{'funny': 0, 'useful': 0,<br>'cool': 0} ...</td>\n",
       "        <td style=\"padding-left: 1em; padding-right: 1em; text-align: center; vertical-align: top\">[we, checked, this,<br>place, out, this, past, ...</td>\n",
       "    </tr>\n",
       "    <tr>\n",
       "        <td style=\"padding-left: 1em; padding-right: 1em; text-align: center; vertical-align: top\">PP_xoMSYlGr2pb67BbqBdA</td>\n",
       "        <td style=\"padding-left: 1em; padding-right: 1em; text-align: center; vertical-align: top\">{'funny': 0, 'useful': 0,<br>'cool': 0} ...</td>\n",
       "        <td style=\"padding-left: 1em; padding-right: 1em; text-align: center; vertical-align: top\">[wing, sauce, is, like,<br>water., pretty, much, a, ...</td>\n",
       "    </tr>\n",
       "    <tr>\n",
       "        <td style=\"padding-left: 1em; padding-right: 1em; text-align: center; vertical-align: top\">JPPhyFE-UE453zA6K0TVgw</td>\n",
       "        <td style=\"padding-left: 1em; padding-right: 1em; text-align: center; vertical-align: top\">{'funny': 0, 'useful': 0,<br>'cool': 0} ...</td>\n",
       "        <td style=\"padding-left: 1em; padding-right: 1em; text-align: center; vertical-align: top\">[cold, cheap, beer.,<br>good, bar, food., good, ...</td>\n",
       "    </tr>\n",
       "    <tr>\n",
       "        <td style=\"padding-left: 1em; padding-right: 1em; text-align: center; vertical-align: top\">2d5HeDvZTDUNVog_WuUpSg</td>\n",
       "        <td style=\"padding-left: 1em; padding-right: 1em; text-align: center; vertical-align: top\">{'funny': 0, 'useful': 0,<br>'cool': 0} ...</td>\n",
       "        <td style=\"padding-left: 1em; padding-right: 1em; text-align: center; vertical-align: top\">[i, highly, recommend,<br>this, place., the, ...</td>\n",
       "    </tr>\n",
       "    <tr>\n",
       "        <td style=\"padding-left: 1em; padding-right: 1em; text-align: center; vertical-align: top\">BShxMIUwaJS378xcrz4Nmg</td>\n",
       "        <td style=\"padding-left: 1em; padding-right: 1em; text-align: center; vertical-align: top\">{'funny': 0, 'useful': 0,<br>'cool': 0} ...</td>\n",
       "        <td style=\"padding-left: 1em; padding-right: 1em; text-align: center; vertical-align: top\">[i, am, a, big, believer,<br>in, first, impressions,, ...</td>\n",
       "    </tr>\n",
       "    <tr>\n",
       "        <td style=\"padding-left: 1em; padding-right: 1em; text-align: center; vertical-align: top\">fhNxoMwwTipzjO8A9LFe8Q</td>\n",
       "        <td style=\"padding-left: 1em; padding-right: 1em; text-align: center; vertical-align: top\">{'funny': 0, 'useful': 1,<br>'cool': 0} ...</td>\n",
       "        <td style=\"padding-left: 1em; padding-right: 1em; text-align: center; vertical-align: top\">[decent, range, somewhat,<br>close, to, the, city., ...</td>\n",
       "    </tr>\n",
       "</table>\n",
       "[10 rows x 9 columns]<br/>\n",
       "</div>"
      ],
      "text/plain": [
       "Columns:\n",
       "\tbusiness_id\tstr\n",
       "\tdate\tstr\n",
       "\treview_id\tstr\n",
       "\tstars\tint\n",
       "\ttext\tstr\n",
       "\ttype\tstr\n",
       "\tuser_id\tstr\n",
       "\tvotes\tdict\n",
       "\ttoken.text\tlist\n",
       "\n",
       "Rows: 10\n",
       "\n",
       "Data:\n",
       "+------------------------+------------+------------------------+-------+\n",
       "|      business_id       |    date    |       review_id        | stars |\n",
       "+------------------------+------------+------------------------+-------+\n",
       "| 5UmKMjUEUNdYWqANhGckJw | 2012-08-01 | Ya85v4eqdd6k9Od8HbQjyA |   4   |\n",
       "| 5UmKMjUEUNdYWqANhGckJw | 2014-02-13 | KPvLNJ21_4wbYNctrOwWdQ |   5   |\n",
       "| 5UmKMjUEUNdYWqANhGckJw | 2015-10-31 | fFSoGV46Yxuwbr3fHNuZig |   5   |\n",
       "| UsFtqoBl7naz8AVUBZMjQQ | 2013-11-08 | Di3exaUCFNw1V4kSNW5pgA |   5   |\n",
       "| UsFtqoBl7naz8AVUBZMjQQ | 2014-03-29 | 0Lua2-PbqEQMjD9r89-asw |   3   |\n",
       "| UsFtqoBl7naz8AVUBZMjQQ | 2014-10-29 | 7N9j5YbBHBW6qguE5DAeyA |   1   |\n",
       "| UsFtqoBl7naz8AVUBZMjQQ | 2014-11-28 | mjCJR33jvUNt41iJCxDU_g |   4   |\n",
       "| 3eu6MEFlq2Dg7bQh8QbdOg | 2014-02-27 | Ieh3kfZ-5J9pLju4JiQDvQ |   5   |\n",
       "| 3eu6MEFlq2Dg7bQh8QbdOg | 2015-06-16 | PU28OoBSHpZLkYGCmNxlmg |   5   |\n",
       "| cE27W9VPgO88Qxe4ol6y_g | 2012-08-19 | XsA6AojkWjOHA4FmuAb8XQ |   3   |\n",
       "+------------------------+------------+------------------------+-------+\n",
       "+-------------------------------+--------+------------------------+\n",
       "|              text             |  type  |        user_id         |\n",
       "+-------------------------------+--------+------------------------+\n",
       "| Mr Hoagie is an institutio... | review | PUFPaY9KxDAcGqfsorJp3Q |\n",
       "| Excellent food. Superb cus... | review | Iu6AxdBYGR4A0wspR9BYHA |\n",
       "| Yes this place is a little... | review | auESFwWvW42h6alXgFxAXQ |\n",
       "| All the food is great here... | review | uK8tzraOp4M5u3uYrqIBXg |\n",
       "| We checked this place out ... | review | I_47G-R2_egp7ME5u_ltew |\n",
       "| Wing sauce is like water. ... | review | PP_xoMSYlGr2pb67BbqBdA |\n",
       "| Cold cheap beer. Good bar ... | review | JPPhyFE-UE453zA6K0TVgw |\n",
       "| I highly recommend this pl... | review | 2d5HeDvZTDUNVog_WuUpSg |\n",
       "| I am a big believer in fir... | review | BShxMIUwaJS378xcrz4Nmg |\n",
       "| Decent range somewhat clos... | review | fhNxoMwwTipzjO8A9LFe8Q |\n",
       "+-------------------------------+--------+------------------------+\n",
       "+-------------------------------+-------------------------------+\n",
       "|             votes             |           token.text          |\n",
       "+-------------------------------+-------------------------------+\n",
       "| {'funny': 0, 'useful': 0, ... | [mr, hoagie, is, an, insti... |\n",
       "| {'funny': 0, 'useful': 0, ... | [excellent, food., superb,... |\n",
       "| {'funny': 0, 'useful': 0, ... | [yes, this, place, is, a, ... |\n",
       "| {'funny': 0, 'useful': 0, ... | [all, the, food, is, great... |\n",
       "| {'funny': 0, 'useful': 0, ... | [we, checked, this, place,... |\n",
       "| {'funny': 0, 'useful': 0, ... | [wing, sauce, is, like, wa... |\n",
       "| {'funny': 0, 'useful': 0, ... | [cold, cheap, beer., good,... |\n",
       "| {'funny': 0, 'useful': 0, ... | [i, highly, recommend, thi... |\n",
       "| {'funny': 0, 'useful': 0, ... | [i, am, a, big, believer, ... |\n",
       "| {'funny': 0, 'useful': 1, ... | [decent, range, somewhat, ... |\n",
       "+-------------------------------+-------------------------------+\n",
       "[10 rows x 9 columns]"
      ]
     },
     "execution_count": 20,
     "metadata": {},
     "output_type": "execute_result"
    }
   ],
   "source": [
    "tokenized_reviews.head()"
   ]
  },
  {
   "cell_type": "code",
   "execution_count": 51,
   "metadata": {
    "collapsed": false
   },
   "outputs": [],
   "source": [
    "# Selecting reviews with burgers in them\n",
    "br = tokenized_reviews[tokenized_reviews['token.text'].apply(lambda x: 'burger' in set(x))]\n"
   ]
  },
  {
   "cell_type": "code",
   "execution_count": 58,
   "metadata": {
    "collapsed": false
   },
   "outputs": [
    {
     "name": "stdout",
     "output_type": "stream",
     "text": [
      "Number of reviews which have burgers in them: 67098\n"
     ]
    }
   ],
   "source": [
    "print \"Number of reviews which have burgers in them: {}\".format(len(br))"
   ]
  },
  {
   "cell_type": "code",
   "execution_count": 126,
   "metadata": {
    "collapsed": true
   },
   "outputs": [],
   "source": [
    "brc = sm.classify(br)"
   ]
  },
  {
   "cell_type": "code",
   "execution_count": 127,
   "metadata": {
    "collapsed": false
   },
   "outputs": [],
   "source": [
    "# Joining the classified output with the original burger review dataset\n",
    "brc['review_id'] = br['review_id']\n",
    "brc = br.join(brc, on='review_id')"
   ]
  },
  {
   "cell_type": "code",
   "execution_count": 130,
   "metadata": {
    "collapsed": false
   },
   "outputs": [],
   "source": [
    "avg_pn_ratings_by_business = brc.groupby(['business_id', 'class'], {'count':gl.aggregate.COUNT('probability'),'avg':gl.aggregate.AVG('probability')})"
   ]
  },
  {
   "cell_type": "markdown",
   "metadata": {},
   "source": [
    "### Summarizing the number of ratings and sentiment probabilities from Burger reviews"
   ]
  },
  {
   "cell_type": "code",
   "execution_count": 131,
   "metadata": {
    "collapsed": false
   },
   "outputs": [
    {
     "data": {
      "text/plain": [
       "\n",
       "+------------------+-------+----------+\n",
       "|       item       | value | is exact |\n",
       "+------------------+-------+----------+\n",
       "|      Length      | 10527 |   Yes    |\n",
       "| # Missing Values |   0   |   Yes    |\n",
       "| # unique values  |  7650 |    No    |\n",
       "+------------------+-------+----------+\n",
       "\n",
       "Most frequent items:\n",
       "+-------+------------------------+------------------------+------------------------+\n",
       "| value | 2Mx-_HtveweqRVOyHtiSuQ | BwQiwAZTHjmoBY0yO06inQ | jqZKv-7F54guDLalXEjHxg |\n",
       "+-------+------------------------+------------------------+------------------------+\n",
       "| count |           3            |           3            |           3            |\n",
       "+-------+------------------------+------------------------+------------------------+\n",
       "+------------------------+------------------------+------------------------+------------------------+\n",
       "| WaO_hAunQrZ--vI308rHQA | yJDSMugu_Pom3pJE8MRrJA | 77pQVPhksTpz-Yz8v4bK_A | 6BuCNx2gO_GYiXm2KRdMXQ |\n",
       "+------------------------+------------------------+------------------------+------------------------+\n",
       "|           3            |           2            |           2            |           2            |\n",
       "+------------------------+------------------------+------------------------+------------------------+\n",
       "+------------------------+------------------------+------------------------+\n",
       "| aHGcI-KGitnGRco_D_I9Ag | MFPk16G7fAxnCKTyfjw8Vw | M9H8mz7D16W6VVCRO8OgAA |\n",
       "+------------------------+------------------------+------------------------+\n",
       "|           2            |           2            |           2            |\n",
       "+------------------------+------------------------+------------------------+\n"
      ]
     },
     "execution_count": 131,
     "metadata": {},
     "output_type": "execute_result"
    }
   ],
   "source": [
    "avg_pn_ratings_by_business['business_id'].sketch_summary()"
   ]
  },
  {
   "cell_type": "code",
   "execution_count": 134,
   "metadata": {
    "collapsed": false
   },
   "outputs": [
    {
     "data": {
      "text/plain": [
       "\n",
       "+--------------------+---------------+----------+\n",
       "|        item        |     value     | is exact |\n",
       "+--------------------+---------------+----------+\n",
       "|       Length       |      4283     |   Yes    |\n",
       "|        Min         |      1.0      |   Yes    |\n",
       "|        Max         |     458.0     |   Yes    |\n",
       "|        Mean        | 3.83703011908 |   Yes    |\n",
       "|        Sum         |    16434.0    |   Yes    |\n",
       "|      Variance      | 136.978810886 |   Yes    |\n",
       "| Standard Deviation | 11.7037947216 |   Yes    |\n",
       "|  # Missing Values  |       0       |   Yes    |\n",
       "|  # unique values   |       65      |    No    |\n",
       "+--------------------+---------------+----------+\n",
       "\n",
       "Most frequent items:\n",
       "+-------+------+-----+-----+-----+-----+----+----+----+----+----+\n",
       "| value |  1   |  2  |  3  |  4  |  5  | 6  | 7  | 8  | 9  | 10 |\n",
       "+-------+------+-----+-----+-----+-----+----+----+----+----+----+\n",
       "| count | 2182 | 737 | 392 | 200 | 167 | 98 | 83 | 70 | 44 | 41 |\n",
       "+-------+------+-----+-----+-----+-----+----+----+----+----+----+\n",
       "\n",
       "Quantiles: \n",
       "+-----+-----+-----+-----+-----+-----+------+------+-------+\n",
       "|  0% |  1% |  5% | 25% | 50% | 75% | 95%  | 99%  |  100% |\n",
       "+-----+-----+-----+-----+-----+-----+------+------+-------+\n",
       "| 1.0 | 1.0 | 1.0 | 1.0 | 1.0 | 3.0 | 12.0 | 33.0 | 458.0 |\n",
       "+-----+-----+-----+-----+-----+-----+------+------+-------+"
      ]
     },
     "execution_count": 134,
     "metadata": {},
     "output_type": "execute_result"
    }
   ],
   "source": [
    "# summary of counts/business of negative reviews\n",
    "avg_pn_ratings_by_business[avg_pn_ratings_by_business['class']==0]['count'].sketch_summary()\n"
   ]
  },
  {
   "cell_type": "code",
   "execution_count": 135,
   "metadata": {
    "collapsed": false
   },
   "outputs": [
    {
     "data": {
      "text/plain": [
       "\n",
       "+--------------------+---------------+----------+\n",
       "|        item        |     value     | is exact |\n",
       "+--------------------+---------------+----------+\n",
       "|       Length       |      6244     |   Yes    |\n",
       "|        Min         |      1.0      |   Yes    |\n",
       "|        Max         |     1872.0    |   Yes    |\n",
       "|        Mean        | 8.11402946829 |   Yes    |\n",
       "|        Sum         |    50664.0    |   Yes    |\n",
       "|      Variance      | 1776.93895116 |   Yes    |\n",
       "| Standard Deviation | 42.1537537018 |   Yes    |\n",
       "|  # Missing Values  |       0       |   Yes    |\n",
       "|  # unique values   |      141      |    No    |\n",
       "+--------------------+---------------+----------+\n",
       "\n",
       "Most frequent items:\n",
       "+-------+------+------+-----+-----+-----+-----+-----+-----+----+----+\n",
       "| value |  1   |  2   |  3  |  4  |  5  |  6  |  8  |  7  | 10 | 9  |\n",
       "+-------+------+------+-----+-----+-----+-----+-----+-----+----+----+\n",
       "| count | 2789 | 1007 | 532 | 309 | 229 | 160 | 116 | 116 | 81 | 79 |\n",
       "+-------+------+------+-----+-----+-----+-----+-----+-----+----+----+\n",
       "\n",
       "Quantiles: \n",
       "+-----+-----+-----+-----+-----+-----+------+------+--------+\n",
       "|  0% |  1% |  5% | 25% | 50% | 75% | 95%  | 99%  |  100%  |\n",
       "+-----+-----+-----+-----+-----+-----+------+------+--------+\n",
       "| 1.0 | 1.0 | 1.0 | 1.0 | 2.0 | 5.0 | 28.0 | 99.0 | 1872.0 |\n",
       "+-----+-----+-----+-----+-----+-----+------+------+--------+"
      ]
     },
     "execution_count": 135,
     "metadata": {},
     "output_type": "execute_result"
    }
   ],
   "source": [
    "# Summary of counts/review of positive reviews\n",
    "avg_pn_ratings_by_business[avg_pn_ratings_by_business['class']==1]['count'].sketch_summary()"
   ]
  },
  {
   "cell_type": "code",
   "execution_count": 138,
   "metadata": {
    "collapsed": false
   },
   "outputs": [
    {
     "data": {
      "text/plain": [
       "\n",
       "+--------------------+---------------+----------+\n",
       "|        item        |     value     | is exact |\n",
       "+--------------------+---------------+----------+\n",
       "|       Length       |      7616     |   Yes    |\n",
       "|        Min         |      1.0      |   Yes    |\n",
       "|        Max         |     2330.0    |   Yes    |\n",
       "|        Mean        | 8.81013655462 |   Yes    |\n",
       "|        Sum         |    67098.0    |   Yes    |\n",
       "|      Variance      | 2166.73180901 |   Yes    |\n",
       "| Standard Deviation | 46.5481665484 |   Yes    |\n",
       "|  # Missing Values  |       0       |   Yes    |\n",
       "|  # unique values   |      166      |    No    |\n",
       "+--------------------+---------------+----------+\n",
       "\n",
       "Most frequent items:\n",
       "+-------+------+------+-----+-----+-----+-----+-----+-----+-----+----+\n",
       "| value |  1   |  2   |  3  |  4  |  5  |  6  |  7  |  8  |  9  | 10 |\n",
       "+-------+------+------+-----+-----+-----+-----+-----+-----+-----+----+\n",
       "| count | 3260 | 1195 | 681 | 407 | 267 | 215 | 165 | 134 | 119 | 87 |\n",
       "+-------+------+------+-----+-----+-----+-----+-----+-----+-----+----+\n",
       "\n",
       "Quantiles: \n",
       "+-----+-----+-----+-----+-----+-----+------+-------+--------+\n",
       "|  0% |  1% |  5% | 25% | 50% | 75% | 95%  |  99%  |  100%  |\n",
       "+-----+-----+-----+-----+-----+-----+------+-------+--------+\n",
       "| 1.0 | 1.0 | 1.0 | 1.0 | 2.0 | 5.0 | 31.0 | 107.0 | 2330.0 |\n",
       "+-----+-----+-----+-----+-----+-----+------+-------+--------+"
      ]
     },
     "execution_count": 138,
     "metadata": {},
     "output_type": "execute_result"
    }
   ],
   "source": [
    "\n",
    "count_ratings = brc.groupby('business_id', {'count':gl.aggregate.COUNT('probability')})\n",
    "count_ratings['count'].sketch_summary()"
   ]
  },
  {
   "cell_type": "code",
   "execution_count": 139,
   "metadata": {
    "collapsed": false
   },
   "outputs": [
    {
     "data": {
      "text/plain": [
       "375"
      ]
     },
     "execution_count": 139,
     "metadata": {},
     "output_type": "execute_result"
    }
   ],
   "source": [
    "len(count_ratings[count_ratings['count']>31])"
   ]
  },
  {
   "cell_type": "markdown",
   "metadata": {},
   "source": [
    "#### Notes\n",
    "- There are 7650 unique businesses which have reviews of burgers\n",
    "- only 375 businesses have more than 31 reviews for burgers \n",
    "- Number of positive reviews/business ranges from 1 to 1872\n",
    "- Number of negative reviews/business ranges from 1 to 458 "
   ]
  },
  {
   "cell_type": "code",
   "execution_count": 137,
   "metadata": {
    "collapsed": false
   },
   "outputs": [
    {
     "data": {
      "text/plain": [
       "\n",
       "+--------------------+---------------+----------+\n",
       "|        item        |     value     | is exact |\n",
       "+--------------------+---------------+----------+\n",
       "|       Length       |      7616     |   Yes    |\n",
       "|        Min         |      1.0      |   Yes    |\n",
       "|        Max         |     2330.0    |   Yes    |\n",
       "|        Mean        | 8.81013655462 |   Yes    |\n",
       "|        Sum         |    67098.0    |   Yes    |\n",
       "|      Variance      | 2166.73180901 |   Yes    |\n",
       "| Standard Deviation | 46.5481665484 |   Yes    |\n",
       "|  # Missing Values  |       0       |   Yes    |\n",
       "|  # unique values   |      166      |    No    |\n",
       "+--------------------+---------------+----------+\n",
       "\n",
       "Most frequent items:\n",
       "+-------+------+------+-----+-----+-----+-----+-----+-----+-----+----+\n",
       "| value |  1   |  2   |  3  |  4  |  5  |  6  |  7  |  8  |  9  | 10 |\n",
       "+-------+------+------+-----+-----+-----+-----+-----+-----+-----+----+\n",
       "| count | 3260 | 1195 | 681 | 407 | 267 | 215 | 165 | 134 | 119 | 87 |\n",
       "+-------+------+------+-----+-----+-----+-----+-----+-----+-----+----+\n",
       "\n",
       "Quantiles: \n",
       "+-----+-----+-----+-----+-----+-----+------+-------+--------+\n",
       "|  0% |  1% |  5% | 25% | 50% | 75% | 95%  |  99%  |  100%  |\n",
       "+-----+-----+-----+-----+-----+-----+------+-------+--------+\n",
       "| 1.0 | 1.0 | 1.0 | 1.0 | 2.0 | 5.0 | 31.0 | 107.0 | 2330.0 |\n",
       "+-----+-----+-----+-----+-----+-----+------+-------+--------+"
      ]
     },
     "execution_count": 137,
     "metadata": {},
     "output_type": "execute_result"
    }
   ],
   "source": []
  },
  {
   "cell_type": "code",
   "execution_count": 118,
   "metadata": {
    "collapsed": false
   },
   "outputs": [
    {
     "data": {
      "text/html": [
       "<pre>Finished parsing file /Users/mayankkedia/Documents/Jobs/Dato/yelp_dataset_challenge_academic_dataset/yelp_academic_dataset_business.json</pre>"
      ],
      "text/plain": [
       "Finished parsing file /Users/mayankkedia/Documents/Jobs/Dato/yelp_dataset_challenge_academic_dataset/yelp_academic_dataset_business.json"
      ]
     },
     "metadata": {},
     "output_type": "display_data"
    },
    {
     "data": {
      "text/html": [
       "<pre>Parsing completed. Parsed 100 lines in 1.70849 secs.</pre>"
      ],
      "text/plain": [
       "Parsing completed. Parsed 100 lines in 1.70849 secs."
      ]
     },
     "metadata": {},
     "output_type": "display_data"
    },
    {
     "name": "stdout",
     "output_type": "stream",
     "text": [
      "------------------------------------------------------\n",
      "Inferred types from first 100 line(s) of file as \n",
      "column_type_hints=[dict]\n",
      "If parsing fails due to incorrect types, you can correct\n",
      "the inferred type list above and pass it to read_csv in\n",
      "the column_type_hints argument\n",
      "------------------------------------------------------\n"
     ]
    },
    {
     "data": {
      "text/html": [
       "<pre>Read 59239 lines. Lines per second: 24780.7</pre>"
      ],
      "text/plain": [
       "Read 59239 lines. Lines per second: 24780.7"
      ]
     },
     "metadata": {},
     "output_type": "display_data"
    },
    {
     "data": {
      "text/html": [
       "<pre>Finished parsing file /Users/mayankkedia/Documents/Jobs/Dato/yelp_dataset_challenge_academic_dataset/yelp_academic_dataset_business.json</pre>"
      ],
      "text/plain": [
       "Finished parsing file /Users/mayankkedia/Documents/Jobs/Dato/yelp_dataset_challenge_academic_dataset/yelp_academic_dataset_business.json"
      ]
     },
     "metadata": {},
     "output_type": "display_data"
    },
    {
     "data": {
      "text/html": [
       "<pre>Parsing completed. Parsed 77445 lines in 2.70513 secs.</pre>"
      ],
      "text/plain": [
       "Parsing completed. Parsed 77445 lines in 2.70513 secs."
      ]
     },
     "metadata": {},
     "output_type": "display_data"
    }
   ],
   "source": [
    "businesses = gl.SFrame.read_json('yelp_dataset_challenge_academic_dataset/yelp_academic_dataset_business.json', orient='lines')"
   ]
  },
  {
   "cell_type": "code",
   "execution_count": 120,
   "metadata": {
    "collapsed": false
   },
   "outputs": [
    {
     "data": {
      "text/html": [
       "<div style=\"max-height:1000px;max-width:1500px;overflow:auto;\"><table frame=\"box\" rules=\"cols\">\n",
       "    <tr>\n",
       "        <th style=\"padding-left: 1em; padding-right: 1em; text-align: center\">attributes</th>\n",
       "        <th style=\"padding-left: 1em; padding-right: 1em; text-align: center\">business_id</th>\n",
       "        <th style=\"padding-left: 1em; padding-right: 1em; text-align: center\">categories</th>\n",
       "        <th style=\"padding-left: 1em; padding-right: 1em; text-align: center\">city</th>\n",
       "        <th style=\"padding-left: 1em; padding-right: 1em; text-align: center\">full_address</th>\n",
       "    </tr>\n",
       "    <tr>\n",
       "        <td style=\"padding-left: 1em; padding-right: 1em; text-align: center; vertical-align: top\">{'Take-out': 'true',<br>'Accepts Credit Cards': ...</td>\n",
       "        <td style=\"padding-left: 1em; padding-right: 1em; text-align: center; vertical-align: top\">aGbjLWzcrnEx2ZmMCFm3EA</td>\n",
       "        <td style=\"padding-left: 1em; padding-right: 1em; text-align: center; vertical-align: top\">[Burgers, Restaurants]</td>\n",
       "        <td style=\"padding-left: 1em; padding-right: 1em; text-align: center; vertical-align: top\">Las Vegas</td>\n",
       "        <td style=\"padding-left: 1em; padding-right: 1em; text-align: center; vertical-align: top\">Planet Hollywood Las<br>Vegas Resort &amp; ...</td>\n",
       "    </tr>\n",
       "</table>\n",
       "<table frame=\"box\" rules=\"cols\">\n",
       "    <tr>\n",
       "        <th style=\"padding-left: 1em; padding-right: 1em; text-align: center\">hours</th>\n",
       "        <th style=\"padding-left: 1em; padding-right: 1em; text-align: center\">latitude</th>\n",
       "        <th style=\"padding-left: 1em; padding-right: 1em; text-align: center\">longitude</th>\n",
       "        <th style=\"padding-left: 1em; padding-right: 1em; text-align: center\">name</th>\n",
       "        <th style=\"padding-left: 1em; padding-right: 1em; text-align: center\">neighborhoods</th>\n",
       "        <th style=\"padding-left: 1em; padding-right: 1em; text-align: center\">open</th>\n",
       "        <th style=\"padding-left: 1em; padding-right: 1em; text-align: center\">review_count</th>\n",
       "    </tr>\n",
       "    <tr>\n",
       "        <td style=\"padding-left: 1em; padding-right: 1em; text-align: center; vertical-align: top\">{'Monday': {'close':<br>'00:00', 'open': ...</td>\n",
       "        <td style=\"padding-left: 1em; padding-right: 1em; text-align: center; vertical-align: top\">36.1101083959</td>\n",
       "        <td style=\"padding-left: 1em; padding-right: 1em; text-align: center; vertical-align: top\">-115.172338486</td>\n",
       "        <td style=\"padding-left: 1em; padding-right: 1em; text-align: center; vertical-align: top\">Gordon Ramsay BurGR</td>\n",
       "        <td style=\"padding-left: 1em; padding-right: 1em; text-align: center; vertical-align: top\">[The Strip]</td>\n",
       "        <td style=\"padding-left: 1em; padding-right: 1em; text-align: center; vertical-align: top\">true</td>\n",
       "        <td style=\"padding-left: 1em; padding-right: 1em; text-align: center; vertical-align: top\">3811</td>\n",
       "    </tr>\n",
       "</table>\n",
       "<table frame=\"box\" rules=\"cols\">\n",
       "    <tr>\n",
       "        <th style=\"padding-left: 1em; padding-right: 1em; text-align: center\">stars</th>\n",
       "        <th style=\"padding-left: 1em; padding-right: 1em; text-align: center\">state</th>\n",
       "        <th style=\"padding-left: 1em; padding-right: 1em; text-align: center\">type</th>\n",
       "    </tr>\n",
       "    <tr>\n",
       "        <td style=\"padding-left: 1em; padding-right: 1em; text-align: center; vertical-align: top\">4.0</td>\n",
       "        <td style=\"padding-left: 1em; padding-right: 1em; text-align: center; vertical-align: top\">NV</td>\n",
       "        <td style=\"padding-left: 1em; padding-right: 1em; text-align: center; vertical-align: top\">business</td>\n",
       "    </tr>\n",
       "</table>\n",
       "[? rows x 15 columns]<br/>Note: Only the head of the SFrame is printed. This SFrame is lazily evaluated.<br/>You can use sf.materialize() to force materialization.\n",
       "</div>"
      ],
      "text/plain": [
       "Columns:\n",
       "\tattributes\tdict\n",
       "\tbusiness_id\tstr\n",
       "\tcategories\tlist\n",
       "\tcity\tstr\n",
       "\tfull_address\tstr\n",
       "\thours\tdict\n",
       "\tlatitude\tfloat\n",
       "\tlongitude\tfloat\n",
       "\tname\tstr\n",
       "\tneighborhoods\tlist\n",
       "\topen\tstr\n",
       "\treview_count\tint\n",
       "\tstars\tfloat\n",
       "\tstate\tstr\n",
       "\ttype\tstr\n",
       "\n",
       "Rows: Unknown\n",
       "\n",
       "Data:\n",
       "+-------------------------------+------------------------+\n",
       "|           attributes          |      business_id       |\n",
       "+-------------------------------+------------------------+\n",
       "| {'Take-out': 'true', 'Acce... | aGbjLWzcrnEx2ZmMCFm3EA |\n",
       "+-------------------------------+------------------------+\n",
       "+------------------------+-----------+-------------------------------+\n",
       "|       categories       |    city   |          full_address         |\n",
       "+------------------------+-----------+-------------------------------+\n",
       "| [Burgers, Restaurants] | Las Vegas | Planet Hollywood Las Vegas... |\n",
       "+------------------------+-----------+-------------------------------+\n",
       "+-------------------------------+---------------+----------------+\n",
       "|             hours             |    latitude   |   longitude    |\n",
       "+-------------------------------+---------------+----------------+\n",
       "| {'Monday': {'close': '00:0... | 36.1101083959 | -115.172338486 |\n",
       "+-------------------------------+---------------+----------------+\n",
       "+---------------------+---------------+------+--------------+-------+-------+\n",
       "|         name        | neighborhoods | open | review_count | stars | state |\n",
       "+---------------------+---------------+------+--------------+-------+-------+\n",
       "| Gordon Ramsay BurGR |  [The Strip]  | true |     3811     |  4.0  |   NV  |\n",
       "+---------------------+---------------+------+--------------+-------+-------+\n",
       "+----------+\n",
       "|   type   |\n",
       "+----------+\n",
       "| business |\n",
       "+----------+\n",
       "[? rows x 15 columns]\n",
       "Note: Only the head of the SFrame is printed. This SFrame is lazily evaluated.\n",
       "You can use sf.materialize() to force materialization."
      ]
     },
     "execution_count": 120,
     "metadata": {},
     "output_type": "execute_result"
    }
   ],
   "source": [
    "businesses[businesses['business_id']=='aGbjLWzcrnEx2ZmMCFm3EA']"
   ]
  },
  {
   "cell_type": "code",
   "execution_count": null,
   "metadata": {
    "collapsed": true
   },
   "outputs": [],
   "source": []
  },
  {
   "cell_type": "code",
   "execution_count": null,
   "metadata": {
    "collapsed": true
   },
   "outputs": [],
   "source": []
  },
  {
   "cell_type": "code",
   "execution_count": null,
   "metadata": {
    "collapsed": true
   },
   "outputs": [],
   "source": []
  },
  {
   "cell_type": "code",
   "execution_count": null,
   "metadata": {
    "collapsed": true
   },
   "outputs": [],
   "source": []
  },
  {
   "cell_type": "code",
   "execution_count": null,
   "metadata": {
    "collapsed": true
   },
   "outputs": [],
   "source": []
  },
  {
   "cell_type": "code",
   "execution_count": null,
   "metadata": {
    "collapsed": true
   },
   "outputs": [],
   "source": []
  },
  {
   "cell_type": "code",
   "execution_count": null,
   "metadata": {
    "collapsed": true
   },
   "outputs": [],
   "source": []
  }
 ],
 "metadata": {
  "kernelspec": {
   "display_name": "Python 2",
   "language": "python",
   "name": "python2"
  },
  "language_info": {
   "codemirror_mode": {
    "name": "ipython",
    "version": 2
   },
   "file_extension": ".py",
   "mimetype": "text/x-python",
   "name": "python",
   "nbconvert_exporter": "python",
   "pygments_lexer": "ipython2",
   "version": "2.7.11"
  }
 },
 "nbformat": 4,
 "nbformat_minor": 0
}
