{
 "cells": [
  {
   "cell_type": "code",
   "execution_count": 1,
   "metadata": {
    "collapsed": false
   },
   "outputs": [
    {
     "name": "stdout",
     "output_type": "stream",
     "text": [
      "This non-commercial license of GraphLab Create is assigned to mkkedia@dons.usfca.edu and will expire on May 31, 2017. For commercial licensing options, visit https://dato.com/buy/.\n"
     ]
    },
    {
     "name": "stderr",
     "output_type": "stream",
     "text": [
      "[INFO] graphlab.cython.cy_server: GraphLab Create v1.10 started. Logging: /tmp/graphlab_server_1465267478.log\n"
     ]
    }
   ],
   "source": [
    "import graphlab as gl\n",
    "import matplotlib.pyplot as plt\n",
    "%matplotlib inline\n"
   ]
  },
  {
   "cell_type": "code",
   "execution_count": 2,
   "metadata": {
    "collapsed": false
   },
   "outputs": [],
   "source": [
    "reviews = gl.load_sframe(\"yelp_dataset_challenge_academic_dataset/reviews/\")"
   ]
  },
  {
   "cell_type": "code",
   "execution_count": 3,
   "metadata": {
    "collapsed": false
   },
   "outputs": [
    {
     "name": "stdout",
     "output_type": "stream",
     "text": [
      "PROGRESS: Creating a validation set from 5 percent of training data. This may take a while.\n",
      "          You can set ``validation_set=None`` to disable validation tracking.\n",
      "\n"
     ]
    },
    {
     "data": {
      "text/html": [
       "<pre>Logistic regression:</pre>"
      ],
      "text/plain": [
       "Logistic regression:"
      ]
     },
     "metadata": {},
     "output_type": "display_data"
    },
    {
     "data": {
      "text/html": [
       "<pre>--------------------------------------------------------</pre>"
      ],
      "text/plain": [
       "--------------------------------------------------------"
      ]
     },
     "metadata": {},
     "output_type": "display_data"
    },
    {
     "data": {
      "text/html": [
       "<pre>Number of examples          : 1846052</pre>"
      ],
      "text/plain": [
       "Number of examples          : 1846052"
      ]
     },
     "metadata": {},
     "output_type": "display_data"
    },
    {
     "data": {
      "text/html": [
       "<pre>Number of classes           : 2</pre>"
      ],
      "text/plain": [
       "Number of classes           : 2"
      ]
     },
     "metadata": {},
     "output_type": "display_data"
    },
    {
     "data": {
      "text/html": [
       "<pre>Number of feature columns   : 1</pre>"
      ],
      "text/plain": [
       "Number of feature columns   : 1"
      ]
     },
     "metadata": {},
     "output_type": "display_data"
    },
    {
     "data": {
      "text/html": [
       "<pre>Number of unpacked features : 1798457</pre>"
      ],
      "text/plain": [
       "Number of unpacked features : 1798457"
      ]
     },
     "metadata": {},
     "output_type": "display_data"
    },
    {
     "data": {
      "text/html": [
       "<pre>Number of coefficients    : 1798458</pre>"
      ],
      "text/plain": [
       "Number of coefficients    : 1798458"
      ]
     },
     "metadata": {},
     "output_type": "display_data"
    },
    {
     "data": {
      "text/html": [
       "<pre>Starting L-BFGS</pre>"
      ],
      "text/plain": [
       "Starting L-BFGS"
      ]
     },
     "metadata": {},
     "output_type": "display_data"
    },
    {
     "data": {
      "text/html": [
       "<pre>--------------------------------------------------------</pre>"
      ],
      "text/plain": [
       "--------------------------------------------------------"
      ]
     },
     "metadata": {},
     "output_type": "display_data"
    },
    {
     "data": {
      "text/html": [
       "<pre>+-----------+----------+-----------+--------------+-------------------+---------------------+</pre>"
      ],
      "text/plain": [
       "+-----------+----------+-----------+--------------+-------------------+---------------------+"
      ]
     },
     "metadata": {},
     "output_type": "display_data"
    },
    {
     "data": {
      "text/html": [
       "<pre>| Iteration | Passes   | Step size | Elapsed Time | Training-accuracy | Validation-accuracy |</pre>"
      ],
      "text/plain": [
       "| Iteration | Passes   | Step size | Elapsed Time | Training-accuracy | Validation-accuracy |"
      ]
     },
     "metadata": {},
     "output_type": "display_data"
    },
    {
     "data": {
      "text/html": [
       "<pre>+-----------+----------+-----------+--------------+-------------------+---------------------+</pre>"
      ],
      "text/plain": [
       "+-----------+----------+-----------+--------------+-------------------+---------------------+"
      ]
     },
     "metadata": {},
     "output_type": "display_data"
    },
    {
     "data": {
      "text/html": [
       "<pre>| 1         | 6        | 0.000000  | 29.122867    | 0.768701          | 0.767832            |</pre>"
      ],
      "text/plain": [
       "| 1         | 6        | 0.000000  | 29.122867    | 0.768701          | 0.767832            |"
      ]
     },
     "metadata": {},
     "output_type": "display_data"
    },
    {
     "data": {
      "text/html": [
       "<pre>| 2         | 9        | 5.000000  | 46.279792    | 0.937006          | 0.915916            |</pre>"
      ],
      "text/plain": [
       "| 2         | 9        | 5.000000  | 46.279792    | 0.937006          | 0.915916            |"
      ]
     },
     "metadata": {},
     "output_type": "display_data"
    },
    {
     "data": {
      "text/html": [
       "<pre>| 3         | 10       | 5.000000  | 54.198667    | 0.935495          | 0.909012            |</pre>"
      ],
      "text/plain": [
       "| 3         | 10       | 5.000000  | 54.198667    | 0.935495          | 0.909012            |"
      ]
     },
     "metadata": {},
     "output_type": "display_data"
    },
    {
     "data": {
      "text/html": [
       "<pre>| 4         | 11       | 5.000000  | 62.072014    | 0.919187          | 0.889774            |</pre>"
      ],
      "text/plain": [
       "| 4         | 11       | 5.000000  | 62.072014    | 0.919187          | 0.889774            |"
      ]
     },
     "metadata": {},
     "output_type": "display_data"
    },
    {
     "data": {
      "text/html": [
       "<pre>| 5         | 13       | 1.000000  | 74.956312    | 0.963730          | 0.937658            |</pre>"
      ],
      "text/plain": [
       "| 5         | 13       | 1.000000  | 74.956312    | 0.963730          | 0.937658            |"
      ]
     },
     "metadata": {},
     "output_type": "display_data"
    },
    {
     "data": {
      "text/html": [
       "<pre>| 6         | 14       | 1.000000  | 82.853391    | 0.971311          | 0.944387            |</pre>"
      ],
      "text/plain": [
       "| 6         | 14       | 1.000000  | 82.853391    | 0.971311          | 0.944387            |"
      ]
     },
     "metadata": {},
     "output_type": "display_data"
    },
    {
     "data": {
      "text/html": [
       "<pre>| 7         | 15       | 1.000000  | 90.831957    | 0.972717          | 0.944665            |</pre>"
      ],
      "text/plain": [
       "| 7         | 15       | 1.000000  | 90.831957    | 0.972717          | 0.944665            |"
      ]
     },
     "metadata": {},
     "output_type": "display_data"
    },
    {
     "data": {
      "text/html": [
       "<pre>| 8         | 16       | 1.000000  | 99.232029    | 0.976188          | 0.944872            |</pre>"
      ],
      "text/plain": [
       "| 8         | 16       | 1.000000  | 99.232029    | 0.976188          | 0.944872            |"
      ]
     },
     "metadata": {},
     "output_type": "display_data"
    },
    {
     "data": {
      "text/html": [
       "<pre>| 9         | 17       | 1.000000  | 107.496224   | 0.979251          | 0.945655            |</pre>"
      ],
      "text/plain": [
       "| 9         | 17       | 1.000000  | 107.496224   | 0.979251          | 0.945655            |"
      ]
     },
     "metadata": {},
     "output_type": "display_data"
    },
    {
     "data": {
      "text/html": [
       "<pre>| 10        | 18       | 1.000000  | 115.889664   | 0.984771          | 0.946479            |</pre>"
      ],
      "text/plain": [
       "| 10        | 18       | 1.000000  | 115.889664   | 0.984771          | 0.946479            |"
      ]
     },
     "metadata": {},
     "output_type": "display_data"
    },
    {
     "data": {
      "text/html": [
       "<pre>+-----------+----------+-----------+--------------+-------------------+---------------------+</pre>"
      ],
      "text/plain": [
       "+-----------+----------+-----------+--------------+-------------------+---------------------+"
      ]
     },
     "metadata": {},
     "output_type": "display_data"
    },
    {
     "data": {
      "text/html": [
       "<pre>TERMINATED: Iteration limit reached.</pre>"
      ],
      "text/plain": [
       "TERMINATED: Iteration limit reached."
      ]
     },
     "metadata": {},
     "output_type": "display_data"
    },
    {
     "data": {
      "text/html": [
       "<pre>This model may not be optimal. To improve it, consider increasing `max_iterations`.</pre>"
      ],
      "text/plain": [
       "This model may not be optimal. To improve it, consider increasing `max_iterations`."
      ]
     },
     "metadata": {},
     "output_type": "display_data"
    }
   ],
   "source": [
    "sm = gl.sentiment_analysis.create(reviews, 'stars', ['text'])"
   ]
  },
  {
   "cell_type": "code",
   "execution_count": 4,
   "metadata": {
    "collapsed": false
   },
   "outputs": [
    {
     "name": "stdout",
     "output_type": "stream",
     "text": [
      "Class                         : LogisticClassifier\n",
      "\n",
      "Schema\n",
      "------\n",
      "Number of coefficients        : 1798458\n",
      "Number of examples            : 1846052\n",
      "Number of classes             : 2\n",
      "Number of feature columns     : 1\n",
      "Number of unpacked features   : 1798457\n",
      "\n",
      "Hyperparameters\n",
      "---------------\n",
      "L1 penalty                    : 0.0\n",
      "L2 penalty                    : 0.2\n",
      "\n",
      "Training Summary\n",
      "----------------\n",
      "Solver                        : lbfgs\n",
      "Solver iterations             : 10\n",
      "Solver status                 : TERMINATED: Iteration limit reached.\n",
      "Training time (sec)           : 119.0668\n",
      "\n",
      "Settings\n",
      "--------\n",
      "Log-likelihood                : 102005.0458\n",
      "\n",
      "Highest Positive Coefficients\n",
      "-----------------------------\n",
      "text[\"issues]                 : 21.8941\n",
      "text[streaming/gaming.]       : 18.0119\n",
      "text[erbi]                    : 14.7278\n",
      "text[180!!!]                  : 14.0099\n",
      "text[resurfacing!]            : 13.9945\n",
      "\n",
      "Lowest Negative Coefficients\n",
      "----------------------------\n",
      "text[historical/cozy/older]   : -21.626\n",
      "text[instructs)]              : -16.1959\n",
      "text[directions....just]      : -16.1303\n",
      "text[seaweed/rice).]          : -14.6935\n",
      "text[266]                     : -14.3772\n",
      "\n"
     ]
    }
   ],
   "source": [
    "sm.summary()"
   ]
  },
  {
   "cell_type": "code",
   "execution_count": 13,
   "metadata": {
    "collapsed": false
   },
   "outputs": [
    {
     "data": {
      "text/plain": [
       "['text[down]',\n",
       " 'text[alternative]',\n",
       " 'text[good]',\n",
       " 'text[its]',\n",
       " 'text[subway,]',\n",
       " 'text[overall,]',\n",
       " 'text[fresh.]',\n",
       " 'text[other]',\n",
       " 'text[are]',\n",
       " 'text[from]',\n",
       " 'text[while]',\n",
       " 'text[does]',\n",
       " 'text[usually]',\n",
       " 'text[year.]',\n",
       " 'text[cooked]',\n",
       " 'text[order]',\n",
       " 'text[mr]',\n",
       " 'text[after]',\n",
       " 'text[voted]',\n",
       " 'text[institution.]',\n",
       " 'text[large]',\n",
       " 'text[italian]',\n",
       " 'text[their]',\n",
       " 'text[patties]',\n",
       " 'text[hoagie,]',\n",
       " 'text[food.]',\n",
       " 'text[is]',\n",
       " 'text[fashioned]',\n",
       " 'text[speciality]',\n",
       " 'text[the]',\n",
       " 'text[in,]',\n",
       " 'text[of]',\n",
       " 'text[walking]',\n",
       " 'text[booths]',\n",
       " 'text[out]',\n",
       " 'text[board,]',\n",
       " 'text[it]',\n",
       " 'text[ago,]',\n",
       " 'text[best]',\n",
       " 'text[years]',\n",
       " 'text[area]',\n",
       " 'text[30]',\n",
       " 'text[a]',\n",
       " 'text[road.]',\n",
       " 'text[which]',\n",
       " 'text[like]',\n",
       " 'text[seem]',\n",
       " 'text[70s,]',\n",
       " 'text[burger,]',\n",
       " 'text[i]',\n",
       " 'text[old]',\n",
       " 'text[all]',\n",
       " 'text[to]',\n",
       " 'text[an]',\n",
       " 'text[frozen,]',\n",
       " 'text[hoagie]',\n",
       " 'text[and]',\n",
       " 'text[year]',\n",
       " 'text[menu]',\n",
       " 'text[in]',\n",
       " 'text[very]',\n",
       " 'text[throwback]',\n",
       " 'text[ingredients]',\n",
       " 'text[obviously]',\n",
       " 'text[selection]',\n",
       " 'text[steeped]',\n",
       " 'text[great]',\n",
       " \"text[it's]\",\n",
       " 'text[but]',\n",
       " 'text[have,]',\n",
       " 'text[place]',\n",
       " 'text[still]',\n",
       " 'text[used]',\n",
       " 'text[they]',\n",
       " 'text[tradition.]',\n",
       " 'text[miss]',\n",
       " 'text[service.]',\n",
       " 'text[superb]',\n",
       " 'text[customer]',\n",
       " 'text[machines]',\n",
       " 'text[mario]',\n",
       " 'text[excellent]',\n",
       " \"text[n'at!!]\",\n",
       " 'text[love]',\n",
       " 'text[would]',\n",
       " 'text[dad\"]',\n",
       " 'text[dream!!]',\n",
       " 'text[truly]',\n",
       " 'text[\"wet]',\n",
       " 'text[this]',\n",
       " 'text[nice]',\n",
       " 'text[bar]',\n",
       " 'text[friendly!]',\n",
       " 'text[wings!]',\n",
       " 'text[night,]',\n",
       " 'text[wednesday]',\n",
       " 'text[monday]',\n",
       " 'text[salt]',\n",
       " 'text[thing]',\n",
       " 'text[whole]',\n",
       " 'text[night]',\n",
       " 'text[well.]',\n",
       " 'text[cajun\"]',\n",
       " 'text[popular.]',\n",
       " 'text[also]',\n",
       " 'text[nice.]',\n",
       " 'text[&]',\n",
       " 'text[seasoned]',\n",
       " 'text[wings.]',\n",
       " 'text[by]',\n",
       " 'text[dining]',\n",
       " 'text[here.]',\n",
       " 'text[$0.75]',\n",
       " 'text[\"pittsburgh]',\n",
       " 'text[food]',\n",
       " 'text[most]',\n",
       " 'text[fantastic!!]',\n",
       " \"text[yinzer's]\",\n",
       " 'text[simply]',\n",
       " 'text[wing]',\n",
       " 'text[have]',\n",
       " 'text[family]',\n",
       " 'text[wings]',\n",
       " 'text[sides]',\n",
       " 'text[flavor/heat.]',\n",
       " 'text[same]',\n",
       " 'text[fish]',\n",
       " 'text[extra]',\n",
       " 'text[be]',\n",
       " 'text[$1]',\n",
       " 'text[for]',\n",
       " 'text[about]',\n",
       " 'text[crispy,]',\n",
       " 'text[size]',\n",
       " 'text[better.]',\n",
       " 'text[hot]',\n",
       " 'text[maybe).]',\n",
       " 'text[butter]',\n",
       " 'text[water.]',\n",
       " 'text[some]',\n",
       " 'text[decent.]',\n",
       " 'text[pretty]',\n",
       " 'text[red]',\n",
       " 'text[sandwich]',\n",
       " 'text[could]',\n",
       " 'text[lot]',\n",
       " 'text[much]',\n",
       " 'text[portion,]',\n",
       " 'text[sauce]',\n",
       " 'text[(franks]',\n",
       " 'text[specials.]',\n",
       " 'text[day]',\n",
       " 'text[salads]',\n",
       " 'text[grilled]',\n",
       " 'text[lots]',\n",
       " 'text[fries.]',\n",
       " 'text[soup]',\n",
       " 'text[cut]',\n",
       " 'text[home]',\n",
       " 'text[plentiful]',\n",
       " 'text[than]',\n",
       " 'text[lunch]',\n",
       " 'text[chicken]',\n",
       " 'text[side]',\n",
       " 'text[breading]',\n",
       " 'text[style]',\n",
       " 'text[steak.]',\n",
       " 'text[pittsburgh]',\n",
       " 'text[looking]',\n",
       " 'text[light,]',\n",
       " 'text[go.]',\n",
       " 'text[beer.]',\n",
       " 'text[snacks]',\n",
       " 'text[homemade]',\n",
       " 'text[or]',\n",
       " 'text[more]',\n",
       " 'text[cheap]',\n",
       " 'text[sandwich,]',\n",
       " 'text[cold]',\n",
       " 'text[with]',\n",
       " 'text[issues.]',\n",
       " 'text[highly]',\n",
       " 'text[no]',\n",
       " \"text[i'm]\",\n",
       " 'text[recommend]',\n",
       " 'text[really]',\n",
       " 'text[honest]',\n",
       " 'text[mechanics]',\n",
       " 'text[place.]',\n",
       " 'text[thanks]',\n",
       " 'text[my]',\n",
       " 'text[glad]',\n",
       " 'text[him]',\n",
       " 'text[immediately.]',\n",
       " 'text[cars,]',\n",
       " \"text[he's]\",\n",
       " 'text[needed]',\n",
       " 'text[everything]',\n",
       " 'text[told]',\n",
       " 'text[quite]',\n",
       " \"text[didn't.]\",\n",
       " 'text[price,]',\n",
       " 'text[coals,]',\n",
       " 'text[go]',\n",
       " 'text[over]',\n",
       " 'text[joe!]',\n",
       " 'text[raked]',\n",
       " 'text[treat]',\n",
       " 'text[who]',\n",
       " 'text[guy]',\n",
       " 'text[real]',\n",
       " 'text[met]',\n",
       " 'text[fair]',\n",
       " 'text[neighborhood]',\n",
       " 'text[knew]',\n",
       " 'text[know]',\n",
       " 'text[run]',\n",
       " 'text[that]',\n",
       " 'text[honored]',\n",
       " 'text[both,]',\n",
       " 'text[first]',\n",
       " 'text[estimate]',\n",
       " 'text[call,]',\n",
       " 'text[install]',\n",
       " 'text[business]',\n",
       " 'text[big]',\n",
       " 'text[price]',\n",
       " 'text[mount.]',\n",
       " 'text[you]',\n",
       " 'text[transmission]',\n",
       " 'text[installed]',\n",
       " 'text[his]',\n",
       " 'text[him,]',\n",
       " 'text[assistant.]',\n",
       " 'text[cv]',\n",
       " 'text[soon]',\n",
       " 'text[joint]',\n",
       " 'text[impressions,]',\n",
       " 'text[friendly]',\n",
       " 'text[business.]',\n",
       " 'text[give]',\n",
       " 'text[me]',\n",
       " 'text[true.]',\n",
       " 'text[polite]',\n",
       " 'text[close]',\n",
       " 'text[shop]',\n",
       " 'text[easily]',\n",
       " 'text[when]',\n",
       " 'text[am]',\n",
       " 'text[he]',\n",
       " 'text[how]',\n",
       " 'text[joe]',\n",
       " 'text[as]',\n",
       " 'text[enough]',\n",
       " 'text[friendly,]',\n",
       " 'text[new]',\n",
       " 'text[bit]',\n",
       " 'text[so]',\n",
       " 'text[was]',\n",
       " 'text[earned]',\n",
       " \"text[you'll]\",\n",
       " 'text[attention]',\n",
       " 'text[years.]',\n",
       " 'text[did.]',\n",
       " 'text[fast,]',\n",
       " 'text[pay]',\n",
       " 'text[believer]',\n",
       " 'text[repeat]',\n",
       " 'text[treated]',\n",
       " 'text[well]',\n",
       " 'text[pittsburgh.]',\n",
       " 'text[money]',\n",
       " 'text[wants]',\n",
       " 'text[sells]',\n",
       " 'text[owner]',\n",
       " 'text[hope]',\n",
       " 'text[bottom]',\n",
       " 'text[oh,]',\n",
       " 'text[ball.]',\n",
       " 'text[hitting]',\n",
       " 'text[just]',\n",
       " 'text[mining]',\n",
       " 'text[site]',\n",
       " 'text[excavation]',\n",
       " 'text[if]',\n",
       " 'text[sure]',\n",
       " 'text[into.]',\n",
       " 'text[hit]',\n",
       " 'text[finally]',\n",
       " 'text[730.]',\n",
       " 'text[bare.]',\n",
       " 'text[money.]',\n",
       " 'text[yet]',\n",
       " 'text[house.]',\n",
       " 'text[aunt]',\n",
       " 'text[buckets]',\n",
       " 'text[strip]',\n",
       " 'text[107]',\n",
       " 'text[equipped]',\n",
       " 'text[operation.]',\n",
       " 'text[at]',\n",
       " 'text[carpet]',\n",
       " 'text[look]',\n",
       " 'text[talk]',\n",
       " 'text[mats]',\n",
       " 'text[month.]',\n",
       " 'text[weather]',\n",
       " 'text[decent]',\n",
       " 'text[although]',\n",
       " 'text[doles]',\n",
       " \"text[let's]\",\n",
       " 'text[tool]',\n",
       " 'text[pit]',\n",
       " 'text[golfing]',\n",
       " 'text[now]',\n",
       " 'text[week]',\n",
       " 'text[sell]',\n",
       " 'text[season]',\n",
       " 'text[opened]',\n",
       " 'text[sucks.]',\n",
       " 'text[btw]',\n",
       " 'text[accessible]',\n",
       " 'text[out.]',\n",
       " 'text[tees]',\n",
       " 'text[until]',\n",
       " 'text[grass]',\n",
       " 'text[worn]',\n",
       " 'text[city]',\n",
       " 'text[lets]',\n",
       " 'text[mastodon]',\n",
       " 'text[there]',\n",
       " 'text[lights]',\n",
       " 'text[them.]',\n",
       " 'text[yet.]',\n",
       " 'text[none]',\n",
       " 'text[has]',\n",
       " 'text[been]',\n",
       " 'text[figure]',\n",
       " 'text[less]',\n",
       " 'text[need]',\n",
       " 'text[makes]',\n",
       " 'text[even]',\n",
       " 'text[think]',\n",
       " 'text[hell]',\n",
       " 'text[hours.]',\n",
       " \"text[wasn't]\",\n",
       " 'text[people]',\n",
       " 'text[mud.]',\n",
       " 'text[limits]',\n",
       " 'text[balls]',\n",
       " 'text[april]',\n",
       " 'text[someone]',\n",
       " 'text[clean]',\n",
       " 'text[on]',\n",
       " 'text[mats,]',\n",
       " 'text[owning]',\n",
       " 'text[make]',\n",
       " 'text[thread]',\n",
       " 'text[arrived]',\n",
       " \"text[don't]\",\n",
       " 'text[print]',\n",
       " 'text[only]',\n",
       " 'text[line,]',\n",
       " 'text[machine]',\n",
       " 'text[far]',\n",
       " 'text[inside]',\n",
       " 'text[service]',\n",
       " 'text[range]',\n",
       " 'text[range.]',\n",
       " 'text[driving]',\n",
       " 'text[light]',\n",
       " 'text[cash]',\n",
       " 'text[license]',\n",
       " 'text[ask]',\n",
       " 'text[also.]',\n",
       " 'text[balls.]',\n",
       " \"text[irene's]\",\n",
       " 'text[golfers]',\n",
       " 'text[actually]',\n",
       " 'text[advent]',\n",
       " 'text[what]',\n",
       " 'text[into]',\n",
       " 'text[be.]',\n",
       " 'text[batting]',\n",
       " 'text[sort]',\n",
       " 'text[noticed]',\n",
       " 'text[grown]',\n",
       " 'text[weeds]',\n",
       " 'text[dot.]',\n",
       " 'text[8]',\n",
       " 'text[buy]',\n",
       " 'text[drinks]',\n",
       " 'text[course)]',\n",
       " 'text[sold]',\n",
       " 'text[plan]',\n",
       " 'text[vending]',\n",
       " 'text[having]',\n",
       " 'text[including]',\n",
       " 'text[despite]',\n",
       " 'text[bucket]',\n",
       " 'text[last]',\n",
       " 'text[half]',\n",
       " 'text[should]',\n",
       " 'text[8,]',\n",
       " 'text[drawers]',\n",
       " 'text[getting]',\n",
       " 'text[cage,]',\n",
       " 'text[inside,]',\n",
       " 'text[finish]',\n",
       " 'text[garbage...]',\n",
       " 'text[lights.]',\n",
       " 'text[minute]',\n",
       " 'text[looks]',\n",
       " 'text[available,]',\n",
       " 'text[absolute]',\n",
       " 'text[those]',\n",
       " 'text[not]',\n",
       " 'text[turn]',\n",
       " 'text[only,]',\n",
       " 'text[(of]',\n",
       " 'text[drink.]',\n",
       " 'text[tees.]',\n",
       " 'text[again.]',\n",
       " 'text[since]',\n",
       " 'text[up]',\n",
       " 'text[golf]',\n",
       " 'text[diming....]',\n",
       " 'text[nickel]',\n",
       " 'text[seen]',\n",
       " 'text[off]',\n",
       " 'text[($3)]',\n",
       " 'text[reasonable]',\n",
       " 'text[facility]',\n",
       " 'text[-]',\n",
       " 'text[from.]',\n",
       " 'text[away]',\n",
       " 'text[hazards]',\n",
       " 'text[aim]',\n",
       " 'text[were]',\n",
       " 'text[tees,]',\n",
       " 'text[courses.]',\n",
       " 'text[surprised.]',\n",
       " 'text[though]',\n",
       " 'text[ranges]',\n",
       " 'text[for,]',\n",
       " 'text[every]',\n",
       " 'text[marked]',\n",
       " 'text[do]',\n",
       " 'text[indeed]',\n",
       " 'text[across]',\n",
       " \"text[i've]\",\n",
       " 'text[familiar]',\n",
       " 'text[flag]',\n",
       " 'text[pleasantly]',\n",
       " 'text[come]',\n",
       " 'text[almost]',\n",
       " 'text[expert,]',\n",
       " 'text[moon,]',\n",
       " 'text[grass.]',\n",
       " 'text[guys]',\n",
       " 'text[seems]',\n",
       " 'text[heard]',\n",
       " \"text[scally's]\",\n",
       " 'text[4th]',\n",
       " 'text[yards]',\n",
       " 'text[friendlier]',\n",
       " 'text[fairly]',\n",
       " 'text[swing.]',\n",
       " 'text[nearly]',\n",
       " 'text[your]',\n",
       " 'text[many]',\n",
       " 'text[fine]',\n",
       " 'text[work]',\n",
       " 'text[season.]',\n",
       " 'text[pro]',\n",
       " 'text[charge]',\n",
       " 'text[two]',\n",
       " 'text[october]',\n",
       " 'text[expectation]',\n",
       " 'text[one]',\n",
       " 'text[low]',\n",
       " 'text[sale,]',\n",
       " 'text[before]',\n",
       " 'text[back]',\n",
       " 'text[reopen]',\n",
       " 'text[had]',\n",
       " 'text[facility.]',\n",
       " 'text[hopefully,]',\n",
       " 'text[made]',\n",
       " 'text[will]',\n",
       " 'text[targets]',\n",
       " 'text[such]',\n",
       " 'text[it!]',\n",
       " 'text[see]',\n",
       " 'text[house]',\n",
       " 'text[club]',\n",
       " 'text[newer]',\n",
       " 'text[boxes]',\n",
       " 'text[tee]',\n",
       " 'text[game,]',\n",
       " 'text[help]',\n",
       " 'text[kids.]',\n",
       " 'text[may]',\n",
       " 'text[appears]',\n",
       " 'text[entire]',\n",
       " 'text[amazing.]',\n",
       " 'text[take]',\n",
       " 'text[turf,]',\n",
       " \"text[can't]\",\n",
       " 'text[something]',\n",
       " 'text[state]',\n",
       " 'text[14th]',\n",
       " 'text[get]',\n",
       " 'text[july]',\n",
       " 'text[peak.]',\n",
       " 'text[re-opens]',\n",
       " 'text[course.]',\n",
       " 'text[sneak]',\n",
       " 'text[experience]',\n",
       " 'text[yesterday]',\n",
       " 'text[wait]',\n",
       " 'text[art]',\n",
       " 'text[drove]',\n",
       " 'text[bill...i]',\n",
       " 'text[through]',\n",
       " 'text[goes]',\n",
       " 'text[credit]',\n",
       " 'text[5th]',\n",
       " 'text[phone]',\n",
       " 'text[follow]',\n",
       " 'text[set]',\n",
       " 'text[problem]',\n",
       " 'text[notes]',\n",
       " 'text[connected]',\n",
       " 'text[pennsylvania]',\n",
       " 'text[rob]',\n",
       " 'text[thank]',\n",
       " 'text[iphone]',\n",
       " 'text[appreciated]',\n",
       " 'text[week.]',\n",
       " 'text[phone.]',\n",
       " 'text[upgrading]',\n",
       " 'text[enough!!!!]',\n",
       " 'text[call]',\n",
       " 'text[bill]',\n",
       " 'text[rob!]',\n",
       " 'text[charges]',\n",
       " 'text[removed]',\n",
       " 'text[switch]',\n",
       " 'text[correct]',\n",
       " 'text[store]',\n",
       " 'text[pasadena]',\n",
       " 'text[able]',\n",
       " 'text[agent]',\n",
       " 'text[service!]',\n",
       " 'text[problems]',\n",
       " 'text[charging]',\n",
       " 'text[today]',\n",
       " 'text[blacberry]',\n",
       " 'text[went]',\n",
       " 'text[verizon]',\n",
       " 'text[lake]',\n",
       " 'text[received]',\n",
       " 'text[it.]',\n",
       " 'text[pleasant]',\n",
       " 'text[another]',\n",
       " 'text[transaction.]',\n",
       " 'text[processed]',\n",
       " 'text[our]',\n",
       " 'text[want]',\n",
       " 'text[program,]',\n",
       " 'text[visit]',\n",
       " 'text[rep]',\n",
       " 'text[us]',\n",
       " 'text[led]',\n",
       " 'text[incorrectly]',\n",
       " 'text[trade]',\n",
       " 'text[minutes]',\n",
       " 'text[waiting]',\n",
       " 'text[part]',\n",
       " 'text[leaving.]',\n",
       " 'text[ignored]',\n",
       " 'text[directions]',\n",
       " 'text[anything,]',\n",
       " 'text[sit]',\n",
       " 'text[\"okay]',\n",
       " 'text[then\"]',\n",
       " 'text[feed]',\n",
       " 'text[say]',\n",
       " 'text[instagram]',\n",
       " 'text[man]',\n",
       " 'text[help.]',\n",
       " 'text[came]',\n",
       " 'text[awful]',\n",
       " 'text[stood]',\n",
       " 'text[said]',\n",
       " 'text[tear]',\n",
       " 'text[disgruntled]',\n",
       " 'text[too]',\n",
       " 'text[up,]',\n",
       " 'text[upgraded]',\n",
       " 'text[we]',\n",
       " \"text[didn't]\",\n",
       " 'text[jammed]',\n",
       " 'text[us.]',\n",
       " 'text[fianc\\xc3\\xa9]',\n",
       " 'text[text]',\n",
       " 'text[long,]',\n",
       " 'text[forks]',\n",
       " 'text[got]',\n",
       " 'text[plan.]',\n",
       " 'text[strange]',\n",
       " 'text[apple]',\n",
       " 'text[left]',\n",
       " 'text[store,]',\n",
       " 'text[eyes.]',\n",
       " 'text[anymore.]',\n",
       " 'text[never]',\n",
       " \"text[i'll]\",\n",
       " 'text[minutes!]',\n",
       " 'text[ordered]',\n",
       " 'text[6s]',\n",
       " 'text[ended]',\n",
       " 'text[20]',\n",
       " 'text[minutes-]',\n",
       " 'text[ridiculous.]',\n",
       " 'text[awesome.]',\n",
       " 'text[boy-]',\n",
       " 'text[ridge]',\n",
       " 'text[location]',\n",
       " 'text[helped...]',\n",
       " 'text[settlers]',\n",
       " 'text[6splus...]',\n",
       " 'text[being]',\n",
       " 'text[ahead]',\n",
       " 'text[them]',\n",
       " 'text[wife]',\n",
       " 'text[understand]',\n",
       " 'text[busy]',\n",
       " 'text[45]',\n",
       " 'text[2]',\n",
       " 'text[can]',\n",
       " 'text[difference.]',\n",
       " 'text[wtf???]',\n",
       " 'text[mins,]',\n",
       " 'text[door]',\n",
       " 'text[robinson]',\n",
       " 'text[waited]',\n",
       " 'text[believe]',\n",
       " 'text[atm]',\n",
       " 'text[prepared,]',\n",
       " 'text[only.]',\n",
       " 'text[back!!!]',\n",
       " 'text[definitely]',\n",
       " 'text[meal.]',\n",
       " 'text[filled]',\n",
       " 'text[giant]',\n",
       " 'text[incredibly]',\n",
       " 'text[portions,]',\n",
       " 'text[between]',\n",
       " 'text[shared]',\n",
       " 'text[oh]',\n",
       " 'text[$7.50.]',\n",
       " 'text[several]',\n",
       " 'text[times]',\n",
       " 'text[delicious!!]',\n",
       " 'text[massive,]',\n",
       " 'text[for!]',\n",
       " 'text[parents]',\n",
       " 'text[recommendation]',\n",
       " 'text[seated]',\n",
       " 'text[both]',\n",
       " 'text[reuben]',\n",
       " 'text[die]',\n",
       " 'text[during]',\n",
       " 'text[good,]',\n",
       " 'text[sundays]',\n",
       " 'text[people.]',\n",
       " 'text[mondays.]',\n",
       " 'text[each]',\n",
       " 'text[top]',\n",
       " 'text[(a]',\n",
       " 'text[friendly.]',\n",
       " 'text[extremely]',\n",
       " 'text[staff]',\n",
       " 'text[right]',\n",
       " 'text[brother]',\n",
       " 'text[dad]',\n",
       " 'text[early]',\n",
       " 'text[pittsburgh\"]',\n",
       " 'text[sandwich.]',\n",
       " 'text[steak]',\n",
       " 'text[away.]',\n",
       " 'text[afternoon]',\n",
       " 'text[open-faced]',\n",
       " 'text[time]',\n",
       " 'text[reuben,]',\n",
       " 'text[try]',\n",
       " 'text[recommendations]',\n",
       " 'text[things]',\n",
       " 'text[mom]',\n",
       " 'text[advice]',\n",
       " 'text[accurate.]',\n",
       " \"text[sebak's]\",\n",
       " 'text[saw]',\n",
       " 'text[late]',\n",
       " 'text[affordable.]',\n",
       " 'text[\"25]',\n",
       " 'text[rick]',\n",
       " 'text[$8]',\n",
       " 'text[saturday)]',\n",
       " 'text[closed]',\n",
       " 'text[always]',\n",
       " 'text[dishes]',\n",
       " 'text[checked]',\n",
       " 'text[stop]',\n",
       " 'text[gem.]',\n",
       " 'text[compromise]',\n",
       " 'text[value]',\n",
       " 'text[food,]',\n",
       " 'text[pick]',\n",
       " 'text[large,]',\n",
       " 'text[portions]',\n",
       " 'text[low,]',\n",
       " 'text[it)]',\n",
       " 'text[rib]',\n",
       " 'text[st]',\n",
       " 'text[-hawkins]',\n",
       " 'text[norfolk.)]',\n",
       " 'text[oily]',\n",
       " 'text[prices]',\n",
       " 'text[(\"norfolk\"]',\n",
       " 'text[ways]',\n",
       " 'text[-shrimp]',\n",
       " 'text[-flounder]',\n",
       " 'text[delicious)]',\n",
       " 'text[two,]',\n",
       " 'text[-salmon]',\n",
       " 'text[-fish]',\n",
       " 'text[forget]',\n",
       " 'text[table,]',\n",
       " 'text[gets]',\n",
       " 'text[complaints]',\n",
       " 'text[awesome!]',\n",
       " 'text[movie]',\n",
       " 'text[kitchen]',\n",
       " 'text[nothing]',\n",
       " 'text[check]',\n",
       " 'text[growing]',\n",
       " 'text[different]',\n",
       " 'text[few]',\n",
       " 'text[slow,]',\n",
       " 'text[little]',\n",
       " 'text[there.]',\n",
       " 'text[happy.]',\n",
       " 'text[delicious.]',\n",
       " 'text[girls]',\n",
       " 'text[taste,]',\n",
       " 'text[miss.]',\n",
       " 'text[sometimes]',\n",
       " 'text[special]',\n",
       " 'text[once]',\n",
       " 'text[because]',\n",
       " 'text[ambiance,]',\n",
       " 'text[works]',\n",
       " 'text[(huge]',\n",
       " 'text[fresh]',\n",
       " 'text[flying]',\n",
       " 'text[-prime]',\n",
       " 'text[pretend]',\n",
       " 'text[prepared]',\n",
       " 'text[watch]',\n",
       " 'text[worth]',\n",
       " 'text[bother.]',\n",
       " 'text[ago]',\n",
       " 'text[ages,]',\n",
       " 'text[any]',\n",
       " 'text[reviews]',\n",
       " 'text[busier.]',\n",
       " \"text[doesn't,]\",\n",
       " 'text[might]',\n",
       " 'text[all.]',\n",
       " 'text[comes]',\n",
       " 'text[(sized]',\n",
       " 'text[sandwiich]',\n",
       " \"text[you're]\",\n",
       " 'text[places!!]',\n",
       " 'text[worse]',\n",
       " 'text[rankin,]',\n",
       " 'text[town,]',\n",
       " 'text[lounge.]',\n",
       " 'text[called]',\n",
       " 'text[luxurious]',\n",
       " \"text[ain't]\",\n",
       " 'text[beer]',\n",
       " 'text[seback.]',\n",
       " 'text[shot]',\n",
       " 'text[good.]',\n",
       " 'text[wqed]',\n",
       " 'text[hosted]',\n",
       " 'text[show]',\n",
       " \"text[restaurant...it's]\",\n",
       " 'text[watching]',\n",
       " 'text[/]',\n",
       " \"text[emil's]\",\n",
       " 'text[great.]',\n",
       " 'text[found]',\n",
       " 'text[vestige]',\n",
       " 'text[way,]',\n",
       " 'text[non-corporate,]',\n",
       " 'text[equally]',\n",
       " 'text[fried]',\n",
       " 'text[shrimp.]',\n",
       " 'text[enjoy]',\n",
       " 'text[school.....traditional]',\n",
       " 'text[americana.]',\n",
       " 'text[quality]',\n",
       " 'text[pop\"]',\n",
       " 'text[perfection.]',\n",
       " 'text[chips]',\n",
       " \"text['n]\",\n",
       " 'text[ever]',\n",
       " 'text[\"mom]',\n",
       " 'text[enormous]',\n",
       " 'text[burgers]',\n",
       " 'text[employees]',\n",
       " 'text[going]',\n",
       " 'text[eat]',\n",
       " 'text[prices.]',\n",
       " 'text[super]',\n",
       " 'text[possibly]',\n",
       " 'text[owner.]',\n",
       " \"text[she's]\",\n",
       " 'text[girlfriend]',\n",
       " 'text[ruben]',\n",
       " 'text[ack.]',\n",
       " 'text[seback]',\n",
       " 'text[she]',\n",
       " 'text[tasty.]',\n",
       " 'text[places]',\n",
       " 'text[grew]',\n",
       " 'text[restaurant]',\n",
       " 'text[25]',\n",
       " 'text[consistently]',\n",
       " 'text[classic]',\n",
       " 'text[grandmother]',\n",
       " 'text[chrissy]',\n",
       " 'text[family.]',\n",
       " 'text[memorable.]',\n",
       " 'text[wqed.]',\n",
       " 'text[patrons,]',\n",
       " 'text[spectacular,]',\n",
       " 'text[recent]',\n",
       " 'text[hawkins.]',\n",
       " 'text[page]',\n",
       " 'text[yelp]',\n",
       " 'text[shown]',\n",
       " 'text[map]',\n",
       " 'text[412-271-9911.]',\n",
       " 'text[reuben.]',\n",
       " \"text[i'd]\",\n",
       " 'text[incorrect.]',\n",
       " 'text[wonderful]',\n",
       " 'text[burgh.]',\n",
       " 'text[batter]',\n",
       " 'text[hamburger]',\n",
       " 'text[opposed]',\n",
       " 'text[(as]',\n",
       " 'text[bun]',\n",
       " 'text[fish-shaped]',\n",
       " 'text[pound]',\n",
       " 'text[2nd]',\n",
       " 'text[memorize]',\n",
       " 'text[bun).]',\n",
       " 'text[hidden]',\n",
       " 'text[plug]',\n",
       " 'text[addendum:]',\n",
       " 'text[feel]',\n",
       " 'text[excellent.]',\n",
       " 'text[fan-freakin-tastic!]',\n",
       " 'text[blue]',\n",
       " 'text[cheers,]',\n",
       " 'text[where]',\n",
       " 'text[wall...kind]',\n",
       " 'text[hole]',\n",
       " 'text[frills,]',\n",
       " 'text[busy.]',\n",
       " 'text[though.]',\n",
       " 'text[on,]',\n",
       " 'text[refills]',\n",
       " 'text[making]',\n",
       " 'text[pop]',\n",
       " 'text[tea,]',\n",
       " 'text[iced]',\n",
       " 'text[products,]',\n",
       " 'text[pepsi]',\n",
       " 'text[kept]',\n",
       " 'text[her.]',\n",
       " 'text[collar]',\n",
       " 'text[especially]',\n",
       " 'text[pm,]',\n",
       " 'text[flavorful,]',\n",
       " 'text[served]',\n",
       " 'text[parm]',\n",
       " 'text[that!]',\n",
       " 'text[yeah,]',\n",
       " 'text[breaded]',\n",
       " 'text[sandwiches]',\n",
       " 'text[five]',\n",
       " \"text[1950's.]\",\n",
       " 'text[$12.99]',\n",
       " 'text[that,]',\n",
       " 'text[again]',\n",
       " 'text[huge]',\n",
       " 'text[mentioned]',\n",
       " 'text[table]',\n",
       " 'text[past]',\n",
       " 'text[adjoining]',\n",
       " 'text[ate,]',\n",
       " 'text[do.]',\n",
       " 'text[burgh]',\n",
       " 'text[now,]',\n",
       " 'text[afford]',\n",
       " 'text[true,]',\n",
       " 'text[seriously]',\n",
       " 'text[meat.]',\n",
       " 'text[skimpy]',\n",
       " 'text[travel]',\n",
       " 'text[tasty]',\n",
       " 'text[ny]',\n",
       " 'text[decent,]',\n",
       " \"text['yeah,]\",\n",
       " 'text[counts]',\n",
       " 'text[oh...but]',\n",
       " 'text[love.]',\n",
       " 'text[scotch.]',\n",
       " 'text[sammich,]',\n",
       " 'text[burgers.]',\n",
       " 'text[fresh,]',\n",
       " 'text[poker,]',\n",
       " 'text[together]',\n",
       " 'text[front]',\n",
       " 'text[frank]',\n",
       " 'text[suggested]',\n",
       " 'text[tables.]',\n",
       " 'text[chairs]',\n",
       " 'text[tables]',\n",
       " 'text[pics,]',\n",
       " 'text[yinzer]',\n",
       " 'text[it,]',\n",
       " \"text['emil's.]\",\n",
       " 'text[dive]',\n",
       " 'text[is.]',\n",
       " \"text[nuts?']\",\n",
       " 'text[too.]',\n",
       " 'text[pack]',\n",
       " 'text[plain]',\n",
       " 'text[gps]',\n",
       " 'text[hurt.]',\n",
       " 'text[side,]',\n",
       " 'text[walls]',\n",
       " 'text[dark]',\n",
       " 'text[gets.]',\n",
       " 'text[bar/lounge/restaurant]',\n",
       " 'text[hour]',\n",
       " 'text[eyes]',\n",
       " 'text[sat]',\n",
       " 'text[roll]',\n",
       " 'text[day.]',\n",
       " 'text[walk]',\n",
       " 'text[wham.]',\n",
       " \"text[doesn't]\",\n",
       " 'text[burrito/sousa]',\n",
       " 'text[door,]',\n",
       " 'text[walked]',\n",
       " 'text[sign]',\n",
       " 'text[hand]',\n",
       " 'text[add-on]',\n",
       " 'text[reading]',\n",
       " 'text[was.]',\n",
       " 'text[is!]',\n",
       " 'text[brewed]',\n",
       " 'text[then...aha!]',\n",
       " 'text[thick]',\n",
       " 'text[lunch,]',\n",
       " 'text[highway.]',\n",
       " 'text[step]',\n",
       " 'text[around]',\n",
       " 'text[wood]',\n",
       " 'text[seemingly]',\n",
       " 'text[burgh...as]',\n",
       " 'text[blighted]',\n",
       " 'text[find]',\n",
       " 'text[looked]',\n",
       " 'text[seeing]',\n",
       " \"text['reaaaaaalllly?']\",\n",
       " 'text[crowd]',\n",
       " 'text[blocks]',\n",
       " 'text[sturdy]',\n",
       " 'text[dismal]',\n",
       " ...]"
      ]
     },
     "execution_count": 13,
     "metadata": {},
     "output_type": "execute_result"
    }
   ],
   "source": [
    "sm.classifier.unpacked_features"
   ]
  },
  {
   "cell_type": "code",
   "execution_count": null,
   "metadata": {
    "collapsed": true
   },
   "outputs": [],
   "source": [
    "# Get all reviews with the word burger in it\n",
    "# Group by business\n",
    "# Find average sentiment for those businesses\n",
    "# Find top 5 \n",
    "# Make sure number of reviews for the top 5 are reasonable\n"
   ]
  },
  {
   "cell_type": "code",
   "execution_count": 17,
   "metadata": {
    "collapsed": false
   },
   "outputs": [],
   "source": [
    "from graphlab.toolkits.feature_engineering import *"
   ]
  },
  {
   "cell_type": "code",
   "execution_count": 18,
   "metadata": {
    "collapsed": true
   },
   "outputs": [],
   "source": [
    "tokenizer = Tokenizer('text', to_lower=True, output_column_prefix='token')"
   ]
  },
  {
   "cell_type": "code",
   "execution_count": 19,
   "metadata": {
    "collapsed": true
   },
   "outputs": [],
   "source": [
    "tokenized_reviews = tokenizer.fit_transform(reviews)"
   ]
  },
  {
   "cell_type": "code",
   "execution_count": 20,
   "metadata": {
    "collapsed": false
   },
   "outputs": [
    {
     "data": {
      "text/html": [
       "<div style=\"max-height:1000px;max-width:1500px;overflow:auto;\"><table frame=\"box\" rules=\"cols\">\n",
       "    <tr>\n",
       "        <th style=\"padding-left: 1em; padding-right: 1em; text-align: center\">business_id</th>\n",
       "        <th style=\"padding-left: 1em; padding-right: 1em; text-align: center\">date</th>\n",
       "        <th style=\"padding-left: 1em; padding-right: 1em; text-align: center\">review_id</th>\n",
       "        <th style=\"padding-left: 1em; padding-right: 1em; text-align: center\">stars</th>\n",
       "        <th style=\"padding-left: 1em; padding-right: 1em; text-align: center\">text</th>\n",
       "        <th style=\"padding-left: 1em; padding-right: 1em; text-align: center\">type</th>\n",
       "    </tr>\n",
       "    <tr>\n",
       "        <td style=\"padding-left: 1em; padding-right: 1em; text-align: center; vertical-align: top\">5UmKMjUEUNdYWqANhGckJw</td>\n",
       "        <td style=\"padding-left: 1em; padding-right: 1em; text-align: center; vertical-align: top\">2012-08-01</td>\n",
       "        <td style=\"padding-left: 1em; padding-right: 1em; text-align: center; vertical-align: top\">Ya85v4eqdd6k9Od8HbQjyA</td>\n",
       "        <td style=\"padding-left: 1em; padding-right: 1em; text-align: center; vertical-align: top\">4</td>\n",
       "        <td style=\"padding-left: 1em; padding-right: 1em; text-align: center; vertical-align: top\">Mr Hoagie is an<br>institution. Walking in, ...</td>\n",
       "        <td style=\"padding-left: 1em; padding-right: 1em; text-align: center; vertical-align: top\">review</td>\n",
       "    </tr>\n",
       "    <tr>\n",
       "        <td style=\"padding-left: 1em; padding-right: 1em; text-align: center; vertical-align: top\">5UmKMjUEUNdYWqANhGckJw</td>\n",
       "        <td style=\"padding-left: 1em; padding-right: 1em; text-align: center; vertical-align: top\">2014-02-13</td>\n",
       "        <td style=\"padding-left: 1em; padding-right: 1em; text-align: center; vertical-align: top\">KPvLNJ21_4wbYNctrOwWdQ</td>\n",
       "        <td style=\"padding-left: 1em; padding-right: 1em; text-align: center; vertical-align: top\">5</td>\n",
       "        <td style=\"padding-left: 1em; padding-right: 1em; text-align: center; vertical-align: top\">Excellent food. Superb<br>customer service. I miss ...</td>\n",
       "        <td style=\"padding-left: 1em; padding-right: 1em; text-align: center; vertical-align: top\">review</td>\n",
       "    </tr>\n",
       "    <tr>\n",
       "        <td style=\"padding-left: 1em; padding-right: 1em; text-align: center; vertical-align: top\">5UmKMjUEUNdYWqANhGckJw</td>\n",
       "        <td style=\"padding-left: 1em; padding-right: 1em; text-align: center; vertical-align: top\">2015-10-31</td>\n",
       "        <td style=\"padding-left: 1em; padding-right: 1em; text-align: center; vertical-align: top\">fFSoGV46Yxuwbr3fHNuZig</td>\n",
       "        <td style=\"padding-left: 1em; padding-right: 1em; text-align: center; vertical-align: top\">5</td>\n",
       "        <td style=\"padding-left: 1em; padding-right: 1em; text-align: center; vertical-align: top\">Yes this place is a<br>little out dated and not ...</td>\n",
       "        <td style=\"padding-left: 1em; padding-right: 1em; text-align: center; vertical-align: top\">review</td>\n",
       "    </tr>\n",
       "    <tr>\n",
       "        <td style=\"padding-left: 1em; padding-right: 1em; text-align: center; vertical-align: top\">UsFtqoBl7naz8AVUBZMjQQ</td>\n",
       "        <td style=\"padding-left: 1em; padding-right: 1em; text-align: center; vertical-align: top\">2013-11-08</td>\n",
       "        <td style=\"padding-left: 1em; padding-right: 1em; text-align: center; vertical-align: top\">Di3exaUCFNw1V4kSNW5pgA</td>\n",
       "        <td style=\"padding-left: 1em; padding-right: 1em; text-align: center; vertical-align: top\">5</td>\n",
       "        <td style=\"padding-left: 1em; padding-right: 1em; text-align: center; vertical-align: top\">All the food is great<br>here. But the best thing ...</td>\n",
       "        <td style=\"padding-left: 1em; padding-right: 1em; text-align: center; vertical-align: top\">review</td>\n",
       "    </tr>\n",
       "    <tr>\n",
       "        <td style=\"padding-left: 1em; padding-right: 1em; text-align: center; vertical-align: top\">UsFtqoBl7naz8AVUBZMjQQ</td>\n",
       "        <td style=\"padding-left: 1em; padding-right: 1em; text-align: center; vertical-align: top\">2014-03-29</td>\n",
       "        <td style=\"padding-left: 1em; padding-right: 1em; text-align: center; vertical-align: top\">0Lua2-PbqEQMjD9r89-asw</td>\n",
       "        <td style=\"padding-left: 1em; padding-right: 1em; text-align: center; vertical-align: top\">3</td>\n",
       "        <td style=\"padding-left: 1em; padding-right: 1em; text-align: center; vertical-align: top\">We checked this place out<br>this past Monday for ...</td>\n",
       "        <td style=\"padding-left: 1em; padding-right: 1em; text-align: center; vertical-align: top\">review</td>\n",
       "    </tr>\n",
       "    <tr>\n",
       "        <td style=\"padding-left: 1em; padding-right: 1em; text-align: center; vertical-align: top\">UsFtqoBl7naz8AVUBZMjQQ</td>\n",
       "        <td style=\"padding-left: 1em; padding-right: 1em; text-align: center; vertical-align: top\">2014-10-29</td>\n",
       "        <td style=\"padding-left: 1em; padding-right: 1em; text-align: center; vertical-align: top\">7N9j5YbBHBW6qguE5DAeyA</td>\n",
       "        <td style=\"padding-left: 1em; padding-right: 1em; text-align: center; vertical-align: top\">1</td>\n",
       "        <td style=\"padding-left: 1em; padding-right: 1em; text-align: center; vertical-align: top\">Wing sauce is like water.<br>Pretty much a lot of ...</td>\n",
       "        <td style=\"padding-left: 1em; padding-right: 1em; text-align: center; vertical-align: top\">review</td>\n",
       "    </tr>\n",
       "    <tr>\n",
       "        <td style=\"padding-left: 1em; padding-right: 1em; text-align: center; vertical-align: top\">UsFtqoBl7naz8AVUBZMjQQ</td>\n",
       "        <td style=\"padding-left: 1em; padding-right: 1em; text-align: center; vertical-align: top\">2014-11-28</td>\n",
       "        <td style=\"padding-left: 1em; padding-right: 1em; text-align: center; vertical-align: top\">mjCJR33jvUNt41iJCxDU_g</td>\n",
       "        <td style=\"padding-left: 1em; padding-right: 1em; text-align: center; vertical-align: top\">4</td>\n",
       "        <td style=\"padding-left: 1em; padding-right: 1em; text-align: center; vertical-align: top\">Cold cheap beer. Good bar<br>food. Good service. ...</td>\n",
       "        <td style=\"padding-left: 1em; padding-right: 1em; text-align: center; vertical-align: top\">review</td>\n",
       "    </tr>\n",
       "    <tr>\n",
       "        <td style=\"padding-left: 1em; padding-right: 1em; text-align: center; vertical-align: top\">3eu6MEFlq2Dg7bQh8QbdOg</td>\n",
       "        <td style=\"padding-left: 1em; padding-right: 1em; text-align: center; vertical-align: top\">2014-02-27</td>\n",
       "        <td style=\"padding-left: 1em; padding-right: 1em; text-align: center; vertical-align: top\">Ieh3kfZ-5J9pLju4JiQDvQ</td>\n",
       "        <td style=\"padding-left: 1em; padding-right: 1em; text-align: center; vertical-align: top\">5</td>\n",
       "        <td style=\"padding-left: 1em; padding-right: 1em; text-align: center; vertical-align: top\">I highly recommend this<br>place. The mechanics are ...</td>\n",
       "        <td style=\"padding-left: 1em; padding-right: 1em; text-align: center; vertical-align: top\">review</td>\n",
       "    </tr>\n",
       "    <tr>\n",
       "        <td style=\"padding-left: 1em; padding-right: 1em; text-align: center; vertical-align: top\">3eu6MEFlq2Dg7bQh8QbdOg</td>\n",
       "        <td style=\"padding-left: 1em; padding-right: 1em; text-align: center; vertical-align: top\">2015-06-16</td>\n",
       "        <td style=\"padding-left: 1em; padding-right: 1em; text-align: center; vertical-align: top\">PU28OoBSHpZLkYGCmNxlmg</td>\n",
       "        <td style=\"padding-left: 1em; padding-right: 1em; text-align: center; vertical-align: top\">5</td>\n",
       "        <td style=\"padding-left: 1em; padding-right: 1em; text-align: center; vertical-align: top\">I am a big believer in<br>first impressions, so ...</td>\n",
       "        <td style=\"padding-left: 1em; padding-right: 1em; text-align: center; vertical-align: top\">review</td>\n",
       "    </tr>\n",
       "    <tr>\n",
       "        <td style=\"padding-left: 1em; padding-right: 1em; text-align: center; vertical-align: top\">cE27W9VPgO88Qxe4ol6y_g</td>\n",
       "        <td style=\"padding-left: 1em; padding-right: 1em; text-align: center; vertical-align: top\">2012-08-19</td>\n",
       "        <td style=\"padding-left: 1em; padding-right: 1em; text-align: center; vertical-align: top\">XsA6AojkWjOHA4FmuAb8XQ</td>\n",
       "        <td style=\"padding-left: 1em; padding-right: 1em; text-align: center; vertical-align: top\">3</td>\n",
       "        <td style=\"padding-left: 1em; padding-right: 1em; text-align: center; vertical-align: top\">Decent range somewhat<br>close to the city.  The ...</td>\n",
       "        <td style=\"padding-left: 1em; padding-right: 1em; text-align: center; vertical-align: top\">review</td>\n",
       "    </tr>\n",
       "</table>\n",
       "<table frame=\"box\" rules=\"cols\">\n",
       "    <tr>\n",
       "        <th style=\"padding-left: 1em; padding-right: 1em; text-align: center\">user_id</th>\n",
       "        <th style=\"padding-left: 1em; padding-right: 1em; text-align: center\">votes</th>\n",
       "        <th style=\"padding-left: 1em; padding-right: 1em; text-align: center\">token.text</th>\n",
       "    </tr>\n",
       "    <tr>\n",
       "        <td style=\"padding-left: 1em; padding-right: 1em; text-align: center; vertical-align: top\">PUFPaY9KxDAcGqfsorJp3Q</td>\n",
       "        <td style=\"padding-left: 1em; padding-right: 1em; text-align: center; vertical-align: top\">{'funny': 0, 'useful': 0,<br>'cool': 0} ...</td>\n",
       "        <td style=\"padding-left: 1em; padding-right: 1em; text-align: center; vertical-align: top\">[mr, hoagie, is, an,<br>institution., walking, ...</td>\n",
       "    </tr>\n",
       "    <tr>\n",
       "        <td style=\"padding-left: 1em; padding-right: 1em; text-align: center; vertical-align: top\">Iu6AxdBYGR4A0wspR9BYHA</td>\n",
       "        <td style=\"padding-left: 1em; padding-right: 1em; text-align: center; vertical-align: top\">{'funny': 0, 'useful': 0,<br>'cool': 0} ...</td>\n",
       "        <td style=\"padding-left: 1em; padding-right: 1em; text-align: center; vertical-align: top\">[excellent, food.,<br>superb, customer, ...</td>\n",
       "    </tr>\n",
       "    <tr>\n",
       "        <td style=\"padding-left: 1em; padding-right: 1em; text-align: center; vertical-align: top\">auESFwWvW42h6alXgFxAXQ</td>\n",
       "        <td style=\"padding-left: 1em; padding-right: 1em; text-align: center; vertical-align: top\">{'funny': 0, 'useful': 0,<br>'cool': 0} ...</td>\n",
       "        <td style=\"padding-left: 1em; padding-right: 1em; text-align: center; vertical-align: top\">[yes, this, place, is, a,<br>little, out, dated, and, ...</td>\n",
       "    </tr>\n",
       "    <tr>\n",
       "        <td style=\"padding-left: 1em; padding-right: 1em; text-align: center; vertical-align: top\">uK8tzraOp4M5u3uYrqIBXg</td>\n",
       "        <td style=\"padding-left: 1em; padding-right: 1em; text-align: center; vertical-align: top\">{'funny': 0, 'useful': 0,<br>'cool': 0} ...</td>\n",
       "        <td style=\"padding-left: 1em; padding-right: 1em; text-align: center; vertical-align: top\">[all, the, food, is,<br>great, here., but, the, ...</td>\n",
       "    </tr>\n",
       "    <tr>\n",
       "        <td style=\"padding-left: 1em; padding-right: 1em; text-align: center; vertical-align: top\">I_47G-R2_egp7ME5u_ltew</td>\n",
       "        <td style=\"padding-left: 1em; padding-right: 1em; text-align: center; vertical-align: top\">{'funny': 0, 'useful': 0,<br>'cool': 0} ...</td>\n",
       "        <td style=\"padding-left: 1em; padding-right: 1em; text-align: center; vertical-align: top\">[we, checked, this,<br>place, out, this, past, ...</td>\n",
       "    </tr>\n",
       "    <tr>\n",
       "        <td style=\"padding-left: 1em; padding-right: 1em; text-align: center; vertical-align: top\">PP_xoMSYlGr2pb67BbqBdA</td>\n",
       "        <td style=\"padding-left: 1em; padding-right: 1em; text-align: center; vertical-align: top\">{'funny': 0, 'useful': 0,<br>'cool': 0} ...</td>\n",
       "        <td style=\"padding-left: 1em; padding-right: 1em; text-align: center; vertical-align: top\">[wing, sauce, is, like,<br>water., pretty, much, a, ...</td>\n",
       "    </tr>\n",
       "    <tr>\n",
       "        <td style=\"padding-left: 1em; padding-right: 1em; text-align: center; vertical-align: top\">JPPhyFE-UE453zA6K0TVgw</td>\n",
       "        <td style=\"padding-left: 1em; padding-right: 1em; text-align: center; vertical-align: top\">{'funny': 0, 'useful': 0,<br>'cool': 0} ...</td>\n",
       "        <td style=\"padding-left: 1em; padding-right: 1em; text-align: center; vertical-align: top\">[cold, cheap, beer.,<br>good, bar, food., good, ...</td>\n",
       "    </tr>\n",
       "    <tr>\n",
       "        <td style=\"padding-left: 1em; padding-right: 1em; text-align: center; vertical-align: top\">2d5HeDvZTDUNVog_WuUpSg</td>\n",
       "        <td style=\"padding-left: 1em; padding-right: 1em; text-align: center; vertical-align: top\">{'funny': 0, 'useful': 0,<br>'cool': 0} ...</td>\n",
       "        <td style=\"padding-left: 1em; padding-right: 1em; text-align: center; vertical-align: top\">[i, highly, recommend,<br>this, place., the, ...</td>\n",
       "    </tr>\n",
       "    <tr>\n",
       "        <td style=\"padding-left: 1em; padding-right: 1em; text-align: center; vertical-align: top\">BShxMIUwaJS378xcrz4Nmg</td>\n",
       "        <td style=\"padding-left: 1em; padding-right: 1em; text-align: center; vertical-align: top\">{'funny': 0, 'useful': 0,<br>'cool': 0} ...</td>\n",
       "        <td style=\"padding-left: 1em; padding-right: 1em; text-align: center; vertical-align: top\">[i, am, a, big, believer,<br>in, first, impressions,, ...</td>\n",
       "    </tr>\n",
       "    <tr>\n",
       "        <td style=\"padding-left: 1em; padding-right: 1em; text-align: center; vertical-align: top\">fhNxoMwwTipzjO8A9LFe8Q</td>\n",
       "        <td style=\"padding-left: 1em; padding-right: 1em; text-align: center; vertical-align: top\">{'funny': 0, 'useful': 1,<br>'cool': 0} ...</td>\n",
       "        <td style=\"padding-left: 1em; padding-right: 1em; text-align: center; vertical-align: top\">[decent, range, somewhat,<br>close, to, the, city., ...</td>\n",
       "    </tr>\n",
       "</table>\n",
       "[10 rows x 9 columns]<br/>\n",
       "</div>"
      ],
      "text/plain": [
       "Columns:\n",
       "\tbusiness_id\tstr\n",
       "\tdate\tstr\n",
       "\treview_id\tstr\n",
       "\tstars\tint\n",
       "\ttext\tstr\n",
       "\ttype\tstr\n",
       "\tuser_id\tstr\n",
       "\tvotes\tdict\n",
       "\ttoken.text\tlist\n",
       "\n",
       "Rows: 10\n",
       "\n",
       "Data:\n",
       "+------------------------+------------+------------------------+-------+\n",
       "|      business_id       |    date    |       review_id        | stars |\n",
       "+------------------------+------------+------------------------+-------+\n",
       "| 5UmKMjUEUNdYWqANhGckJw | 2012-08-01 | Ya85v4eqdd6k9Od8HbQjyA |   4   |\n",
       "| 5UmKMjUEUNdYWqANhGckJw | 2014-02-13 | KPvLNJ21_4wbYNctrOwWdQ |   5   |\n",
       "| 5UmKMjUEUNdYWqANhGckJw | 2015-10-31 | fFSoGV46Yxuwbr3fHNuZig |   5   |\n",
       "| UsFtqoBl7naz8AVUBZMjQQ | 2013-11-08 | Di3exaUCFNw1V4kSNW5pgA |   5   |\n",
       "| UsFtqoBl7naz8AVUBZMjQQ | 2014-03-29 | 0Lua2-PbqEQMjD9r89-asw |   3   |\n",
       "| UsFtqoBl7naz8AVUBZMjQQ | 2014-10-29 | 7N9j5YbBHBW6qguE5DAeyA |   1   |\n",
       "| UsFtqoBl7naz8AVUBZMjQQ | 2014-11-28 | mjCJR33jvUNt41iJCxDU_g |   4   |\n",
       "| 3eu6MEFlq2Dg7bQh8QbdOg | 2014-02-27 | Ieh3kfZ-5J9pLju4JiQDvQ |   5   |\n",
       "| 3eu6MEFlq2Dg7bQh8QbdOg | 2015-06-16 | PU28OoBSHpZLkYGCmNxlmg |   5   |\n",
       "| cE27W9VPgO88Qxe4ol6y_g | 2012-08-19 | XsA6AojkWjOHA4FmuAb8XQ |   3   |\n",
       "+------------------------+------------+------------------------+-------+\n",
       "+-------------------------------+--------+------------------------+\n",
       "|              text             |  type  |        user_id         |\n",
       "+-------------------------------+--------+------------------------+\n",
       "| Mr Hoagie is an institutio... | review | PUFPaY9KxDAcGqfsorJp3Q |\n",
       "| Excellent food. Superb cus... | review | Iu6AxdBYGR4A0wspR9BYHA |\n",
       "| Yes this place is a little... | review | auESFwWvW42h6alXgFxAXQ |\n",
       "| All the food is great here... | review | uK8tzraOp4M5u3uYrqIBXg |\n",
       "| We checked this place out ... | review | I_47G-R2_egp7ME5u_ltew |\n",
       "| Wing sauce is like water. ... | review | PP_xoMSYlGr2pb67BbqBdA |\n",
       "| Cold cheap beer. Good bar ... | review | JPPhyFE-UE453zA6K0TVgw |\n",
       "| I highly recommend this pl... | review | 2d5HeDvZTDUNVog_WuUpSg |\n",
       "| I am a big believer in fir... | review | BShxMIUwaJS378xcrz4Nmg |\n",
       "| Decent range somewhat clos... | review | fhNxoMwwTipzjO8A9LFe8Q |\n",
       "+-------------------------------+--------+------------------------+\n",
       "+-------------------------------+-------------------------------+\n",
       "|             votes             |           token.text          |\n",
       "+-------------------------------+-------------------------------+\n",
       "| {'funny': 0, 'useful': 0, ... | [mr, hoagie, is, an, insti... |\n",
       "| {'funny': 0, 'useful': 0, ... | [excellent, food., superb,... |\n",
       "| {'funny': 0, 'useful': 0, ... | [yes, this, place, is, a, ... |\n",
       "| {'funny': 0, 'useful': 0, ... | [all, the, food, is, great... |\n",
       "| {'funny': 0, 'useful': 0, ... | [we, checked, this, place,... |\n",
       "| {'funny': 0, 'useful': 0, ... | [wing, sauce, is, like, wa... |\n",
       "| {'funny': 0, 'useful': 0, ... | [cold, cheap, beer., good,... |\n",
       "| {'funny': 0, 'useful': 0, ... | [i, highly, recommend, thi... |\n",
       "| {'funny': 0, 'useful': 0, ... | [i, am, a, big, believer, ... |\n",
       "| {'funny': 0, 'useful': 1, ... | [decent, range, somewhat, ... |\n",
       "+-------------------------------+-------------------------------+\n",
       "[10 rows x 9 columns]"
      ]
     },
     "execution_count": 20,
     "metadata": {},
     "output_type": "execute_result"
    }
   ],
   "source": [
    "tokenized_reviews.head()"
   ]
  },
  {
   "cell_type": "code",
   "execution_count": 51,
   "metadata": {
    "collapsed": false
   },
   "outputs": [],
   "source": [
    "# Selecting reviews with burgers in them\n",
    "br = tokenized_reviews[tokenized_reviews['token.text'].apply(lambda x: 'burger' in set(x))]\n"
   ]
  },
  {
   "cell_type": "code",
   "execution_count": 58,
   "metadata": {
    "collapsed": false
   },
   "outputs": [
    {
     "name": "stdout",
     "output_type": "stream",
     "text": [
      "Number of reviews which have burgers in them: 67098\n"
     ]
    }
   ],
   "source": [
    "print \"Number of reviews which have burgers in them: {}\".format(len(br))"
   ]
  },
  {
   "cell_type": "code",
   "execution_count": 126,
   "metadata": {
    "collapsed": true
   },
   "outputs": [],
   "source": [
    "brc = sm.classify(br)"
   ]
  },
  {
   "cell_type": "code",
   "execution_count": 127,
   "metadata": {
    "collapsed": false
   },
   "outputs": [],
   "source": [
    "# Joining the classified output with the original burger review dataset\n",
    "brc['review_id'] = br['review_id']\n",
    "brc = br.join(brc, on='review_id')"
   ]
  },
  {
   "cell_type": "code",
   "execution_count": 130,
   "metadata": {
    "collapsed": false
   },
   "outputs": [],
   "source": [
    "avg_pn_ratings_by_business = brc.groupby(['business_id', 'class'], {'count':gl.aggregate.COUNT('probability'),'avg':gl.aggregate.AVG('probability')})"
   ]
  },
  {
   "cell_type": "markdown",
   "metadata": {},
   "source": [
    "### Summarizing the number of ratings and sentiment probabilities from Burger reviews"
   ]
  },
  {
   "cell_type": "code",
   "execution_count": 131,
   "metadata": {
    "collapsed": false
   },
   "outputs": [
    {
     "data": {
      "text/plain": [
       "\n",
       "+------------------+-------+----------+\n",
       "|       item       | value | is exact |\n",
       "+------------------+-------+----------+\n",
       "|      Length      | 10527 |   Yes    |\n",
       "| # Missing Values |   0   |   Yes    |\n",
       "| # unique values  |  7650 |    No    |\n",
       "+------------------+-------+----------+\n",
       "\n",
       "Most frequent items:\n",
       "+-------+------------------------+------------------------+------------------------+\n",
       "| value | 2Mx-_HtveweqRVOyHtiSuQ | BwQiwAZTHjmoBY0yO06inQ | jqZKv-7F54guDLalXEjHxg |\n",
       "+-------+------------------------+------------------------+------------------------+\n",
       "| count |           3            |           3            |           3            |\n",
       "+-------+------------------------+------------------------+------------------------+\n",
       "+------------------------+------------------------+------------------------+------------------------+\n",
       "| WaO_hAunQrZ--vI308rHQA | yJDSMugu_Pom3pJE8MRrJA | 77pQVPhksTpz-Yz8v4bK_A | 6BuCNx2gO_GYiXm2KRdMXQ |\n",
       "+------------------------+------------------------+------------------------+------------------------+\n",
       "|           3            |           2            |           2            |           2            |\n",
       "+------------------------+------------------------+------------------------+------------------------+\n",
       "+------------------------+------------------------+------------------------+\n",
       "| aHGcI-KGitnGRco_D_I9Ag | MFPk16G7fAxnCKTyfjw8Vw | M9H8mz7D16W6VVCRO8OgAA |\n",
       "+------------------------+------------------------+------------------------+\n",
       "|           2            |           2            |           2            |\n",
       "+------------------------+------------------------+------------------------+\n"
      ]
     },
     "execution_count": 131,
     "metadata": {},
     "output_type": "execute_result"
    }
   ],
   "source": [
    "avg_pn_ratings_by_business['business_id'].sketch_summary()"
   ]
  },
  {
   "cell_type": "code",
   "execution_count": 134,
   "metadata": {
    "collapsed": false
   },
   "outputs": [
    {
     "data": {
      "text/plain": [
       "\n",
       "+--------------------+---------------+----------+\n",
       "|        item        |     value     | is exact |\n",
       "+--------------------+---------------+----------+\n",
       "|       Length       |      4283     |   Yes    |\n",
       "|        Min         |      1.0      |   Yes    |\n",
       "|        Max         |     458.0     |   Yes    |\n",
       "|        Mean        | 3.83703011908 |   Yes    |\n",
       "|        Sum         |    16434.0    |   Yes    |\n",
       "|      Variance      | 136.978810886 |   Yes    |\n",
       "| Standard Deviation | 11.7037947216 |   Yes    |\n",
       "|  # Missing Values  |       0       |   Yes    |\n",
       "|  # unique values   |       65      |    No    |\n",
       "+--------------------+---------------+----------+\n",
       "\n",
       "Most frequent items:\n",
       "+-------+------+-----+-----+-----+-----+----+----+----+----+----+\n",
       "| value |  1   |  2  |  3  |  4  |  5  | 6  | 7  | 8  | 9  | 10 |\n",
       "+-------+------+-----+-----+-----+-----+----+----+----+----+----+\n",
       "| count | 2182 | 737 | 392 | 200 | 167 | 98 | 83 | 70 | 44 | 41 |\n",
       "+-------+------+-----+-----+-----+-----+----+----+----+----+----+\n",
       "\n",
       "Quantiles: \n",
       "+-----+-----+-----+-----+-----+-----+------+------+-------+\n",
       "|  0% |  1% |  5% | 25% | 50% | 75% | 95%  | 99%  |  100% |\n",
       "+-----+-----+-----+-----+-----+-----+------+------+-------+\n",
       "| 1.0 | 1.0 | 1.0 | 1.0 | 1.0 | 3.0 | 12.0 | 33.0 | 458.0 |\n",
       "+-----+-----+-----+-----+-----+-----+------+------+-------+"
      ]
     },
     "execution_count": 134,
     "metadata": {},
     "output_type": "execute_result"
    }
   ],
   "source": [
    "# summary of counts/business of negative reviews\n",
    "avg_pn_ratings_by_business[avg_pn_ratings_by_business['class']==0]['count'].sketch_summary()\n"
   ]
  },
  {
   "cell_type": "code",
   "execution_count": 135,
   "metadata": {
    "collapsed": false
   },
   "outputs": [
    {
     "data": {
      "text/plain": [
       "\n",
       "+--------------------+---------------+----------+\n",
       "|        item        |     value     | is exact |\n",
       "+--------------------+---------------+----------+\n",
       "|       Length       |      6244     |   Yes    |\n",
       "|        Min         |      1.0      |   Yes    |\n",
       "|        Max         |     1872.0    |   Yes    |\n",
       "|        Mean        | 8.11402946829 |   Yes    |\n",
       "|        Sum         |    50664.0    |   Yes    |\n",
       "|      Variance      | 1776.93895116 |   Yes    |\n",
       "| Standard Deviation | 42.1537537018 |   Yes    |\n",
       "|  # Missing Values  |       0       |   Yes    |\n",
       "|  # unique values   |      141      |    No    |\n",
       "+--------------------+---------------+----------+\n",
       "\n",
       "Most frequent items:\n",
       "+-------+------+------+-----+-----+-----+-----+-----+-----+----+----+\n",
       "| value |  1   |  2   |  3  |  4  |  5  |  6  |  8  |  7  | 10 | 9  |\n",
       "+-------+------+------+-----+-----+-----+-----+-----+-----+----+----+\n",
       "| count | 2789 | 1007 | 532 | 309 | 229 | 160 | 116 | 116 | 81 | 79 |\n",
       "+-------+------+------+-----+-----+-----+-----+-----+-----+----+----+\n",
       "\n",
       "Quantiles: \n",
       "+-----+-----+-----+-----+-----+-----+------+------+--------+\n",
       "|  0% |  1% |  5% | 25% | 50% | 75% | 95%  | 99%  |  100%  |\n",
       "+-----+-----+-----+-----+-----+-----+------+------+--------+\n",
       "| 1.0 | 1.0 | 1.0 | 1.0 | 2.0 | 5.0 | 28.0 | 99.0 | 1872.0 |\n",
       "+-----+-----+-----+-----+-----+-----+------+------+--------+"
      ]
     },
     "execution_count": 135,
     "metadata": {},
     "output_type": "execute_result"
    }
   ],
   "source": [
    "# Summary of counts/review of positive reviews\n",
    "avg_pn_ratings_by_business[avg_pn_ratings_by_business['class']==1]['count'].sketch_summary()"
   ]
  },
  {
   "cell_type": "code",
   "execution_count": 138,
   "metadata": {
    "collapsed": false
   },
   "outputs": [
    {
     "data": {
      "text/plain": [
       "\n",
       "+--------------------+---------------+----------+\n",
       "|        item        |     value     | is exact |\n",
       "+--------------------+---------------+----------+\n",
       "|       Length       |      7616     |   Yes    |\n",
       "|        Min         |      1.0      |   Yes    |\n",
       "|        Max         |     2330.0    |   Yes    |\n",
       "|        Mean        | 8.81013655462 |   Yes    |\n",
       "|        Sum         |    67098.0    |   Yes    |\n",
       "|      Variance      | 2166.73180901 |   Yes    |\n",
       "| Standard Deviation | 46.5481665484 |   Yes    |\n",
       "|  # Missing Values  |       0       |   Yes    |\n",
       "|  # unique values   |      166      |    No    |\n",
       "+--------------------+---------------+----------+\n",
       "\n",
       "Most frequent items:\n",
       "+-------+------+------+-----+-----+-----+-----+-----+-----+-----+----+\n",
       "| value |  1   |  2   |  3  |  4  |  5  |  6  |  7  |  8  |  9  | 10 |\n",
       "+-------+------+------+-----+-----+-----+-----+-----+-----+-----+----+\n",
       "| count | 3260 | 1195 | 681 | 407 | 267 | 215 | 165 | 134 | 119 | 87 |\n",
       "+-------+------+------+-----+-----+-----+-----+-----+-----+-----+----+\n",
       "\n",
       "Quantiles: \n",
       "+-----+-----+-----+-----+-----+-----+------+-------+--------+\n",
       "|  0% |  1% |  5% | 25% | 50% | 75% | 95%  |  99%  |  100%  |\n",
       "+-----+-----+-----+-----+-----+-----+------+-------+--------+\n",
       "| 1.0 | 1.0 | 1.0 | 1.0 | 2.0 | 5.0 | 31.0 | 107.0 | 2330.0 |\n",
       "+-----+-----+-----+-----+-----+-----+------+-------+--------+"
      ]
     },
     "execution_count": 138,
     "metadata": {},
     "output_type": "execute_result"
    }
   ],
   "source": [
    "\n",
    "count_ratings = brc.groupby('business_id', {'count':gl.aggregate.COUNT('probability')})\n",
    "count_ratings['count'].sketch_summary()"
   ]
  },
  {
   "cell_type": "code",
   "execution_count": 139,
   "metadata": {
    "collapsed": false
   },
   "outputs": [
    {
     "data": {
      "text/plain": [
       "375"
      ]
     },
     "execution_count": 139,
     "metadata": {},
     "output_type": "execute_result"
    }
   ],
   "source": [
    "len(count_ratings[count_ratings['count']>31])"
   ]
  },
  {
   "cell_type": "markdown",
   "metadata": {},
   "source": [
    "#### Notes\n",
    "- There are 7650 unique businesses which have reviews of burgers\n",
    "- only 375 businesses have more than 31 reviews for burgers \n",
    "- Number of positive reviews/business ranges from 1 to 1872\n",
    "- Number of negative reviews/business ranges from 1 to 458 "
   ]
  },
  {
   "cell_type": "code",
   "execution_count": 137,
   "metadata": {
    "collapsed": false
   },
   "outputs": [
    {
     "data": {
      "text/plain": [
       "\n",
       "+--------------------+---------------+----------+\n",
       "|        item        |     value     | is exact |\n",
       "+--------------------+---------------+----------+\n",
       "|       Length       |      7616     |   Yes    |\n",
       "|        Min         |      1.0      |   Yes    |\n",
       "|        Max         |     2330.0    |   Yes    |\n",
       "|        Mean        | 8.81013655462 |   Yes    |\n",
       "|        Sum         |    67098.0    |   Yes    |\n",
       "|      Variance      | 2166.73180901 |   Yes    |\n",
       "| Standard Deviation | 46.5481665484 |   Yes    |\n",
       "|  # Missing Values  |       0       |   Yes    |\n",
       "|  # unique values   |      166      |    No    |\n",
       "+--------------------+---------------+----------+\n",
       "\n",
       "Most frequent items:\n",
       "+-------+------+------+-----+-----+-----+-----+-----+-----+-----+----+\n",
       "| value |  1   |  2   |  3  |  4  |  5  |  6  |  7  |  8  |  9  | 10 |\n",
       "+-------+------+------+-----+-----+-----+-----+-----+-----+-----+----+\n",
       "| count | 3260 | 1195 | 681 | 407 | 267 | 215 | 165 | 134 | 119 | 87 |\n",
       "+-------+------+------+-----+-----+-----+-----+-----+-----+-----+----+\n",
       "\n",
       "Quantiles: \n",
       "+-----+-----+-----+-----+-----+-----+------+-------+--------+\n",
       "|  0% |  1% |  5% | 25% | 50% | 75% | 95%  |  99%  |  100%  |\n",
       "+-----+-----+-----+-----+-----+-----+------+-------+--------+\n",
       "| 1.0 | 1.0 | 1.0 | 1.0 | 2.0 | 5.0 | 31.0 | 107.0 | 2330.0 |\n",
       "+-----+-----+-----+-----+-----+-----+------+-------+--------+"
      ]
     },
     "execution_count": 137,
     "metadata": {},
     "output_type": "execute_result"
    }
   ],
   "source": []
  },
  {
   "cell_type": "code",
   "execution_count": 118,
   "metadata": {
    "collapsed": false
   },
   "outputs": [
    {
     "data": {
      "text/html": [
       "<pre>Finished parsing file /Users/mayankkedia/Documents/Jobs/Dato/yelp_dataset_challenge_academic_dataset/yelp_academic_dataset_business.json</pre>"
      ],
      "text/plain": [
       "Finished parsing file /Users/mayankkedia/Documents/Jobs/Dato/yelp_dataset_challenge_academic_dataset/yelp_academic_dataset_business.json"
      ]
     },
     "metadata": {},
     "output_type": "display_data"
    },
    {
     "data": {
      "text/html": [
       "<pre>Parsing completed. Parsed 100 lines in 1.70849 secs.</pre>"
      ],
      "text/plain": [
       "Parsing completed. Parsed 100 lines in 1.70849 secs."
      ]
     },
     "metadata": {},
     "output_type": "display_data"
    },
    {
     "name": "stdout",
     "output_type": "stream",
     "text": [
      "------------------------------------------------------\n",
      "Inferred types from first 100 line(s) of file as \n",
      "column_type_hints=[dict]\n",
      "If parsing fails due to incorrect types, you can correct\n",
      "the inferred type list above and pass it to read_csv in\n",
      "the column_type_hints argument\n",
      "------------------------------------------------------\n"
     ]
    },
    {
     "data": {
      "text/html": [
       "<pre>Read 59239 lines. Lines per second: 24780.7</pre>"
      ],
      "text/plain": [
       "Read 59239 lines. Lines per second: 24780.7"
      ]
     },
     "metadata": {},
     "output_type": "display_data"
    },
    {
     "data": {
      "text/html": [
       "<pre>Finished parsing file /Users/mayankkedia/Documents/Jobs/Dato/yelp_dataset_challenge_academic_dataset/yelp_academic_dataset_business.json</pre>"
      ],
      "text/plain": [
       "Finished parsing file /Users/mayankkedia/Documents/Jobs/Dato/yelp_dataset_challenge_academic_dataset/yelp_academic_dataset_business.json"
      ]
     },
     "metadata": {},
     "output_type": "display_data"
    },
    {
     "data": {
      "text/html": [
       "<pre>Parsing completed. Parsed 77445 lines in 2.70513 secs.</pre>"
      ],
      "text/plain": [
       "Parsing completed. Parsed 77445 lines in 2.70513 secs."
      ]
     },
     "metadata": {},
     "output_type": "display_data"
    }
   ],
   "source": [
    "businesses = gl.SFrame.read_json('yelp_dataset_challenge_academic_dataset/yelp_academic_dataset_business.json', orient='lines')"
   ]
  },
  {
   "cell_type": "code",
   "execution_count": 120,
   "metadata": {
    "collapsed": false
   },
   "outputs": [
    {
     "data": {
      "text/html": [
       "<div style=\"max-height:1000px;max-width:1500px;overflow:auto;\"><table frame=\"box\" rules=\"cols\">\n",
       "    <tr>\n",
       "        <th style=\"padding-left: 1em; padding-right: 1em; text-align: center\">attributes</th>\n",
       "        <th style=\"padding-left: 1em; padding-right: 1em; text-align: center\">business_id</th>\n",
       "        <th style=\"padding-left: 1em; padding-right: 1em; text-align: center\">categories</th>\n",
       "        <th style=\"padding-left: 1em; padding-right: 1em; text-align: center\">city</th>\n",
       "        <th style=\"padding-left: 1em; padding-right: 1em; text-align: center\">full_address</th>\n",
       "    </tr>\n",
       "    <tr>\n",
       "        <td style=\"padding-left: 1em; padding-right: 1em; text-align: center; vertical-align: top\">{'Take-out': 'true',<br>'Accepts Credit Cards': ...</td>\n",
       "        <td style=\"padding-left: 1em; padding-right: 1em; text-align: center; vertical-align: top\">aGbjLWzcrnEx2ZmMCFm3EA</td>\n",
       "        <td style=\"padding-left: 1em; padding-right: 1em; text-align: center; vertical-align: top\">[Burgers, Restaurants]</td>\n",
       "        <td style=\"padding-left: 1em; padding-right: 1em; text-align: center; vertical-align: top\">Las Vegas</td>\n",
       "        <td style=\"padding-left: 1em; padding-right: 1em; text-align: center; vertical-align: top\">Planet Hollywood Las<br>Vegas Resort &amp; ...</td>\n",
       "    </tr>\n",
       "</table>\n",
       "<table frame=\"box\" rules=\"cols\">\n",
       "    <tr>\n",
       "        <th style=\"padding-left: 1em; padding-right: 1em; text-align: center\">hours</th>\n",
       "        <th style=\"padding-left: 1em; padding-right: 1em; text-align: center\">latitude</th>\n",
       "        <th style=\"padding-left: 1em; padding-right: 1em; text-align: center\">longitude</th>\n",
       "        <th style=\"padding-left: 1em; padding-right: 1em; text-align: center\">name</th>\n",
       "        <th style=\"padding-left: 1em; padding-right: 1em; text-align: center\">neighborhoods</th>\n",
       "        <th style=\"padding-left: 1em; padding-right: 1em; text-align: center\">open</th>\n",
       "        <th style=\"padding-left: 1em; padding-right: 1em; text-align: center\">review_count</th>\n",
       "    </tr>\n",
       "    <tr>\n",
       "        <td style=\"padding-left: 1em; padding-right: 1em; text-align: center; vertical-align: top\">{'Monday': {'close':<br>'00:00', 'open': ...</td>\n",
       "        <td style=\"padding-left: 1em; padding-right: 1em; text-align: center; vertical-align: top\">36.1101083959</td>\n",
       "        <td style=\"padding-left: 1em; padding-right: 1em; text-align: center; vertical-align: top\">-115.172338486</td>\n",
       "        <td style=\"padding-left: 1em; padding-right: 1em; text-align: center; vertical-align: top\">Gordon Ramsay BurGR</td>\n",
       "        <td style=\"padding-left: 1em; padding-right: 1em; text-align: center; vertical-align: top\">[The Strip]</td>\n",
       "        <td style=\"padding-left: 1em; padding-right: 1em; text-align: center; vertical-align: top\">true</td>\n",
       "        <td style=\"padding-left: 1em; padding-right: 1em; text-align: center; vertical-align: top\">3811</td>\n",
       "    </tr>\n",
       "</table>\n",
       "<table frame=\"box\" rules=\"cols\">\n",
       "    <tr>\n",
       "        <th style=\"padding-left: 1em; padding-right: 1em; text-align: center\">stars</th>\n",
       "        <th style=\"padding-left: 1em; padding-right: 1em; text-align: center\">state</th>\n",
       "        <th style=\"padding-left: 1em; padding-right: 1em; text-align: center\">type</th>\n",
       "    </tr>\n",
       "    <tr>\n",
       "        <td style=\"padding-left: 1em; padding-right: 1em; text-align: center; vertical-align: top\">4.0</td>\n",
       "        <td style=\"padding-left: 1em; padding-right: 1em; text-align: center; vertical-align: top\">NV</td>\n",
       "        <td style=\"padding-left: 1em; padding-right: 1em; text-align: center; vertical-align: top\">business</td>\n",
       "    </tr>\n",
       "</table>\n",
       "[? rows x 15 columns]<br/>Note: Only the head of the SFrame is printed. This SFrame is lazily evaluated.<br/>You can use sf.materialize() to force materialization.\n",
       "</div>"
      ],
      "text/plain": [
       "Columns:\n",
       "\tattributes\tdict\n",
       "\tbusiness_id\tstr\n",
       "\tcategories\tlist\n",
       "\tcity\tstr\n",
       "\tfull_address\tstr\n",
       "\thours\tdict\n",
       "\tlatitude\tfloat\n",
       "\tlongitude\tfloat\n",
       "\tname\tstr\n",
       "\tneighborhoods\tlist\n",
       "\topen\tstr\n",
       "\treview_count\tint\n",
       "\tstars\tfloat\n",
       "\tstate\tstr\n",
       "\ttype\tstr\n",
       "\n",
       "Rows: Unknown\n",
       "\n",
       "Data:\n",
       "+-------------------------------+------------------------+\n",
       "|           attributes          |      business_id       |\n",
       "+-------------------------------+------------------------+\n",
       "| {'Take-out': 'true', 'Acce... | aGbjLWzcrnEx2ZmMCFm3EA |\n",
       "+-------------------------------+------------------------+\n",
       "+------------------------+-----------+-------------------------------+\n",
       "|       categories       |    city   |          full_address         |\n",
       "+------------------------+-----------+-------------------------------+\n",
       "| [Burgers, Restaurants] | Las Vegas | Planet Hollywood Las Vegas... |\n",
       "+------------------------+-----------+-------------------------------+\n",
       "+-------------------------------+---------------+----------------+\n",
       "|             hours             |    latitude   |   longitude    |\n",
       "+-------------------------------+---------------+----------------+\n",
       "| {'Monday': {'close': '00:0... | 36.1101083959 | -115.172338486 |\n",
       "+-------------------------------+---------------+----------------+\n",
       "+---------------------+---------------+------+--------------+-------+-------+\n",
       "|         name        | neighborhoods | open | review_count | stars | state |\n",
       "+---------------------+---------------+------+--------------+-------+-------+\n",
       "| Gordon Ramsay BurGR |  [The Strip]  | true |     3811     |  4.0  |   NV  |\n",
       "+---------------------+---------------+------+--------------+-------+-------+\n",
       "+----------+\n",
       "|   type   |\n",
       "+----------+\n",
       "| business |\n",
       "+----------+\n",
       "[? rows x 15 columns]\n",
       "Note: Only the head of the SFrame is printed. This SFrame is lazily evaluated.\n",
       "You can use sf.materialize() to force materialization."
      ]
     },
     "execution_count": 120,
     "metadata": {},
     "output_type": "execute_result"
    }
   ],
   "source": [
    "businesses[businesses['business_id']=='aGbjLWzcrnEx2ZmMCFm3EA']"
   ]
  },
  {
   "cell_type": "code",
   "execution_count": null,
   "metadata": {
    "collapsed": true
   },
   "outputs": [],
   "source": []
  },
  {
   "cell_type": "code",
   "execution_count": null,
   "metadata": {
    "collapsed": true
   },
   "outputs": [],
   "source": []
  },
  {
   "cell_type": "code",
   "execution_count": null,
   "metadata": {
    "collapsed": true
   },
   "outputs": [],
   "source": []
  },
  {
   "cell_type": "code",
   "execution_count": null,
   "metadata": {
    "collapsed": true
   },
   "outputs": [],
   "source": []
  },
  {
   "cell_type": "code",
   "execution_count": null,
   "metadata": {
    "collapsed": true
   },
   "outputs": [],
   "source": []
  },
  {
   "cell_type": "code",
   "execution_count": null,
   "metadata": {
    "collapsed": true
   },
   "outputs": [],
   "source": []
  },
  {
   "cell_type": "code",
   "execution_count": null,
   "metadata": {
    "collapsed": true
   },
   "outputs": [],
   "source": []
  }
 ],
 "metadata": {
  "kernelspec": {
   "display_name": "Python 2",
   "language": "python",
   "name": "python2"
  },
  "language_info": {
   "codemirror_mode": {
    "name": "ipython",
    "version": 2
   },
   "file_extension": ".py",
   "mimetype": "text/x-python",
   "name": "python",
   "nbconvert_exporter": "python",
   "pygments_lexer": "ipython2",
   "version": "2.7.11"
  }
 },
 "nbformat": 4,
 "nbformat_minor": 0
}
