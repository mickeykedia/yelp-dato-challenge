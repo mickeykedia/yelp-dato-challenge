{
 "cells": [
  {
   "cell_type": "code",
   "execution_count": 1,
   "metadata": {
    "collapsed": false
   },
   "outputs": [
    {
     "name": "stdout",
     "output_type": "stream",
     "text": [
      "This non-commercial license of GraphLab Create is assigned to mkkedia@dons.usfca.edu and will expire on May 31, 2017. For commercial licensing options, visit https://dato.com/buy/.\n"
     ]
    },
    {
     "name": "stderr",
     "output_type": "stream",
     "text": [
      "[INFO] graphlab.cython.cy_server: GraphLab Create v1.10 started. Logging: /tmp/graphlab_server_1465307632.log\n"
     ]
    }
   ],
   "source": [
    "import graphlab as gl\n",
    "import matplotlib.pyplot as plt\n",
    "import seaborn as sns\n",
    "%matplotlib inline"
   ]
  },
  {
   "cell_type": "code",
   "execution_count": 13,
   "metadata": {
    "collapsed": false
   },
   "outputs": [
    {
     "data": {
      "text/html": [
       "<pre>Finished parsing file /Users/mayankkedia/Documents/Jobs/Dato/yelp_dataset_challenge_academic_dataset/yelp_academic_dataset_tip.json</pre>"
      ],
      "text/plain": [
       "Finished parsing file /Users/mayankkedia/Documents/Jobs/Dato/yelp_dataset_challenge_academic_dataset/yelp_academic_dataset_tip.json"
      ]
     },
     "metadata": {},
     "output_type": "display_data"
    },
    {
     "data": {
      "text/html": [
       "<pre>Parsing completed. Parsed 100 lines in 1.3347 secs.</pre>"
      ],
      "text/plain": [
       "Parsing completed. Parsed 100 lines in 1.3347 secs."
      ]
     },
     "metadata": {},
     "output_type": "display_data"
    },
    {
     "name": "stdout",
     "output_type": "stream",
     "text": [
      "------------------------------------------------------\n",
      "Inferred types from first 100 line(s) of file as \n",
      "column_type_hints=[dict]\n",
      "If parsing fails due to incorrect types, you can correct\n",
      "the inferred type list above and pass it to read_csv in\n",
      "the column_type_hints argument\n",
      "------------------------------------------------------\n"
     ]
    },
    {
     "data": {
      "text/html": [
       "<pre>Read 266571 lines. Lines per second: 103458</pre>"
      ],
      "text/plain": [
       "Read 266571 lines. Lines per second: 103458"
      ]
     },
     "metadata": {},
     "output_type": "display_data"
    },
    {
     "data": {
      "text/html": [
       "<pre>Finished parsing file /Users/mayankkedia/Documents/Jobs/Dato/yelp_dataset_challenge_academic_dataset/yelp_academic_dataset_tip.json</pre>"
      ],
      "text/plain": [
       "Finished parsing file /Users/mayankkedia/Documents/Jobs/Dato/yelp_dataset_challenge_academic_dataset/yelp_academic_dataset_tip.json"
      ]
     },
     "metadata": {},
     "output_type": "display_data"
    },
    {
     "data": {
      "text/html": [
       "<pre>Parsing completed. Parsed 591864 lines in 3.70001 secs.</pre>"
      ],
      "text/plain": [
       "Parsing completed. Parsed 591864 lines in 3.70001 secs."
      ]
     },
     "metadata": {},
     "output_type": "display_data"
    }
   ],
   "source": [
    "tips = gl.SFrame.read_json(\"yelp_dataset_challenge_academic_dataset/yelp_academic_dataset_tip.json\", orient='lines')"
   ]
  },
  {
   "cell_type": "code",
   "execution_count": 14,
   "metadata": {
    "collapsed": false
   },
   "outputs": [
    {
     "data": {
      "text/plain": [
       "591864"
      ]
     },
     "execution_count": 14,
     "metadata": {},
     "output_type": "execute_result"
    }
   ],
   "source": [
    "len(tips)"
   ]
  },
  {
   "cell_type": "markdown",
   "metadata": {},
   "source": [
    "## Tips EDA\n",
    "\n",
    "### Things to do \n",
    "- tips/user distribution\n",
    "- tips/business distribution\n",
    "- likes distribution\n",
    "- city trends \n",
    "\n",
    "- 117k users have provided tips\n",
    "- Median is 1, Max is 1389"
   ]
  },
  {
   "cell_type": "code",
   "execution_count": 3,
   "metadata": {
    "collapsed": false
   },
   "outputs": [
    {
     "data": {
      "text/html": [
       "<div style=\"max-height:1000px;max-width:1500px;overflow:auto;\"><table frame=\"box\" rules=\"cols\">\n",
       "    <tr>\n",
       "        <th style=\"padding-left: 1em; padding-right: 1em; text-align: center\">business_id</th>\n",
       "        <th style=\"padding-left: 1em; padding-right: 1em; text-align: center\">date</th>\n",
       "        <th style=\"padding-left: 1em; padding-right: 1em; text-align: center\">likes</th>\n",
       "        <th style=\"padding-left: 1em; padding-right: 1em; text-align: center\">text</th>\n",
       "        <th style=\"padding-left: 1em; padding-right: 1em; text-align: center\">type</th>\n",
       "        <th style=\"padding-left: 1em; padding-right: 1em; text-align: center\">user_id</th>\n",
       "    </tr>\n",
       "    <tr>\n",
       "        <td style=\"padding-left: 1em; padding-right: 1em; text-align: center; vertical-align: top\">cE27W9VPgO88Qxe4ol6y_g</td>\n",
       "        <td style=\"padding-left: 1em; padding-right: 1em; text-align: center; vertical-align: top\">2013-04-18</td>\n",
       "        <td style=\"padding-left: 1em; padding-right: 1em; text-align: center; vertical-align: top\">0</td>\n",
       "        <td style=\"padding-left: 1em; padding-right: 1em; text-align: center; vertical-align: top\">Don't waste your time.</td>\n",
       "        <td style=\"padding-left: 1em; padding-right: 1em; text-align: center; vertical-align: top\">tip</td>\n",
       "        <td style=\"padding-left: 1em; padding-right: 1em; text-align: center; vertical-align: top\">-6rEfobYjMxpUWLNxszaxQ</td>\n",
       "    </tr>\n",
       "</table>\n",
       "[1 rows x 6 columns]<br/>\n",
       "</div>"
      ],
      "text/plain": [
       "Columns:\n",
       "\tbusiness_id\tstr\n",
       "\tdate\tstr\n",
       "\tlikes\tint\n",
       "\ttext\tstr\n",
       "\ttype\tstr\n",
       "\tuser_id\tstr\n",
       "\n",
       "Rows: 1\n",
       "\n",
       "Data:\n",
       "+------------------------+------------+-------+------------------------+------+\n",
       "|      business_id       |    date    | likes |          text          | type |\n",
       "+------------------------+------------+-------+------------------------+------+\n",
       "| cE27W9VPgO88Qxe4ol6y_g | 2013-04-18 |   0   | Don't waste your time. | tip  |\n",
       "+------------------------+------------+-------+------------------------+------+\n",
       "+------------------------+\n",
       "|        user_id         |\n",
       "+------------------------+\n",
       "| -6rEfobYjMxpUWLNxszaxQ |\n",
       "+------------------------+\n",
       "[1 rows x 6 columns]"
      ]
     },
     "execution_count": 3,
     "metadata": {},
     "output_type": "execute_result"
    }
   ],
   "source": [
    "tips.head(1)"
   ]
  },
  {
   "cell_type": "markdown",
   "metadata": {},
   "source": [
    "### Number of tips/user distribution"
   ]
  },
  {
   "cell_type": "code",
   "execution_count": 4,
   "metadata": {
    "collapsed": true
   },
   "outputs": [],
   "source": [
    "user_tips = tips.groupby('user_id', gl.aggregate.COUNT('user_id'))"
   ]
  },
  {
   "cell_type": "code",
   "execution_count": 6,
   "metadata": {
    "collapsed": false
   },
   "outputs": [
    {
     "data": {
      "text/plain": [
       "\n",
       "+--------------------+---------------+----------+\n",
       "|        item        |     value     | is exact |\n",
       "+--------------------+---------------+----------+\n",
       "|       Length       |     117133    |   Yes    |\n",
       "|        Min         |      1.0      |   Yes    |\n",
       "|        Max         |     1389.0    |   Yes    |\n",
       "|        Mean        | 5.05292274594 |   Yes    |\n",
       "|        Sum         |    591864.0   |   Yes    |\n",
       "|      Variance      | 365.564895733 |   Yes    |\n",
       "| Standard Deviation | 19.1197514558 |   Yes    |\n",
       "|  # Missing Values  |       0       |   Yes    |\n",
       "|  # unique values   |      327      |    No    |\n",
       "+--------------------+---------------+----------+\n",
       "\n",
       "Most frequent items:\n",
       "+-------+-------+-------+------+------+------+------+------+------+------+------+\n",
       "| value |   1   |   2   |  3   |  4   |  5   |  6   |  7   |  8   |  9   |  10  |\n",
       "+-------+-------+-------+------+------+------+------+------+------+------+------+\n",
       "| count | 60744 | 19798 | 9355 | 5591 | 3612 | 2601 | 1992 | 1592 | 1267 | 1002 |\n",
       "+-------+-------+-------+------+------+------+------+------+------+------+------+\n",
       "\n",
       "Quantiles: \n",
       "+-----+-----+-----+-----+-----+-----+------+------+--------+\n",
       "|  0% |  1% |  5% | 25% | 50% | 75% | 95%  | 99%  |  100%  |\n",
       "+-----+-----+-----+-----+-----+-----+------+------+--------+\n",
       "| 1.0 | 1.0 | 1.0 | 1.0 | 1.0 | 3.0 | 17.0 | 66.0 | 1389.0 |\n",
       "+-----+-----+-----+-----+-----+-----+------+------+--------+"
      ]
     },
     "execution_count": 6,
     "metadata": {},
     "output_type": "execute_result"
    }
   ],
   "source": [
    "user_tips['Count'].sketch_summary()"
   ]
  },
  {
   "cell_type": "code",
   "execution_count": 7,
   "metadata": {
    "collapsed": true
   },
   "outputs": [],
   "source": [
    "business_tips = tips.groupby('business_id', gl.aggregate.COUNT('business_id'))"
   ]
  },
  {
   "cell_type": "code",
   "execution_count": 8,
   "metadata": {
    "collapsed": false
   },
   "outputs": [
    {
     "data": {
      "text/plain": [
       "\n",
       "+--------------------+---------------+----------+\n",
       "|        item        |     value     | is exact |\n",
       "+--------------------+---------------+----------+\n",
       "|       Length       |     51986     |   Yes    |\n",
       "|        Min         |      1.0      |   Yes    |\n",
       "|        Max         |     2832.0    |   Yes    |\n",
       "|        Mean        | 11.3850652099 |   Yes    |\n",
       "|        Sum         |    591864.0   |   Yes    |\n",
       "|      Variance      |  1153.9202817 |   Yes    |\n",
       "| Standard Deviation | 33.9694021393 |   Yes    |\n",
       "|  # Missing Values  |       0       |   Yes    |\n",
       "|  # unique values   |      345      |    No    |\n",
       "+--------------------+---------------+----------+\n",
       "\n",
       "Most frequent items:\n",
       "+-------+-------+------+------+------+------+------+------+------+------+-----+\n",
       "| value |   1   |  2   |  3   |  4   |  5   |  6   |  7   |  8   |  9   |  10 |\n",
       "+-------+-------+------+------+------+------+------+------+------+------+-----+\n",
       "| count | 13956 | 8192 | 5114 | 3502 | 2595 | 2067 | 1606 | 1294 | 1085 | 968 |\n",
       "+-------+-------+------+------+------+------+------+------+------+------+-----+\n",
       "\n",
       "Quantiles: \n",
       "+-----+-----+-----+-----+-----+-----+------+-------+--------+\n",
       "|  0% |  1% |  5% | 25% | 50% | 75% | 95%  |  99%  |  100%  |\n",
       "+-----+-----+-----+-----+-----+-----+------+-------+--------+\n",
       "| 1.0 | 1.0 | 1.0 | 1.0 | 3.0 | 9.0 | 46.0 | 125.0 | 2832.0 |\n",
       "+-----+-----+-----+-----+-----+-----+------+-------+--------+"
      ]
     },
     "execution_count": 8,
     "metadata": {},
     "output_type": "execute_result"
    }
   ],
   "source": [
    "business_tips['Count'].sketch_summary()"
   ]
  },
  {
   "cell_type": "code",
   "execution_count": 10,
   "metadata": {
    "collapsed": false
   },
   "outputs": [
    {
     "data": {
      "text/plain": [
       "\n",
       "+--------------------+-----------------+----------+\n",
       "|        item        |      value      | is exact |\n",
       "+--------------------+-----------------+----------+\n",
       "|       Length       |      591864     |   Yes    |\n",
       "|        Min         |       0.0       |   Yes    |\n",
       "|        Max         |       10.0      |   Yes    |\n",
       "|        Mean        | 0.0152095751727 |   Yes    |\n",
       "|        Sum         |      9002.0     |   Yes    |\n",
       "|      Variance      | 0.0189453715791 |   Yes    |\n",
       "| Standard Deviation |  0.137642186771 |   Yes    |\n",
       "|  # Missing Values  |        0        |   Yes    |\n",
       "|  # unique values   |        11       |    No    |\n",
       "+--------------------+-----------------+----------+\n",
       "\n",
       "Most frequent items:\n",
       "+-------+--------+------+-----+----+----+---+---+----+---+---+\n",
       "| value |   0    |  1   |  2  | 3  | 4  | 5 | 6 | 10 | 7 | 9 |\n",
       "+-------+--------+------+-----+----+----+---+---+----+---+---+\n",
       "| count | 583709 | 7495 | 543 | 80 | 21 | 9 | 3 | 1  | 1 | 1 |\n",
       "+-------+--------+------+-----+----+----+---+---+----+---+---+\n",
       "\n",
       "Quantiles: \n",
       "+-----+-----+-----+-----+-----+-----+-----+-----+------+\n",
       "|  0% |  1% |  5% | 25% | 50% | 75% | 95% | 99% | 100% |\n",
       "+-----+-----+-----+-----+-----+-----+-----+-----+------+\n",
       "| 0.0 | 0.0 | 0.0 | 0.0 | 0.0 | 0.0 | 0.0 | 1.0 | 10.0 |\n",
       "+-----+-----+-----+-----+-----+-----+-----+-----+------+"
      ]
     },
     "execution_count": 10,
     "metadata": {},
     "output_type": "execute_result"
    }
   ],
   "source": [
    "tips['likes'].sketch_summary()"
   ]
  },
  {
   "cell_type": "code",
   "execution_count": 12,
   "metadata": {
    "collapsed": false
   },
   "outputs": [
    {
     "data": {
      "text/plain": [
       "583709"
      ]
     },
     "execution_count": 12,
     "metadata": {},
     "output_type": "execute_result"
    }
   ],
   "source": [
    "sum(tips['likes']==0)"
   ]
  },
  {
   "cell_type": "markdown",
   "metadata": {},
   "source": [
    "# Photos \n",
    "\n",
    "## Todo "
   ]
  },
  {
   "cell_type": "code",
   "execution_count": null,
   "metadata": {
    "collapsed": true
   },
   "outputs": [],
   "source": [
    "photos = gl.SFrame.read_json('yelp_dataset_challenge_academic_dataset/')"
   ]
  },
  {
   "cell_type": "code",
   "execution_count": null,
   "metadata": {
    "collapsed": true
   },
   "outputs": [],
   "source": []
  },
  {
   "cell_type": "code",
   "execution_count": null,
   "metadata": {
    "collapsed": true
   },
   "outputs": [],
   "source": []
  },
  {
   "cell_type": "code",
   "execution_count": null,
   "metadata": {
    "collapsed": true
   },
   "outputs": [],
   "source": []
  },
  {
   "cell_type": "code",
   "execution_count": null,
   "metadata": {
    "collapsed": true
   },
   "outputs": [],
   "source": []
  }
 ],
 "metadata": {
  "kernelspec": {
   "display_name": "Python 2",
   "language": "python",
   "name": "python2"
  },
  "language_info": {
   "codemirror_mode": {
    "name": "ipython",
    "version": 2
   },
   "file_extension": ".py",
   "mimetype": "text/x-python",
   "name": "python",
   "nbconvert_exporter": "python",
   "pygments_lexer": "ipython2",
   "version": "2.7.11"
  }
 },
 "nbformat": 4,
 "nbformat_minor": 0
}
