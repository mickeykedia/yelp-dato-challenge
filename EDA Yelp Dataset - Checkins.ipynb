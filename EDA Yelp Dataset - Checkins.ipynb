{
 "cells": [
  {
   "cell_type": "code",
   "execution_count": 56,
   "metadata": {
    "collapsed": true
   },
   "outputs": [],
   "source": [
    "import graphlab as gl\n",
    "import matplotlib.pyplot as plt\n",
    "import seaborn as sns\n",
    "%matplotlib inline"
   ]
  },
  {
   "cell_type": "code",
   "execution_count": 2,
   "metadata": {
    "collapsed": false
   },
   "outputs": [
    {
     "name": "stdout",
     "output_type": "stream",
     "text": [
      "This non-commercial license of GraphLab Create is assigned to mkkedia@dons.usfca.edu and will expire on May 31, 2017. For commercial licensing options, visit https://dato.com/buy/.\n"
     ]
    },
    {
     "name": "stderr",
     "output_type": "stream",
     "text": [
      "[INFO] graphlab.cython.cy_server: GraphLab Create v1.10 started. Logging: /tmp/graphlab_server_1465185737.log\n"
     ]
    },
    {
     "data": {
      "text/html": [
       "<pre>Finished parsing file /Users/mayankkedia/Documents/Jobs/Dato/yelp_dataset_challenge_academic_dataset/yelp_academic_dataset_checkin.json</pre>"
      ],
      "text/plain": [
       "Finished parsing file /Users/mayankkedia/Documents/Jobs/Dato/yelp_dataset_challenge_academic_dataset/yelp_academic_dataset_checkin.json"
      ]
     },
     "metadata": {},
     "output_type": "display_data"
    },
    {
     "data": {
      "text/html": [
       "<pre>Parsing completed. Parsed 100 lines in 0.79679 secs.</pre>"
      ],
      "text/plain": [
       "Parsing completed. Parsed 100 lines in 0.79679 secs."
      ]
     },
     "metadata": {},
     "output_type": "display_data"
    },
    {
     "name": "stdout",
     "output_type": "stream",
     "text": [
      "------------------------------------------------------\n",
      "Inferred types from first 100 line(s) of file as \n",
      "column_type_hints=[dict]\n",
      "If parsing fails due to incorrect types, you can correct\n",
      "the inferred type list above and pass it to read_csv in\n",
      "the column_type_hints argument\n",
      "------------------------------------------------------\n"
     ]
    },
    {
     "data": {
      "text/html": [
       "<pre>Finished parsing file /Users/mayankkedia/Documents/Jobs/Dato/yelp_dataset_challenge_academic_dataset/yelp_academic_dataset_checkin.json</pre>"
      ],
      "text/plain": [
       "Finished parsing file /Users/mayankkedia/Documents/Jobs/Dato/yelp_dataset_challenge_academic_dataset/yelp_academic_dataset_checkin.json"
      ]
     },
     "metadata": {},
     "output_type": "display_data"
    },
    {
     "data": {
      "text/html": [
       "<pre>Parsing completed. Parsed 55569 lines in 1.27803 secs.</pre>"
      ],
      "text/plain": [
       "Parsing completed. Parsed 55569 lines in 1.27803 secs."
      ]
     },
     "metadata": {},
     "output_type": "display_data"
    }
   ],
   "source": [
    "c_df = gl.SFrame.read_json('yelp_dataset_challenge_academic_dataset/yelp_academic_dataset_checkin.json',orient='lines')"
   ]
  },
  {
   "cell_type": "markdown",
   "metadata": {
    "collapsed": true
   },
   "source": [
    "# Checkins EDA\n",
    "\n",
    "## Todo\n",
    "\n",
    "- Total checkin count distribution\n",
    "- Time of day distribution\n",
    "- Day of week distribution\n",
    "- Citywise ?\n",
    "\n",
    "### Total checkin count \n",
    "- Median is 32 \n",
    "- Max number of checkins is 77,320 !\n",
    "        +--------------------+---------------+----------+\n",
    "        |        item        |     value     | is exact |\n",
    "        +--------------------+---------------+----------+\n",
    "        |       Length       |     55569     |   Yes    |\n",
    "        |        Min         |      3.0      |   Yes    |\n",
    "        |        Max         |    77320.0    |   Yes    |\n",
    "        |        Mean        | 148.799564505 |   Yes    |\n",
    "        |        Sum         |   8268643.0   |   Yes    |\n",
    "        |      Variance      | 455073.962993 |   Yes    |\n",
    "        | Standard Deviation | 674.591700952 |   Yes    |\n",
    "        |  # Missing Values  |       0       |   Yes    |\n",
    "        |  # unique values   |      1977     |    No    |\n",
    "        +--------------------+---------------+----------+\n",
    "\n",
    "        Most frequent items:\n",
    "        +-------+------+------+------+------+------+------+------+------+------+------+\n",
    "        | value |  4   |  5   |  3   |  6   |  7   |  8   |  9   |  10  |  11  |  12  |\n",
    "        +-------+------+------+------+------+------+------+------+------+------+------+\n",
    "        | count | 1944 | 1942 | 1751 | 1716 | 1637 | 1503 | 1326 | 1256 | 1129 | 1087 |\n",
    "        +-------+------+------+------+------+------+------+------+------+------+------+\n",
    "\n",
    "        Quantiles: \n",
    "        +-----+-----+-----+------+------+-------+-------+--------+---------+\n",
    "        |  0% |  1% |  5% | 25%  | 50%  |  75%  |  95%  |  99%   |   100%  |\n",
    "        +-----+-----+-----+------+------+-------+-------+--------+---------+\n",
    "        | 3.0 | 3.0 | 4.0 | 11.0 | 32.0 | 105.0 | 601.0 | 1846.0 | 77320.0 |\n",
    "        +-----+-----+-----+------+------+-------+-------+--------+---------+\n",
    "        \n",
    "### Day of Week \n",
    "\n",
    "#### Total checkins \n",
    "   \n",
    "    X.0     967849.0\n",
    "    X.1     966084.0\n",
    "    X.2     991035.0\n",
    "    X.3    1046456.0\n",
    "    X.4    1376882.0\n",
    "    X.5    1646764.0\n",
    "    X.6    1273573.0\n",
    "   \n",
    "   \n",
    "### Time of Day analysis\n",
    " \n",
    "    0     109055.0\n",
    "    1      67088.0\n",
    "    2      43148.0\n",
    "    3      36869.0\n",
    "    4      46015.0\n",
    "    5      73470.0\n",
    "    6     109825.0\n",
    "    7     181138.0\n",
    "    8     257988.0\n",
    "    9     343658.0\n",
    "    10    427798.0\n",
    "    11    592825.0\n",
    "    12    676492.0\n",
    "    13    570874.0\n",
    "    14    503357.0\n",
    "    15    501157.0\n",
    "    16    555627.0\n",
    "    17    660543.0\n",
    "    18    706922.0\n",
    "    19    629080.0\n",
    "    20    473358.0\n",
    "    21    333244.0\n",
    "    22    216467.0\n",
    "    23    152645.0\n",
    "    dtype: float64\n",
    "    \n",
    "    Look at plot ! \n"
   ]
  },
  {
   "cell_type": "code",
   "execution_count": 3,
   "metadata": {
    "collapsed": false
   },
   "outputs": [
    {
     "data": {
      "text/html": [
       "<div style=\"max-height:1000px;max-width:1500px;overflow:auto;\"><table frame=\"box\" rules=\"cols\">\n",
       "    <tr>\n",
       "        <th style=\"padding-left: 1em; padding-right: 1em; text-align: center\">business_id</th>\n",
       "        <th style=\"padding-left: 1em; padding-right: 1em; text-align: center\">checkin_info</th>\n",
       "        <th style=\"padding-left: 1em; padding-right: 1em; text-align: center\">type</th>\n",
       "    </tr>\n",
       "    <tr>\n",
       "        <td style=\"padding-left: 1em; padding-right: 1em; text-align: center; vertical-align: top\">cE27W9VPgO88Qxe4ol6y_g</td>\n",
       "        <td style=\"padding-left: 1em; padding-right: 1em; text-align: center; vertical-align: top\">{'9-5': 1, '7-5': 1,<br>'13-3': 1, '17-6': 1, ...</td>\n",
       "        <td style=\"padding-left: 1em; padding-right: 1em; text-align: center; vertical-align: top\">checkin</td>\n",
       "    </tr>\n",
       "    <tr>\n",
       "        <td style=\"padding-left: 1em; padding-right: 1em; text-align: center; vertical-align: top\">mVHrayjG3uZ_RLHkLj-AMg</td>\n",
       "        <td style=\"padding-left: 1em; padding-right: 1em; text-align: center; vertical-align: top\">{'11-5': 1, '9-5': 1,<br>'9-4': 3, '15-1': 1, ...</td>\n",
       "        <td style=\"padding-left: 1em; padding-right: 1em; text-align: center; vertical-align: top\">checkin</td>\n",
       "    </tr>\n",
       "</table>\n",
       "[2 rows x 3 columns]<br/>\n",
       "</div>"
      ],
      "text/plain": [
       "Columns:\n",
       "\tbusiness_id\tstr\n",
       "\tcheckin_info\tdict\n",
       "\ttype\tstr\n",
       "\n",
       "Rows: 2\n",
       "\n",
       "Data:\n",
       "+------------------------+-------------------------------+---------+\n",
       "|      business_id       |          checkin_info         |   type  |\n",
       "+------------------------+-------------------------------+---------+\n",
       "| cE27W9VPgO88Qxe4ol6y_g | {'9-5': 1, '7-5': 1, '13-3... | checkin |\n",
       "| mVHrayjG3uZ_RLHkLj-AMg | {'11-5': 1, '9-5': 1, '9-4... | checkin |\n",
       "+------------------------+-------------------------------+---------+\n",
       "[2 rows x 3 columns]"
      ]
     },
     "execution_count": 3,
     "metadata": {},
     "output_type": "execute_result"
    }
   ],
   "source": [
    "c_df.head(2)\n"
   ]
  },
  {
   "cell_type": "code",
   "execution_count": 8,
   "metadata": {
    "collapsed": false
   },
   "outputs": [
    {
     "data": {
      "text/plain": [
       "\n",
       "+------------------+-------+----------+\n",
       "|       item       | value | is exact |\n",
       "+------------------+-------+----------+\n",
       "|      Length      | 55569 |   Yes    |\n",
       "| # Missing Values |   0   |   Yes    |\n",
       "| # unique values  |   1   |    No    |\n",
       "+------------------+-------+----------+\n",
       "\n",
       "Most frequent items:\n",
       "+-------+---------+\n",
       "| value | checkin |\n",
       "+-------+---------+\n",
       "| count |  55569  |\n",
       "+-------+---------+\n"
      ]
     },
     "execution_count": 8,
     "metadata": {},
     "output_type": "execute_result"
    }
   ],
   "source": [
    "#checking whether  there are other 'types'\n",
    "c_df['type'].sketch_summary()"
   ]
  },
  {
   "cell_type": "code",
   "execution_count": 5,
   "metadata": {
    "collapsed": false
   },
   "outputs": [],
   "source": [
    "c_df['total_checkins'] = c_df['checkin_info'].apply(lambda x: sum(x.values()))"
   ]
  },
  {
   "cell_type": "code",
   "execution_count": 6,
   "metadata": {
    "collapsed": false
   },
   "outputs": [
    {
     "data": {
      "text/plain": [
       "\n",
       "+--------------------+---------------+----------+\n",
       "|        item        |     value     | is exact |\n",
       "+--------------------+---------------+----------+\n",
       "|       Length       |     55569     |   Yes    |\n",
       "|        Min         |      3.0      |   Yes    |\n",
       "|        Max         |    77320.0    |   Yes    |\n",
       "|        Mean        | 148.799564505 |   Yes    |\n",
       "|        Sum         |   8268643.0   |   Yes    |\n",
       "|      Variance      | 455073.962993 |   Yes    |\n",
       "| Standard Deviation | 674.591700952 |   Yes    |\n",
       "|  # Missing Values  |       0       |   Yes    |\n",
       "|  # unique values   |      1977     |    No    |\n",
       "+--------------------+---------------+----------+\n",
       "\n",
       "Most frequent items:\n",
       "+-------+------+------+------+------+------+------+------+------+------+------+\n",
       "| value |  4   |  5   |  3   |  6   |  7   |  8   |  9   |  10  |  11  |  12  |\n",
       "+-------+------+------+------+------+------+------+------+------+------+------+\n",
       "| count | 1944 | 1942 | 1751 | 1716 | 1637 | 1503 | 1326 | 1256 | 1129 | 1087 |\n",
       "+-------+------+------+------+------+------+------+------+------+------+------+\n",
       "\n",
       "Quantiles: \n",
       "+-----+-----+-----+------+------+-------+-------+--------+---------+\n",
       "|  0% |  1% |  5% | 25%  | 50%  |  75%  |  95%  |  99%   |   100%  |\n",
       "+-----+-----+-----+------+------+-------+-------+--------+---------+\n",
       "| 3.0 | 3.0 | 4.0 | 11.0 | 32.0 | 105.0 | 601.0 | 1846.0 | 77320.0 |\n",
       "+-----+-----+-----+------+------+-------+-------+--------+---------+"
      ]
     },
     "execution_count": 6,
     "metadata": {},
     "output_type": "execute_result"
    }
   ],
   "source": [
    "c_df['total_checkins'].sketch_summary()"
   ]
  },
  {
   "cell_type": "code",
   "execution_count": 17,
   "metadata": {
    "collapsed": false
   },
   "outputs": [],
   "source": [
    "def time_of_day_count(d):\n",
    "    ret_d = {}\n",
    "    for k in d:\n",
    "        new_k = k.split('-')[0]\n",
    "        if new_k in ret_d:\n",
    "            ret_d[new_k] += d[k]\n",
    "        else:\n",
    "            ret_d[new_k] = d[k]\n",
    "    return ret_d\n",
    "\n",
    "def day_of_week_count(d):\n",
    "    ret_d = {}\n",
    "    for k in d:\n",
    "        new_k = k.split('-')[1]\n",
    "        if new_k in ret_d:\n",
    "            ret_d[new_k] += d[k]\n",
    "        else:\n",
    "            ret_d[new_k] = d[k]\n",
    "    return ret_d"
   ]
  },
  {
   "cell_type": "code",
   "execution_count": 9,
   "metadata": {
    "collapsed": false
   },
   "outputs": [
    {
     "data": {
      "text/plain": [
       "['12', '2']"
      ]
     },
     "execution_count": 9,
     "metadata": {},
     "output_type": "execute_result"
    }
   ],
   "source": [
    "'12-2'.split('-')"
   ]
  },
  {
   "cell_type": "code",
   "execution_count": 18,
   "metadata": {
    "collapsed": true
   },
   "outputs": [],
   "source": [
    "# Time of day and day of week split\n",
    "c_df['tod'] = c_df['checkin_info'].apply(time_of_day_count)\n",
    "c_df['dow'] = c_df['checkin_info'].apply(day_of_week_count)"
   ]
  },
  {
   "cell_type": "code",
   "execution_count": 19,
   "metadata": {
    "collapsed": false
   },
   "outputs": [
    {
     "data": {
      "text/html": [
       "<div style=\"max-height:1000px;max-width:1500px;overflow:auto;\"><table frame=\"box\" rules=\"cols\">\n",
       "    <tr>\n",
       "        <th style=\"padding-left: 1em; padding-right: 1em; text-align: center\">business_id</th>\n",
       "        <th style=\"padding-left: 1em; padding-right: 1em; text-align: center\">checkin_info</th>\n",
       "        <th style=\"padding-left: 1em; padding-right: 1em; text-align: center\">type</th>\n",
       "        <th style=\"padding-left: 1em; padding-right: 1em; text-align: center\">total_checkins</th>\n",
       "        <th style=\"padding-left: 1em; padding-right: 1em; text-align: center\">tod</th>\n",
       "    </tr>\n",
       "    <tr>\n",
       "        <td style=\"padding-left: 1em; padding-right: 1em; text-align: center; vertical-align: top\">cE27W9VPgO88Qxe4ol6y_g</td>\n",
       "        <td style=\"padding-left: 1em; padding-right: 1em; text-align: center; vertical-align: top\">{'9-5': 1, '7-5': 1,<br>'13-3': 1, '17-6': 1, ...</td>\n",
       "        <td style=\"padding-left: 1em; padding-right: 1em; text-align: center; vertical-align: top\">checkin</td>\n",
       "        <td style=\"padding-left: 1em; padding-right: 1em; text-align: center; vertical-align: top\">9</td>\n",
       "        <td style=\"padding-left: 1em; padding-right: 1em; text-align: center; vertical-align: top\">{'10': 1, '13': 2, '14':<br>1, '17': 2, '18': 1,  ...</td>\n",
       "    </tr>\n",
       "    <tr>\n",
       "        <td style=\"padding-left: 1em; padding-right: 1em; text-align: center; vertical-align: top\">mVHrayjG3uZ_RLHkLj-AMg</td>\n",
       "        <td style=\"padding-left: 1em; padding-right: 1em; text-align: center; vertical-align: top\">{'11-5': 1, '9-5': 1,<br>'9-4': 3, '15-1': 1, ...</td>\n",
       "        <td style=\"padding-left: 1em; padding-right: 1em; text-align: center; vertical-align: top\">checkin</td>\n",
       "        <td style=\"padding-left: 1em; padding-right: 1em; text-align: center; vertical-align: top\">23</td>\n",
       "        <td style=\"padding-left: 1em; padding-right: 1em; text-align: center; vertical-align: top\">{'11': 1, '10': 4, '13':<br>1, '12': 3, '15': 4, ...</td>\n",
       "    </tr>\n",
       "    <tr>\n",
       "        <td style=\"padding-left: 1em; padding-right: 1em; text-align: center; vertical-align: top\">KayYbHCt-RkbGcPdGOThNg</td>\n",
       "        <td style=\"padding-left: 1em; padding-right: 1em; text-align: center; vertical-align: top\">{'23-1': 1, '11-2': 2,<br>'21-4': 1, '16-3': 1, ...</td>\n",
       "        <td style=\"padding-left: 1em; padding-right: 1em; text-align: center; vertical-align: top\">checkin</td>\n",
       "        <td style=\"padding-left: 1em; padding-right: 1em; text-align: center; vertical-align: top\">55</td>\n",
       "        <td style=\"padding-left: 1em; padding-right: 1em; text-align: center; vertical-align: top\">{'11': 5, '10': 3, '13':<br>6, '12': 4, '15': 7, ...</td>\n",
       "    </tr>\n",
       "    <tr>\n",
       "        <td style=\"padding-left: 1em; padding-right: 1em; text-align: center; vertical-align: top\">b12U9TFESStdy7CsTtcOeg</td>\n",
       "        <td style=\"padding-left: 1em; padding-right: 1em; text-align: center; vertical-align: top\">{'5-5': 2, '5-1': 2,<br>'8-2': 1} ...</td>\n",
       "        <td style=\"padding-left: 1em; padding-right: 1em; text-align: center; vertical-align: top\">checkin</td>\n",
       "        <td style=\"padding-left: 1em; padding-right: 1em; text-align: center; vertical-align: top\">5</td>\n",
       "        <td style=\"padding-left: 1em; padding-right: 1em; text-align: center; vertical-align: top\">{'8': 1, '5': 4}</td>\n",
       "    </tr>\n",
       "    <tr>\n",
       "        <td style=\"padding-left: 1em; padding-right: 1em; text-align: center; vertical-align: top\">QoDa50dc7g62xciFygXB9w</td>\n",
       "        <td style=\"padding-left: 1em; padding-right: 1em; text-align: center; vertical-align: top\">{'15-1': 1, '13-3': 1,<br>'16-0': 1, '9-3': 1, ...</td>\n",
       "        <td style=\"padding-left: 1em; padding-right: 1em; text-align: center; vertical-align: top\">checkin</td>\n",
       "        <td style=\"padding-left: 1em; padding-right: 1em; text-align: center; vertical-align: top\">5</td>\n",
       "        <td style=\"padding-left: 1em; padding-right: 1em; text-align: center; vertical-align: top\">{'9': 1, '13': 1, '12':<br>1, '15': 1, '16': 1} ...</td>\n",
       "    </tr>\n",
       "    <tr>\n",
       "        <td style=\"padding-left: 1em; padding-right: 1em; text-align: center; vertical-align: top\">1_lU0-eSWJCRvNGk78Zh9Q</td>\n",
       "        <td style=\"padding-left: 1em; padding-right: 1em; text-align: center; vertical-align: top\">{'11-6': 1, '18-4': 1,<br>'15-4': 1, '10-6': 1} ...</td>\n",
       "        <td style=\"padding-left: 1em; padding-right: 1em; text-align: center; vertical-align: top\">checkin</td>\n",
       "        <td style=\"padding-left: 1em; padding-right: 1em; text-align: center; vertical-align: top\">4</td>\n",
       "        <td style=\"padding-left: 1em; padding-right: 1em; text-align: center; vertical-align: top\">{'11': 1, '18': 1, '15':<br>1, '10': 1} ...</td>\n",
       "    </tr>\n",
       "    <tr>\n",
       "        <td style=\"padding-left: 1em; padding-right: 1em; text-align: center; vertical-align: top\">_qopVQ6_Mz6W7-Pmbi56GQ</td>\n",
       "        <td style=\"padding-left: 1em; padding-right: 1em; text-align: center; vertical-align: top\">{'5-4': 1, '12-5': 2,<br>'8-3': 1} ...</td>\n",
       "        <td style=\"padding-left: 1em; padding-right: 1em; text-align: center; vertical-align: top\">checkin</td>\n",
       "        <td style=\"padding-left: 1em; padding-right: 1em; text-align: center; vertical-align: top\">4</td>\n",
       "        <td style=\"padding-left: 1em; padding-right: 1em; text-align: center; vertical-align: top\">{'8': 1, '12': 2, '5': 1}</td>\n",
       "    </tr>\n",
       "    <tr>\n",
       "        <td style=\"padding-left: 1em; padding-right: 1em; text-align: center; vertical-align: top\">wJr6kSA5dchdgOdwH6dZ2w</td>\n",
       "        <td style=\"padding-left: 1em; padding-right: 1em; text-align: center; vertical-align: top\">{'9-0': 1, '5-6': 1,<br>'11-4': 1, '19-6': 1, ...</td>\n",
       "        <td style=\"padding-left: 1em; padding-right: 1em; text-align: center; vertical-align: top\">checkin</td>\n",
       "        <td style=\"padding-left: 1em; padding-right: 1em; text-align: center; vertical-align: top\">15</td>\n",
       "        <td style=\"padding-left: 1em; padding-right: 1em; text-align: center; vertical-align: top\">{'11': 2, '12': 1, '14':<br>1, '17': 1, '19': 1, ...</td>\n",
       "    </tr>\n",
       "    <tr>\n",
       "        <td style=\"padding-left: 1em; padding-right: 1em; text-align: center; vertical-align: top\">yXuao0pFz1AxB21vJjDf5w</td>\n",
       "        <td style=\"padding-left: 1em; padding-right: 1em; text-align: center; vertical-align: top\">{'9-5': 2, '9-4': 1,<br>'18-1': 1, '14-0': 1, ...</td>\n",
       "        <td style=\"padding-left: 1em; padding-right: 1em; text-align: center; vertical-align: top\">checkin</td>\n",
       "        <td style=\"padding-left: 1em; padding-right: 1em; text-align: center; vertical-align: top\">23</td>\n",
       "        <td style=\"padding-left: 1em; padding-right: 1em; text-align: center; vertical-align: top\">{'10': 3, '13': 1, '12':<br>2, '14': 5, '17': 2, ...</td>\n",
       "    </tr>\n",
       "    <tr>\n",
       "        <td style=\"padding-left: 1em; padding-right: 1em; text-align: center; vertical-align: top\">fNGIbpazjTRdXgwRY_NIXA</td>\n",
       "        <td style=\"padding-left: 1em; padding-right: 1em; text-align: center; vertical-align: top\">{'9-0': 1, '9-4': 1,<br>'4-1': 1, '15-3': 1, ...</td>\n",
       "        <td style=\"padding-left: 1em; padding-right: 1em; text-align: center; vertical-align: top\">checkin</td>\n",
       "        <td style=\"padding-left: 1em; padding-right: 1em; text-align: center; vertical-align: top\">11</td>\n",
       "        <td style=\"padding-left: 1em; padding-right: 1em; text-align: center; vertical-align: top\">{'10': 2, '13': 1, '15':<br>2, '22': 1, '16': 2,  ...</td>\n",
       "    </tr>\n",
       "</table>\n",
       "<table frame=\"box\" rules=\"cols\">\n",
       "    <tr>\n",
       "        <th style=\"padding-left: 1em; padding-right: 1em; text-align: center\">dow</th>\n",
       "    </tr>\n",
       "    <tr>\n",
       "        <td style=\"padding-left: 1em; padding-right: 1em; text-align: center; vertical-align: top\">{'0': 2, '3': 2, '5': 2,<br>'4': 1, '6': 2} ...</td>\n",
       "    </tr>\n",
       "    <tr>\n",
       "        <td style=\"padding-left: 1em; padding-right: 1em; text-align: center; vertical-align: top\">{'1': 3, '0': 1, '2': 1,<br>'5': 6, '4': 12} ...</td>\n",
       "    </tr>\n",
       "    <tr>\n",
       "        <td style=\"padding-left: 1em; padding-right: 1em; text-align: center; vertical-align: top\">{'1': 6, '0': 5, '3': 10,<br>'2': 9, '5': 6, '4': 18, ...</td>\n",
       "    </tr>\n",
       "    <tr>\n",
       "        <td style=\"padding-left: 1em; padding-right: 1em; text-align: center; vertical-align: top\">{'1': 2, '2': 1, '5': 2}</td>\n",
       "    </tr>\n",
       "    <tr>\n",
       "        <td style=\"padding-left: 1em; padding-right: 1em; text-align: center; vertical-align: top\">{'1': 2, '0': 1, '3': 2}</td>\n",
       "    </tr>\n",
       "    <tr>\n",
       "        <td style=\"padding-left: 1em; padding-right: 1em; text-align: center; vertical-align: top\">{'4': 2, '6': 2}</td>\n",
       "    </tr>\n",
       "    <tr>\n",
       "        <td style=\"padding-left: 1em; padding-right: 1em; text-align: center; vertical-align: top\">{'3': 1, '5': 2, '4': 1}</td>\n",
       "    </tr>\n",
       "    <tr>\n",
       "        <td style=\"padding-left: 1em; padding-right: 1em; text-align: center; vertical-align: top\">{'1': 2, '0': 1, '2': 2,<br>'5': 3, '4': 1, '6': 6} ...</td>\n",
       "    </tr>\n",
       "    <tr>\n",
       "        <td style=\"padding-left: 1em; padding-right: 1em; text-align: center; vertical-align: top\">{'1': 4, '0': 2, '3': 2,<br>'2': 4, '5': 2, '4': 3, ...</td>\n",
       "    </tr>\n",
       "    <tr>\n",
       "        <td style=\"padding-left: 1em; padding-right: 1em; text-align: center; vertical-align: top\">{'1': 1, '0': 1, '3': 1,<br>'2': 1, '5': 2, '4': 5} ...</td>\n",
       "    </tr>\n",
       "</table>\n",
       "[10 rows x 6 columns]<br/>\n",
       "</div>"
      ],
      "text/plain": [
       "Columns:\n",
       "\tbusiness_id\tstr\n",
       "\tcheckin_info\tdict\n",
       "\ttype\tstr\n",
       "\ttotal_checkins\tint\n",
       "\ttod\tdict\n",
       "\tdow\tdict\n",
       "\n",
       "Rows: 10\n",
       "\n",
       "Data:\n",
       "+------------------------+--------------------------------+---------+----------------+\n",
       "|      business_id       |          checkin_info          |   type  | total_checkins |\n",
       "+------------------------+--------------------------------+---------+----------------+\n",
       "| cE27W9VPgO88Qxe4ol6y_g | {'9-5': 1, '7-5': 1, '13-3...  | checkin |       9        |\n",
       "| mVHrayjG3uZ_RLHkLj-AMg | {'11-5': 1, '9-5': 1, '9-4...  | checkin |       23       |\n",
       "| KayYbHCt-RkbGcPdGOThNg | {'23-1': 1, '11-2': 2, '21...  | checkin |       55       |\n",
       "| b12U9TFESStdy7CsTtcOeg | {'5-5': 2, '5-1': 2, '8-2': 1} | checkin |       5        |\n",
       "| QoDa50dc7g62xciFygXB9w | {'15-1': 1, '13-3': 1, '16...  | checkin |       5        |\n",
       "| 1_lU0-eSWJCRvNGk78Zh9Q | {'11-6': 1, '18-4': 1, '15...  | checkin |       4        |\n",
       "| _qopVQ6_Mz6W7-Pmbi56GQ | {'5-4': 1, '12-5': 2, '8-3...  | checkin |       4        |\n",
       "| wJr6kSA5dchdgOdwH6dZ2w | {'9-0': 1, '5-6': 1, '11-4...  | checkin |       15       |\n",
       "| yXuao0pFz1AxB21vJjDf5w | {'9-5': 2, '9-4': 1, '18-1...  | checkin |       23       |\n",
       "| fNGIbpazjTRdXgwRY_NIXA | {'9-0': 1, '9-4': 1, '4-1'...  | checkin |       11       |\n",
       "+------------------------+--------------------------------+---------+----------------+\n",
       "+-------------------------------+-------------------------------+\n",
       "|              tod              |              dow              |\n",
       "+-------------------------------+-------------------------------+\n",
       "| {'10': 1, '13': 2, '14': 1... | {'0': 2, '3': 2, '5': 2, '... |\n",
       "| {'11': 1, '10': 4, '13': 1... | {'1': 3, '0': 1, '2': 1, '... |\n",
       "| {'11': 5, '10': 3, '13': 6... | {'1': 6, '0': 5, '3': 10, ... |\n",
       "|        {'8': 1, '5': 4}       |    {'1': 2, '2': 1, '5': 2}   |\n",
       "| {'9': 1, '13': 1, '12': 1,... |    {'1': 2, '0': 1, '3': 2}   |\n",
       "| {'11': 1, '18': 1, '15': 1... |        {'4': 2, '6': 2}       |\n",
       "|   {'8': 1, '12': 2, '5': 1}   |    {'3': 1, '5': 2, '4': 1}   |\n",
       "| {'11': 2, '12': 1, '14': 1... | {'1': 2, '0': 1, '2': 2, '... |\n",
       "| {'10': 3, '13': 1, '12': 2... | {'1': 4, '0': 2, '3': 2, '... |\n",
       "| {'10': 2, '13': 1, '15': 2... | {'1': 1, '0': 1, '3': 1, '... |\n",
       "+-------------------------------+-------------------------------+\n",
       "[10 rows x 6 columns]"
      ]
     },
     "execution_count": 19,
     "metadata": {},
     "output_type": "execute_result"
    }
   ],
   "source": [
    "c_df.head()"
   ]
  },
  {
   "cell_type": "code",
   "execution_count": 24,
   "metadata": {
    "collapsed": false
   },
   "outputs": [],
   "source": [
    "dow = c_df['dow'].unpack().to_dataframe()\n",
    "dow.fillna(0, inplace=True)"
   ]
  },
  {
   "cell_type": "code",
   "execution_count": 33,
   "metadata": {
    "collapsed": false
   },
   "outputs": [],
   "source": [
    "print dow.describe()"
   ]
  },
  {
   "cell_type": "code",
   "execution_count": 61,
   "metadata": {
    "collapsed": false
   },
   "outputs": [
    {
     "data": {
      "text/plain": [
       "<matplotlib.axes._subplots.AxesSubplot at 0x133580510>"
      ]
     },
     "execution_count": 61,
     "metadata": {},
     "output_type": "execute_result"
    },
    {
     "data": {
      "image/png": "[encoded data removed]",
      "text/plain": [
       "<matplotlib.figure.Figure at 0x12e8c69d0>"
      ]
     },
     "metadata": {},
     "output_type": "display_data"
    }
   ],
   "source": [
    "plt.figure(figsize=(8,5))\n",
    "dow.sum().plot('bar')"
   ]
  },
  {
   "cell_type": "code",
   "execution_count": 38,
   "metadata": {
    "collapsed": false
   },
   "outputs": [],
   "source": [
    "tod = c_df['tod'].unpack().to_dataframe()\n",
    "tod.fillna(0, inplace=True)"
   ]
  },
  {
   "cell_type": "code",
   "execution_count": 52,
   "metadata": {
    "collapsed": false
   },
   "outputs": [],
   "source": [
    "tod_sum = tod.sum() \n",
    "tod_sum.index = map(lambda x: int(x.split('.')[1]),tod_sum.index.tolist())"
   ]
  },
  {
   "cell_type": "code",
   "execution_count": 58,
   "metadata": {
    "collapsed": false
   },
   "outputs": [
    {
     "data": {
      "text/plain": [
       "<matplotlib.axes._subplots.AxesSubplot at 0x12b770c90>"
      ]
     },
     "execution_count": 58,
     "metadata": {},
     "output_type": "execute_result"
    },
    {
     "data": {
      "image/png": "[encoded data removed]",
      "text/plain": [
       "<matplotlib.figure.Figure at 0x12b78ed50>"
      ]
     },
     "metadata": {},
     "output_type": "display_data"
    }
   ],
   "source": [
    "plt.figure(figsize=(15,10))\n",
    "tod_sum.sort_index().plot('bar')"
   ]
  },
  {
   "cell_type": "code",
   "execution_count": 65,
   "metadata": {
    "collapsed": false
   },
   "outputs": [
    {
     "data": {
      "text/plain": [
       "0     109055.0\n",
       "1      67088.0\n",
       "2      43148.0\n",
       "3      36869.0\n",
       "4      46015.0\n",
       "5      73470.0\n",
       "6     109825.0\n",
       "7     181138.0\n",
       "8     257988.0\n",
       "9     343658.0\n",
       "10    427798.0\n",
       "11    592825.0\n",
       "12    676492.0\n",
       "13    570874.0\n",
       "14    503357.0\n",
       "15    501157.0\n",
       "16    555627.0\n",
       "17    660543.0\n",
       "18    706922.0\n",
       "19    629080.0\n",
       "20    473358.0\n",
       "21    333244.0\n",
       "22    216467.0\n",
       "23    152645.0\n",
       "dtype: float64"
      ]
     },
     "execution_count": 65,
     "metadata": {},
     "output_type": "execute_result"
    }
   ],
   "source": [
    "tod_sum.sort_index()"
   ]
  },
  {
   "cell_type": "code",
   "execution_count": null,
   "metadata": {
    "collapsed": true
   },
   "outputs": [],
   "source": []
  }
 ],
 "metadata": {
  "kernelspec": {
   "display_name": "Python 2",
   "language": "python",
   "name": "python2"
  },
  "language_info": {
   "codemirror_mode": {
    "name": "ipython",
    "version": 2
   },
   "file_extension": ".py",
   "mimetype": "text/x-python",
   "name": "python",
   "nbconvert_exporter": "python",
   "pygments_lexer": "ipython2",
   "version": "2.7.11"
  }
 },
 "nbformat": 4,
 "nbformat_minor": 0
}
