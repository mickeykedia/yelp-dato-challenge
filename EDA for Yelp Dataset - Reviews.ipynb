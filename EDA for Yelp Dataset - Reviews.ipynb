{
 "cells": [
  {
   "cell_type": "code",
   "execution_count": 1,
   "metadata": {
    "collapsed": false
   },
   "outputs": [
    {
     "name": "stdout",
     "output_type": "stream",
     "text": [
      "This non-commercial license of GraphLab Create is assigned to mkkedia@dons.usfca.edu and will expire on May 31, 2017. For commercial licensing options, visit https://dato.com/buy/.\n"
     ]
    },
    {
     "name": "stderr",
     "output_type": "stream",
     "text": [
      "[INFO] graphlab.cython.cy_server: GraphLab Create v1.10 started. Logging: /tmp/graphlab_server_1465164034.log\n"
     ]
    }
   ],
   "source": [
    "import graphlab as gl\n",
    "import matplotlib.pyplot as plt\n",
    "%matplotlib inline\n",
    "import seaborn as sns"
   ]
  },
  {
   "cell_type": "markdown",
   "metadata": {},
   "source": [
    "# Reviews EDA\n",
    "\n",
    "## Things to do\n",
    "- Num reviews by user distribution\n",
    "- Num reviews by business distribution\n",
    "- Number of ratings by date over history\n",
    "- Vote type distribution\n",
    "- top words after removing stop words (?)\n",
    "- rating distribution \n",
    "- by city aggregation \n",
    "\n",
    "\n",
    "## Facts\n",
    "- 2,225,213 reviews\n",
    "- \n",
    "\n",
    "### Review Counts by city\n",
    "    0\tLas Vegas\t958641\n",
    "    2\tPhoenix\t848387\n",
    "    8\tCharlotte\t140108\n",
    "    10\tPittsburgh\t92640\n",
    "    5\tMontreal\t71689\n",
    "    6\tMadison\t59455\n",
    "    1\tEdinburgh\t27497\n",
    "    7\tUrbana-Champaign\t16175\n",
    "    3\tWaterloo\t4675\n",
    "    9\tKarlsruhe\t3704\n",
    "    4\tOther\t2242\n",
    "\n",
    "(Doesn't match the businesses number, though is largely consistent)\n",
    "### user review counts\n",
    "\n",
    "- This is according to the reviews from businesses in these cities and may differ from the number found by doing an analysis of the users in these cities\n",
    "- Also possibly all reviews by these users has not been provided. Possibly all reviews for the cities have been provided but all reviews for the users who have reviewed places in these cities have not been provided. This can be expected to be hugely different given the fact that we have Las Vegas as one of our locations - where we can expect people to have provided reviews from all over the place\n",
    "- 552,339 users\n",
    "- median is 1 \n",
    "- 287,354 users have posted 1 reviews\n",
    "- 93, 312 users have posted 2 reviews\n",
    "- 46,920 users have posted 3 reviews\n",
    "- 22.5 % users have posted more than 3 reviews\n",
    "- 4.6 % users have posted more than 13 reviews\n",
    "- 99% users have posted less than 42 reviews\n",
    "- Max number of reviews posted is 1457 \n",
    "\n",
    "### Citywise user reviews\n",
    "\n",
    "    About 2% users have reviewed places in multiple cities \n",
    "    Number of reviewers in each city (out of the 550,000 odd users)\n",
    "        Las Vegas - 269,576\n",
    "        Phoenix - 196,708\n",
    "        Charlotte - 38226\n",
    "\n",
    "\n",
    "        acity\tquantiles\tdistinct_users\n",
    "    0\tLas Vegas\t[1.0, 1.0, 3.0, 1376.0]\t269576\n",
    "    2\tPhoenix\t[1.0, 2.0, 3.0, 1032.0]\t196708\n",
    "    8\tCharlotte\t[1.0, 1.0, 3.0, 760.0]\t38226\n",
    "    10\tPittsburgh\t[1.0, 1.0, 3.0, 587.0]\t26250\n",
    "    5\tMontreal\t[1.0, 1.0, 3.0, 601.0]\t20563\n",
    "    6\tMadison\t[1.0, 1.0, 3.0, 704.0]\t16703\n",
    "    7\tUrbana-Champaign\t[1.0, 1.0, 2.0, 119.0]\t5499\n",
    "    1\tEdinburgh\t[1.0, 1.0, 3.0, 650.0]\t4361\n",
    "    3\tWaterloo\t[1.0, 1.0, 2.0, 92.0]\t1804\n",
    "    4\tOther\t[1.0, 1.0, 1.0, 27.0]\t1642\n",
    "    9\tKarlsruhe\t[1.0, 1.0, 3.0, 401.0]\t941\n",
    "    \n",
    "### Business Review counts\n",
    "- 77,079 businesses\n",
    "- Long tail distribution\n",
    "- Median is 8 reviews\n",
    "- 75% businesses have less than 22 reviews\n",
    "- 95% businesses have less than 112 reviews \n",
    "\n",
    "\n",
    "        +--------------------+---------------+----------+\n",
    "        |        item        |     value     | is exact |\n",
    "        +--------------------+---------------+----------+\n",
    "        |       Length       |     77079     |   Yes    |\n",
    "        |        Min         |      1.0      |   Yes    |\n",
    "        |        Max         |     5042.0    |   Yes    |\n",
    "        |        Mean        | 28.8692510282 |   Yes    |\n",
    "        |        Sum         |   2225213.0   |   Yes    |\n",
    "        |      Variance      | 8070.53392379 |   Yes    |\n",
    "        | Standard Deviation | 89.8361504284 |   Yes    |\n",
    "        |  # Missing Values  |       0       |   Yes    |\n",
    "        |  # unique values   |      766      |    No    |\n",
    "        +--------------------+---------------+----------+\n",
    "\n",
    "        Most frequent items:\n",
    "        +-------+-------+------+------+------+------+------+------+------+------+------+\n",
    "        | value |   3   |  4   |  5   |  6   |  7   |  2   |  8   |  9   |  10  |  11  |\n",
    "        +-------+-------+------+------+------+------+------+------+------+------+------+\n",
    "        | count | 10237 | 7715 | 5706 | 4694 | 3827 | 3189 | 3114 | 2668 | 2298 | 1978 |\n",
    "        +-------+-------+------+------+------+------+------+------+------+------+------+\n",
    "\n",
    "        Quantiles: \n",
    "        +-----+-----+-----+-----+-----+------+-------+-------+--------+\n",
    "        |  0% |  1% |  5% | 25% | 50% | 75%  |  95%  |  99%  |  100%  |\n",
    "        +-----+-----+-----+-----+-----+------+-------+-------+--------+\n",
    "        | 1.0 | 2.0 | 2.0 | 4.0 | 8.0 | 22.0 | 112.0 | 339.0 | 5042.0 |\n",
    "        +-----+-----+-----+-----+-----+------+-------+-------+--------+\n",
    "\n",
    "### Citywise Business review counts\n",
    "\n",
    "- LV has a much higher median and 75% \n",
    "- Phoenix is next best\n",
    "- Karlsruhe has max reviews at 31, compared to LV at 5042 \n",
    "- LV has a distinctly higher Max review count then any other city 5042 compared to next highest of 1569 \n",
    "- Review count by businesses by city quantiles \n",
    "\n",
    "\n",
    "        acity\tdistinct_businesses\tquantiles\n",
    "        Las Vegas\t21221\t[5.0, 10.0, 30.0, 5042.0]\n",
    "        Edinburgh\t3061\t[3.0, 5.0, 10.0, 182.0]\n",
    "        Phoenix\t32610\t[4.0, 8.0, 22.0, 1569.0]\n",
    "        Waterloo\t474\t[4.0, 6.0, 12.0, 75.0]\n",
    "        Other\t180\t[3.0, 4.0, 8.0, 891.0]\n",
    "        Montreal\t4941\t[4.0, 6.0, 14.0, 1066.0]\n",
    "        Madison\t2802\t[4.0, 8.0, 21.0, 932.0]\n",
    "        Urbana-Champaign\t737\t[5.0, 10.0, 23.0, 573.0]\n",
    "        Charlotte\t6429\t[4.0, 8.0, 20.0, 1068.0]\n",
    "        Karlsruhe\t873\t[2.0, 3.0, 5.0, 31.0]\n",
    "\n",
    "### Star review counts \n",
    "- Number of 5 star ratings are more than 1,2 and 3 combined ! \n",
    "- bias towards higher rating \n",
    "    - surprising because you expect people to review because they hate a place\n",
    "    - instead they are reviewing because they like a place\n",
    "\n",
    "            Most frequent items:\n",
    "            +-------+--------+--------+--------+--------+--------+\n",
    "            | value |   5    |   4    |   3    |   1    |   2    |\n",
    "            +-------+--------+--------+--------+--------+--------+\n",
    "            | count | 900940 | 591618 | 282115 | 260492 | 190048 |\n",
    "            +-------+--------+--------+--------+--------+--------+\n",
    "\n",
    "    \n",
    "### Vote Count Analysis\n",
    "\n",
    "- 1 million reviews have no votes\n",
    "- 99% reviews have less than 21 votes\n",
    "- 95% reviews have less than 8 votes\n",
    "- Maximum of 447 votes on a review\n",
    "- \"useful\" vote is much more widely used than 'cool' (1.6 Million reviews with 0 votes for 'cool') or 'funny' (1.7 Million reviews with 0 votes for 'funny')\n",
    "\n",
    "\n",
    "\n",
    "        +--------------------+---------------+----------+\n",
    "        |        item        |     value     | is exact |\n",
    "        +--------------------+---------------+----------+\n",
    "        |       Length       |    2225213    |   Yes    |\n",
    "        |        Min         |      0.0      |   Yes    |\n",
    "        |        Max         |     447.0     |   Yes    |\n",
    "        |        Mean        | 2.01188021102 |   Yes    |\n",
    "        |        Sum         |   4476862.0   |   Yes    |\n",
    "        |      Variance      | 24.7626065167 |   Yes    |\n",
    "        | Standard Deviation | 4.97620402683 |   Yes    |\n",
    "        |  # Missing Values  |       0       |   Yes    |\n",
    "        |  # unique values   |      223      |    No    |\n",
    "        +--------------------+---------------+----------+\n",
    "\n",
    "        Most frequent items:\n",
    "        +-------+---------+--------+--------+--------+-------+-------+-------+-------+\n",
    "        | value |    0    |   1    |   2    |   3    |   4   |   5   |   6   |   7   |\n",
    "        +-------+---------+--------+--------+--------+-------+-------+-------+-------+\n",
    "        | count | 1082553 | 395768 | 228296 | 164303 | 94315 | 60091 | 44478 | 30270 |\n",
    "        +-------+---------+--------+--------+--------+-------+-------+-------+-------+\n",
    "        +-------+-------+\n",
    "        |   8   |   9   |\n",
    "        +-------+-------+\n",
    "        | 21854 | 17313 |\n",
    "        +-------+-------+\n",
    "\n",
    "        Quantiles: \n",
    "        +-----+-----+-----+-----+-----+-----+-----+------+-------+\n",
    "        |  0% |  1% |  5% | 25% | 50% | 75% | 95% | 99%  |  100% |\n",
    "        +-----+-----+-----+-----+-----+-----+-----+------+-------+\n",
    "        | 0.0 | 0.0 | 0.0 | 0.0 | 1.0 | 2.0 | 8.0 | 21.0 | 447.0 |\n",
    "        +-----+-----+-----+-----+-----+-----+-----+------+-------+\n",
    "\n"
   ]
  },
  {
   "cell_type": "markdown",
   "metadata": {},
   "source": [
    "### Review count by city"
   ]
  },
  {
   "cell_type": "code",
   "execution_count": null,
   "metadata": {
    "collapsed": true
   },
   "outputs": [],
   "source": [
    "reviews = gl.load_sframe('yelp_dataset_challenge_academic_dataset/reviews/')"
   ]
  },
  {
   "cell_type": "code",
   "execution_count": 6,
   "metadata": {
    "collapsed": false
   },
   "outputs": [
    {
     "data": {
      "text/plain": [
       "2225213"
      ]
     },
     "execution_count": 6,
     "metadata": {},
     "output_type": "execute_result"
    }
   ],
   "source": [
    "len(reviews)"
   ]
  },
  {
   "cell_type": "code",
   "execution_count": 4,
   "metadata": {
    "collapsed": true
   },
   "outputs": [],
   "source": [
    "b_df = gl.load_sframe('yelp_dataset_challenge_academic_dataset/business/')"
   ]
  },
  {
   "cell_type": "code",
   "execution_count": 7,
   "metadata": {
    "collapsed": true
   },
   "outputs": [],
   "source": [
    "review_city = b_df['business_id', 'acity'].join(reviews, on='business_id')"
   ]
  },
  {
   "cell_type": "code",
   "execution_count": 11,
   "metadata": {
    "collapsed": false
   },
   "outputs": [
    {
     "data": {
      "text/html": [
       "<div style=\"max-height:1000px;max-width:1500px;overflow:auto;\"><table frame=\"box\" rules=\"cols\">\n",
       "    <tr>\n",
       "        <th style=\"padding-left: 1em; padding-right: 1em; text-align: center\">business_id</th>\n",
       "        <th style=\"padding-left: 1em; padding-right: 1em; text-align: center\">acity</th>\n",
       "        <th style=\"padding-left: 1em; padding-right: 1em; text-align: center\">date</th>\n",
       "        <th style=\"padding-left: 1em; padding-right: 1em; text-align: center\">review_id</th>\n",
       "        <th style=\"padding-left: 1em; padding-right: 1em; text-align: center\">stars</th>\n",
       "        <th style=\"padding-left: 1em; padding-right: 1em; text-align: center\">text</th>\n",
       "    </tr>\n",
       "    <tr>\n",
       "        <td style=\"padding-left: 1em; padding-right: 1em; text-align: center; vertical-align: top\">5UmKMjUEUNdYWqANhGckJw</td>\n",
       "        <td style=\"padding-left: 1em; padding-right: 1em; text-align: center; vertical-align: top\">Pittsburgh</td>\n",
       "        <td style=\"padding-left: 1em; padding-right: 1em; text-align: center; vertical-align: top\">2012-08-01</td>\n",
       "        <td style=\"padding-left: 1em; padding-right: 1em; text-align: center; vertical-align: top\">Ya85v4eqdd6k9Od8HbQjyA</td>\n",
       "        <td style=\"padding-left: 1em; padding-right: 1em; text-align: center; vertical-align: top\">4</td>\n",
       "        <td style=\"padding-left: 1em; padding-right: 1em; text-align: center; vertical-align: top\">Mr Hoagie is an<br>institution. Walking in, ...</td>\n",
       "    </tr>\n",
       "</table>\n",
       "<table frame=\"box\" rules=\"cols\">\n",
       "    <tr>\n",
       "        <th style=\"padding-left: 1em; padding-right: 1em; text-align: center\">type</th>\n",
       "        <th style=\"padding-left: 1em; padding-right: 1em; text-align: center\">user_id</th>\n",
       "        <th style=\"padding-left: 1em; padding-right: 1em; text-align: center\">votes</th>\n",
       "    </tr>\n",
       "    <tr>\n",
       "        <td style=\"padding-left: 1em; padding-right: 1em; text-align: center; vertical-align: top\">review</td>\n",
       "        <td style=\"padding-left: 1em; padding-right: 1em; text-align: center; vertical-align: top\">PUFPaY9KxDAcGqfsorJp3Q</td>\n",
       "        <td style=\"padding-left: 1em; padding-right: 1em; text-align: center; vertical-align: top\">{'funny': 0, 'useful': 0,<br>'cool': 0} ...</td>\n",
       "    </tr>\n",
       "</table>\n",
       "[1 rows x 9 columns]<br/>\n",
       "</div>"
      ],
      "text/plain": [
       "Columns:\n",
       "\tbusiness_id\tstr\n",
       "\tacity\tstr\n",
       "\tdate\tstr\n",
       "\treview_id\tstr\n",
       "\tstars\tint\n",
       "\ttext\tstr\n",
       "\ttype\tstr\n",
       "\tuser_id\tstr\n",
       "\tvotes\tdict\n",
       "\n",
       "Rows: 1\n",
       "\n",
       "Data:\n",
       "+------------------------+------------+------------+------------------------+-------+\n",
       "|      business_id       |   acity    |    date    |       review_id        | stars |\n",
       "+------------------------+------------+------------+------------------------+-------+\n",
       "| 5UmKMjUEUNdYWqANhGckJw | Pittsburgh | 2012-08-01 | Ya85v4eqdd6k9Od8HbQjyA |   4   |\n",
       "+------------------------+------------+------------+------------------------+-------+\n",
       "+-------------------------------+--------+------------------------+\n",
       "|              text             |  type  |        user_id         |\n",
       "+-------------------------------+--------+------------------------+\n",
       "| Mr Hoagie is an institutio... | review | PUFPaY9KxDAcGqfsorJp3Q |\n",
       "+-------------------------------+--------+------------------------+\n",
       "+-------------------------------+\n",
       "|             votes             |\n",
       "+-------------------------------+\n",
       "| {'funny': 0, 'useful': 0, ... |\n",
       "+-------------------------------+\n",
       "[1 rows x 9 columns]"
      ]
     },
     "execution_count": 11,
     "metadata": {},
     "output_type": "execute_result"
    }
   ],
   "source": [
    "review_city.head(1)"
   ]
  },
  {
   "cell_type": "code",
   "execution_count": 10,
   "metadata": {
    "collapsed": false
   },
   "outputs": [],
   "source": [
    "review_city.save('yelp_dataset_challenge_academic_dataset/reviews')"
   ]
  },
  {
   "cell_type": "code",
   "execution_count": 5,
   "metadata": {
    "collapsed": false
   },
   "outputs": [
    {
     "data": {
      "text/html": [
       "<div style=\"max-height:1000px;max-width:1500px;overflow:auto;\"><table frame=\"box\" rules=\"cols\">\n",
       "    <tr>\n",
       "        <th style=\"padding-left: 1em; padding-right: 1em; text-align: center\">attributes</th>\n",
       "        <th style=\"padding-left: 1em; padding-right: 1em; text-align: center\">business_id</th>\n",
       "        <th style=\"padding-left: 1em; padding-right: 1em; text-align: center\">categories</th>\n",
       "        <th style=\"padding-left: 1em; padding-right: 1em; text-align: center\">city</th>\n",
       "    </tr>\n",
       "    <tr>\n",
       "        <td style=\"padding-left: 1em; padding-right: 1em; text-align: center; vertical-align: top\">{'Take-out': 'true',<br>'Drive-Thru': 'false', ...</td>\n",
       "        <td style=\"padding-left: 1em; padding-right: 1em; text-align: center; vertical-align: top\">5UmKMjUEUNdYWqANhGckJw</td>\n",
       "        <td style=\"padding-left: 1em; padding-right: 1em; text-align: center; vertical-align: top\">[Fast Food, Restaurants]</td>\n",
       "        <td style=\"padding-left: 1em; padding-right: 1em; text-align: center; vertical-align: top\">Dravosburg</td>\n",
       "    </tr>\n",
       "</table>\n",
       "<table frame=\"box\" rules=\"cols\">\n",
       "    <tr>\n",
       "        <th style=\"padding-left: 1em; padding-right: 1em; text-align: center\">full_address</th>\n",
       "        <th style=\"padding-left: 1em; padding-right: 1em; text-align: center\">hours</th>\n",
       "        <th style=\"padding-left: 1em; padding-right: 1em; text-align: center\">latitude</th>\n",
       "        <th style=\"padding-left: 1em; padding-right: 1em; text-align: center\">longitude</th>\n",
       "        <th style=\"padding-left: 1em; padding-right: 1em; text-align: center\">name</th>\n",
       "        <th style=\"padding-left: 1em; padding-right: 1em; text-align: center\">neighborhoods</th>\n",
       "        <th style=\"padding-left: 1em; padding-right: 1em; text-align: center\">open</th>\n",
       "        <th style=\"padding-left: 1em; padding-right: 1em; text-align: center\">review_count</th>\n",
       "    </tr>\n",
       "    <tr>\n",
       "        <td style=\"padding-left: 1em; padding-right: 1em; text-align: center; vertical-align: top\">4734 Lebanon Church<br>Rd\\nDravosburg, PA 15034 ...</td>\n",
       "        <td style=\"padding-left: 1em; padding-right: 1em; text-align: center; vertical-align: top\">{'Tuesday': {'close':<br>'21:00', 'open': ...</td>\n",
       "        <td style=\"padding-left: 1em; padding-right: 1em; text-align: center; vertical-align: top\">40.3543266</td>\n",
       "        <td style=\"padding-left: 1em; padding-right: 1em; text-align: center; vertical-align: top\">-79.9007057</td>\n",
       "        <td style=\"padding-left: 1em; padding-right: 1em; text-align: center; vertical-align: top\">Mr Hoagie</td>\n",
       "        <td style=\"padding-left: 1em; padding-right: 1em; text-align: center; vertical-align: top\">[]</td>\n",
       "        <td style=\"padding-left: 1em; padding-right: 1em; text-align: center; vertical-align: top\">true</td>\n",
       "        <td style=\"padding-left: 1em; padding-right: 1em; text-align: center; vertical-align: top\">4</td>\n",
       "    </tr>\n",
       "</table>\n",
       "<table frame=\"box\" rules=\"cols\">\n",
       "    <tr>\n",
       "        <th style=\"padding-left: 1em; padding-right: 1em; text-align: center\">stars</th>\n",
       "        <th style=\"padding-left: 1em; padding-right: 1em; text-align: center\">state</th>\n",
       "        <th style=\"padding-left: 1em; padding-right: 1em; text-align: center\">type</th>\n",
       "        <th style=\"padding-left: 1em; padding-right: 1em; text-align: center\">acity</th>\n",
       "    </tr>\n",
       "    <tr>\n",
       "        <td style=\"padding-left: 1em; padding-right: 1em; text-align: center; vertical-align: top\">4.5</td>\n",
       "        <td style=\"padding-left: 1em; padding-right: 1em; text-align: center; vertical-align: top\">PA</td>\n",
       "        <td style=\"padding-left: 1em; padding-right: 1em; text-align: center; vertical-align: top\">business</td>\n",
       "        <td style=\"padding-left: 1em; padding-right: 1em; text-align: center; vertical-align: top\">Pittsburgh</td>\n",
       "    </tr>\n",
       "</table>\n",
       "[1 rows x 16 columns]<br/>\n",
       "</div>"
      ],
      "text/plain": [
       "Columns:\n",
       "\tattributes\tdict\n",
       "\tbusiness_id\tstr\n",
       "\tcategories\tlist\n",
       "\tcity\tstr\n",
       "\tfull_address\tstr\n",
       "\thours\tdict\n",
       "\tlatitude\tfloat\n",
       "\tlongitude\tfloat\n",
       "\tname\tstr\n",
       "\tneighborhoods\tlist\n",
       "\topen\tstr\n",
       "\treview_count\tint\n",
       "\tstars\tfloat\n",
       "\tstate\tstr\n",
       "\ttype\tstr\n",
       "\tacity\tstr\n",
       "\n",
       "Rows: 1\n",
       "\n",
       "Data:\n",
       "+-------------------------------+------------------------+\n",
       "|           attributes          |      business_id       |\n",
       "+-------------------------------+------------------------+\n",
       "| {'Take-out': 'true', 'Driv... | 5UmKMjUEUNdYWqANhGckJw |\n",
       "+-------------------------------+------------------------+\n",
       "+--------------------------+------------+-------------------------------+\n",
       "|        categories        |    city    |          full_address         |\n",
       "+--------------------------+------------+-------------------------------+\n",
       "| [Fast Food, Restaurants] | Dravosburg | 4734 Lebanon Church Rd\\nDr... |\n",
       "+--------------------------+------------+-------------------------------+\n",
       "+-------------------------------+------------+-------------+-----------+---------------+\n",
       "|             hours             |  latitude  |  longitude  |    name   | neighborhoods |\n",
       "+-------------------------------+------------+-------------+-----------+---------------+\n",
       "| {'Tuesday': {'close': '21:... | 40.3543266 | -79.9007057 | Mr Hoagie |       []      |\n",
       "+-------------------------------+------------+-------------+-----------+---------------+\n",
       "+------+--------------+-------+-------+----------+------------+\n",
       "| open | review_count | stars | state |   type   |   acity    |\n",
       "+------+--------------+-------+-------+----------+------------+\n",
       "| true |      4       |  4.5  |   PA  | business | Pittsburgh |\n",
       "+------+--------------+-------+-------+----------+------------+\n",
       "[1 rows x 16 columns]"
      ]
     },
     "execution_count": 5,
     "metadata": {},
     "output_type": "execute_result"
    }
   ],
   "source": [
    "b_df.head(1)"
   ]
  },
  {
   "cell_type": "code",
   "execution_count": 13,
   "metadata": {
    "collapsed": false
   },
   "outputs": [
    {
     "data": {
      "text/html": [
       "<div>\n",
       "<table border=\"1\" class=\"dataframe\">\n",
       "  <thead>\n",
       "    <tr style=\"text-align: right;\">\n",
       "      <th></th>\n",
       "      <th>acity</th>\n",
       "      <th>Count</th>\n",
       "    </tr>\n",
       "  </thead>\n",
       "  <tbody>\n",
       "    <tr>\n",
       "      <th>0</th>\n",
       "      <td>Las Vegas</td>\n",
       "      <td>958641</td>\n",
       "    </tr>\n",
       "    <tr>\n",
       "      <th>2</th>\n",
       "      <td>Phoenix</td>\n",
       "      <td>848387</td>\n",
       "    </tr>\n",
       "    <tr>\n",
       "      <th>8</th>\n",
       "      <td>Charlotte</td>\n",
       "      <td>140108</td>\n",
       "    </tr>\n",
       "    <tr>\n",
       "      <th>10</th>\n",
       "      <td>Pittsburgh</td>\n",
       "      <td>92640</td>\n",
       "    </tr>\n",
       "    <tr>\n",
       "      <th>5</th>\n",
       "      <td>Montreal</td>\n",
       "      <td>71689</td>\n",
       "    </tr>\n",
       "    <tr>\n",
       "      <th>6</th>\n",
       "      <td>Madison</td>\n",
       "      <td>59455</td>\n",
       "    </tr>\n",
       "    <tr>\n",
       "      <th>1</th>\n",
       "      <td>Edinburgh</td>\n",
       "      <td>27497</td>\n",
       "    </tr>\n",
       "    <tr>\n",
       "      <th>7</th>\n",
       "      <td>Urbana-Champaign</td>\n",
       "      <td>16175</td>\n",
       "    </tr>\n",
       "    <tr>\n",
       "      <th>3</th>\n",
       "      <td>Waterloo</td>\n",
       "      <td>4675</td>\n",
       "    </tr>\n",
       "    <tr>\n",
       "      <th>9</th>\n",
       "      <td>Karlsruhe</td>\n",
       "      <td>3704</td>\n",
       "    </tr>\n",
       "    <tr>\n",
       "      <th>4</th>\n",
       "      <td>Other</td>\n",
       "      <td>2242</td>\n",
       "    </tr>\n",
       "  </tbody>\n",
       "</table>\n",
       "</div>"
      ],
      "text/plain": [
       "               acity   Count\n",
       "0          Las Vegas  958641\n",
       "2            Phoenix  848387\n",
       "8          Charlotte  140108\n",
       "10        Pittsburgh   92640\n",
       "5           Montreal   71689\n",
       "6            Madison   59455\n",
       "1          Edinburgh   27497\n",
       "7   Urbana-Champaign   16175\n",
       "3           Waterloo    4675\n",
       "9          Karlsruhe    3704\n",
       "4              Other    2242"
      ]
     },
     "execution_count": 13,
     "metadata": {},
     "output_type": "execute_result"
    }
   ],
   "source": [
    "review_city.groupby('acity', gl.aggregate.COUNT('review_id')).to_dataframe().sort_values('Count', ascending=False)"
   ]
  },
  {
   "cell_type": "markdown",
   "metadata": {},
   "source": [
    "### User review Counts"
   ]
  },
  {
   "cell_type": "code",
   "execution_count": 14,
   "metadata": {
    "collapsed": true
   },
   "outputs": [],
   "source": [
    "user_review_counts = review_city.groupby('user_id', gl.aggregate.COUNT('review_id'))#['Count'].sketch_summary()"
   ]
  },
  {
   "cell_type": "code",
   "execution_count": 15,
   "metadata": {
    "collapsed": false
   },
   "outputs": [
    {
     "data": {
      "text/plain": [
       "\n",
       "+--------------------+---------------+----------+\n",
       "|        item        |     value     | is exact |\n",
       "+--------------------+---------------+----------+\n",
       "|       Length       |     552339    |   Yes    |\n",
       "|        Min         |      1.0      |   Yes    |\n",
       "|        Max         |     1457.0    |   Yes    |\n",
       "|        Mean        | 4.02870881832 |   Yes    |\n",
       "|        Sum         |   2225213.0   |   Yes    |\n",
       "|      Variance      | 194.684691402 |   Yes    |\n",
       "| Standard Deviation | 13.9529456174 |   Yes    |\n",
       "|  # Missing Values  |       0       |   Yes    |\n",
       "|  # unique values   |      430      |    No    |\n",
       "+--------------------+---------------+----------+\n",
       "\n",
       "Most frequent items:\n",
       "+-------+--------+-------+-------+-------+-------+-------+------+------+------+\n",
       "| value |   1    |   2   |   3   |   4   |   5   |   6   |  7   |  8   |  9   |\n",
       "+-------+--------+-------+-------+-------+-------+-------+------+------+------+\n",
       "| count | 287354 | 93312 | 46920 | 28454 | 18935 | 13426 | 9968 | 7606 | 6131 |\n",
       "+-------+--------+-------+-------+-------+-------+-------+------+------+------+\n",
       "+------+\n",
       "|  10  |\n",
       "+------+\n",
       "| 4627 |\n",
       "+------+\n",
       "\n",
       "Quantiles: \n",
       "+-----+-----+-----+-----+-----+-----+------+------+--------+\n",
       "|  0% |  1% |  5% | 25% | 50% | 75% | 95%  | 99%  |  100%  |\n",
       "+-----+-----+-----+-----+-----+-----+------+------+--------+\n",
       "| 1.0 | 1.0 | 1.0 | 1.0 | 1.0 | 3.0 | 13.0 | 42.0 | 1457.0 |\n",
       "+-----+-----+-----+-----+-----+-----+------+------+--------+"
      ]
     },
     "execution_count": 15,
     "metadata": {},
     "output_type": "execute_result"
    }
   ],
   "source": [
    "user_review_counts['Count'].sketch_summary()"
   ]
  },
  {
   "cell_type": "code",
   "execution_count": 22,
   "metadata": {
    "collapsed": false
   },
   "outputs": [
    {
     "data": {
      "text/plain": [
       "0.0466434562831884"
      ]
     },
     "execution_count": 22,
     "metadata": {},
     "output_type": "execute_result"
    }
   ],
   "source": [
    "len(user_review_counts[user_review_counts['Count']>13])/float(len(user_review_counts))"
   ]
  },
  {
   "cell_type": "markdown",
   "metadata": {},
   "source": [
    "#### Number of cities a user has reviewed businesses in"
   ]
  },
  {
   "cell_type": "code",
   "execution_count": 26,
   "metadata": {
    "collapsed": true
   },
   "outputs": [],
   "source": [
    "\n",
    "\n",
    "user_review_count_city = review_city.groupby('user_id', {'count_city':gl.aggregate.COUNT_DISTINCT('acity')} )"
   ]
  },
  {
   "cell_type": "code",
   "execution_count": 28,
   "metadata": {
    "collapsed": false
   },
   "outputs": [
    {
     "data": {
      "text/plain": [
       "\n",
       "+--------------------+-----------------+----------+\n",
       "|        item        |      value      | is exact |\n",
       "+--------------------+-----------------+----------+\n",
       "|       Length       |      552339     |   Yes    |\n",
       "|        Min         |       1.0       |   Yes    |\n",
       "|        Max         |       8.0       |   Yes    |\n",
       "|        Mean        |  1.05419497808  |   Yes    |\n",
       "|        Sum         |     582273.0    |   Yes    |\n",
       "|      Variance      | 0.0630296385481 |   Yes    |\n",
       "| Standard Deviation |  0.251057042419 |   Yes    |\n",
       "|  # Missing Values  |        0        |   Yes    |\n",
       "|  # unique values   |        8        |    No    |\n",
       "+--------------------+-----------------+----------+\n",
       "\n",
       "Most frequent items:\n",
       "+-------+--------+-------+------+-----+----+---+---+---+\n",
       "| value |   1    |   2   |  3   |  4  | 5  | 6 | 7 | 8 |\n",
       "+-------+--------+-------+------+-----+----+---+---+---+\n",
       "| count | 525146 | 24879 | 1954 | 305 | 46 | 7 | 1 | 1 |\n",
       "+-------+--------+-------+------+-----+----+---+---+---+\n",
       "\n",
       "Quantiles: \n",
       "+-----+-----+-----+-----+-----+-----+-----+-----+------+\n",
       "|  0% |  1% |  5% | 25% | 50% | 75% | 95% | 99% | 100% |\n",
       "+-----+-----+-----+-----+-----+-----+-----+-----+------+\n",
       "| 1.0 | 1.0 | 1.0 | 1.0 | 1.0 | 1.0 | 2.0 | 2.0 | 8.0  |\n",
       "+-----+-----+-----+-----+-----+-----+-----+-----+------+"
      ]
     },
     "execution_count": 28,
     "metadata": {},
     "output_type": "execute_result"
    }
   ],
   "source": [
    "user_review_count_city['count_city'].sketch_summary()"
   ]
  },
  {
   "cell_type": "code",
   "execution_count": 31,
   "metadata": {
    "collapsed": false
   },
   "outputs": [],
   "source": [
    "user_city_reviews = review_city.groupby(['acity', 'user_id'], gl.aggregate.COUNT('review_id'))"
   ]
  },
  {
   "cell_type": "code",
   "execution_count": 34,
   "metadata": {
    "collapsed": false
   },
   "outputs": [
    {
     "data": {
      "text/plain": [
       "582273"
      ]
     },
     "execution_count": 34,
     "metadata": {},
     "output_type": "execute_result"
    }
   ],
   "source": [
    "len(user_city_reviews)"
   ]
  },
  {
   "cell_type": "code",
   "execution_count": null,
   "metadata": {
    "collapsed": true
   },
   "outputs": [],
   "source": [
    "city_review_quantiles = user_city_reviews.groupby('acity',{'quantiles':gl.aggregate.QUANTILE('Count', [0.25, 0.5, 0.75, 1]), \n",
    "                                                           'distinct_users':gl.aggregate.COUNT('user_id')})\n",
    "city_review_quantiles\n"
   ]
  },
  {
   "cell_type": "code",
   "execution_count": 42,
   "metadata": {
    "collapsed": false
   },
   "outputs": [
    {
     "data": {
      "text/html": [
       "<div>\n",
       "<table border=\"1\" class=\"dataframe\">\n",
       "  <thead>\n",
       "    <tr style=\"text-align: right;\">\n",
       "      <th></th>\n",
       "      <th>acity</th>\n",
       "      <th>quantiles</th>\n",
       "      <th>distinct_users</th>\n",
       "    </tr>\n",
       "  </thead>\n",
       "  <tbody>\n",
       "    <tr>\n",
       "      <th>0</th>\n",
       "      <td>Las Vegas</td>\n",
       "      <td>[1.0, 1.0, 3.0, 1376.0]</td>\n",
       "      <td>269576</td>\n",
       "    </tr>\n",
       "    <tr>\n",
       "      <th>2</th>\n",
       "      <td>Phoenix</td>\n",
       "      <td>[1.0, 2.0, 3.0, 1032.0]</td>\n",
       "      <td>196708</td>\n",
       "    </tr>\n",
       "    <tr>\n",
       "      <th>8</th>\n",
       "      <td>Charlotte</td>\n",
       "      <td>[1.0, 1.0, 3.0, 760.0]</td>\n",
       "      <td>38226</td>\n",
       "    </tr>\n",
       "    <tr>\n",
       "      <th>10</th>\n",
       "      <td>Pittsburgh</td>\n",
       "      <td>[1.0, 1.0, 3.0, 587.0]</td>\n",
       "      <td>26250</td>\n",
       "    </tr>\n",
       "    <tr>\n",
       "      <th>5</th>\n",
       "      <td>Montreal</td>\n",
       "      <td>[1.0, 1.0, 3.0, 601.0]</td>\n",
       "      <td>20563</td>\n",
       "    </tr>\n",
       "    <tr>\n",
       "      <th>6</th>\n",
       "      <td>Madison</td>\n",
       "      <td>[1.0, 1.0, 3.0, 704.0]</td>\n",
       "      <td>16703</td>\n",
       "    </tr>\n",
       "    <tr>\n",
       "      <th>7</th>\n",
       "      <td>Urbana-Champaign</td>\n",
       "      <td>[1.0, 1.0, 2.0, 119.0]</td>\n",
       "      <td>5499</td>\n",
       "    </tr>\n",
       "    <tr>\n",
       "      <th>1</th>\n",
       "      <td>Edinburgh</td>\n",
       "      <td>[1.0, 1.0, 3.0, 650.0]</td>\n",
       "      <td>4361</td>\n",
       "    </tr>\n",
       "    <tr>\n",
       "      <th>3</th>\n",
       "      <td>Waterloo</td>\n",
       "      <td>[1.0, 1.0, 2.0, 92.0]</td>\n",
       "      <td>1804</td>\n",
       "    </tr>\n",
       "    <tr>\n",
       "      <th>4</th>\n",
       "      <td>Other</td>\n",
       "      <td>[1.0, 1.0, 1.0, 27.0]</td>\n",
       "      <td>1642</td>\n",
       "    </tr>\n",
       "    <tr>\n",
       "      <th>9</th>\n",
       "      <td>Karlsruhe</td>\n",
       "      <td>[1.0, 1.0, 3.0, 401.0]</td>\n",
       "      <td>941</td>\n",
       "    </tr>\n",
       "  </tbody>\n",
       "</table>\n",
       "</div>"
      ],
      "text/plain": [
       "               acity                quantiles  distinct_users\n",
       "0          Las Vegas  [1.0, 1.0, 3.0, 1376.0]          269576\n",
       "2            Phoenix  [1.0, 2.0, 3.0, 1032.0]          196708\n",
       "8          Charlotte   [1.0, 1.0, 3.0, 760.0]           38226\n",
       "10        Pittsburgh   [1.0, 1.0, 3.0, 587.0]           26250\n",
       "5           Montreal   [1.0, 1.0, 3.0, 601.0]           20563\n",
       "6            Madison   [1.0, 1.0, 3.0, 704.0]           16703\n",
       "7   Urbana-Champaign   [1.0, 1.0, 2.0, 119.0]            5499\n",
       "1          Edinburgh   [1.0, 1.0, 3.0, 650.0]            4361\n",
       "3           Waterloo    [1.0, 1.0, 2.0, 92.0]            1804\n",
       "4              Other    [1.0, 1.0, 1.0, 27.0]            1642\n",
       "9          Karlsruhe   [1.0, 1.0, 3.0, 401.0]             941"
      ]
     },
     "execution_count": 42,
     "metadata": {},
     "output_type": "execute_result"
    }
   ],
   "source": [
    "city_review_quantiles.to_dataframe().sort_values('distinct_users', ascending=False)"
   ]
  },
  {
   "cell_type": "markdown",
   "metadata": {},
   "source": [
    "### Business Review Count"
   ]
  },
  {
   "cell_type": "code",
   "execution_count": 43,
   "metadata": {
    "collapsed": true
   },
   "outputs": [],
   "source": [
    "business_review_counts = review_city.groupby('business_id', {'count':gl.aggregate.COUNT('review_id')})"
   ]
  },
  {
   "cell_type": "code",
   "execution_count": 45,
   "metadata": {
    "collapsed": false
   },
   "outputs": [
    {
     "data": {
      "text/plain": [
       "\n",
       "+--------------------+---------------+----------+\n",
       "|        item        |     value     | is exact |\n",
       "+--------------------+---------------+----------+\n",
       "|       Length       |     77079     |   Yes    |\n",
       "|        Min         |      1.0      |   Yes    |\n",
       "|        Max         |     5042.0    |   Yes    |\n",
       "|        Mean        | 28.8692510282 |   Yes    |\n",
       "|        Sum         |   2225213.0   |   Yes    |\n",
       "|      Variance      | 8070.53392379 |   Yes    |\n",
       "| Standard Deviation | 89.8361504284 |   Yes    |\n",
       "|  # Missing Values  |       0       |   Yes    |\n",
       "|  # unique values   |      766      |    No    |\n",
       "+--------------------+---------------+----------+\n",
       "\n",
       "Most frequent items:\n",
       "+-------+-------+------+------+------+------+------+------+------+------+------+\n",
       "| value |   3   |  4   |  5   |  6   |  7   |  2   |  8   |  9   |  10  |  11  |\n",
       "+-------+-------+------+------+------+------+------+------+------+------+------+\n",
       "| count | 10237 | 7715 | 5706 | 4694 | 3827 | 3189 | 3114 | 2668 | 2298 | 1978 |\n",
       "+-------+-------+------+------+------+------+------+------+------+------+------+\n",
       "\n",
       "Quantiles: \n",
       "+-----+-----+-----+-----+-----+------+-------+-------+--------+\n",
       "|  0% |  1% |  5% | 25% | 50% | 75%  |  95%  |  99%  |  100%  |\n",
       "+-----+-----+-----+-----+-----+------+-------+-------+--------+\n",
       "| 1.0 | 2.0 | 2.0 | 4.0 | 8.0 | 22.0 | 112.0 | 339.0 | 5042.0 |\n",
       "+-----+-----+-----+-----+-----+------+-------+-------+--------+"
      ]
     },
     "execution_count": 45,
     "metadata": {},
     "output_type": "execute_result"
    }
   ],
   "source": [
    "business_review_counts['count'].sketch_summary()"
   ]
  },
  {
   "cell_type": "markdown",
   "metadata": {},
   "source": [
    "#### Business review by city"
   ]
  },
  {
   "cell_type": "code",
   "execution_count": 46,
   "metadata": {
    "collapsed": false
   },
   "outputs": [
    {
     "data": {
      "text/html": [
       "<div style=\"max-height:1000px;max-width:1500px;overflow:auto;\"><table frame=\"box\" rules=\"cols\">\n",
       "    <tr>\n",
       "        <th style=\"padding-left: 1em; padding-right: 1em; text-align: center\">business_id</th>\n",
       "        <th style=\"padding-left: 1em; padding-right: 1em; text-align: center\">count</th>\n",
       "    </tr>\n",
       "    <tr>\n",
       "        <td style=\"padding-left: 1em; padding-right: 1em; text-align: center; vertical-align: top\">Xlpihd7zT4Li6PRJOXMtbQ</td>\n",
       "        <td style=\"padding-left: 1em; padding-right: 1em; text-align: center; vertical-align: top\">6</td>\n",
       "    </tr>\n",
       "    <tr>\n",
       "        <td style=\"padding-left: 1em; padding-right: 1em; text-align: center; vertical-align: top\">nKJERtWMwBF-eL3skiRiBw</td>\n",
       "        <td style=\"padding-left: 1em; padding-right: 1em; text-align: center; vertical-align: top\">68</td>\n",
       "    </tr>\n",
       "    <tr>\n",
       "        <td style=\"padding-left: 1em; padding-right: 1em; text-align: center; vertical-align: top\">UNOoJeOzTQgRCUjTup1avA</td>\n",
       "        <td style=\"padding-left: 1em; padding-right: 1em; text-align: center; vertical-align: top\">147</td>\n",
       "    </tr>\n",
       "    <tr>\n",
       "        <td style=\"padding-left: 1em; padding-right: 1em; text-align: center; vertical-align: top\">n9tzswbOPrdqoNlcWPRhtw</td>\n",
       "        <td style=\"padding-left: 1em; padding-right: 1em; text-align: center; vertical-align: top\">10</td>\n",
       "    </tr>\n",
       "    <tr>\n",
       "        <td style=\"padding-left: 1em; padding-right: 1em; text-align: center; vertical-align: top\">ab_OlG6OXMenmGWnA_BYaA</td>\n",
       "        <td style=\"padding-left: 1em; padding-right: 1em; text-align: center; vertical-align: top\">10</td>\n",
       "    </tr>\n",
       "</table>\n",
       "[5 rows x 2 columns]<br/>\n",
       "</div>"
      ],
      "text/plain": [
       "Columns:\n",
       "\tbusiness_id\tstr\n",
       "\tcount\tint\n",
       "\n",
       "Rows: 5\n",
       "\n",
       "Data:\n",
       "+------------------------+-------+\n",
       "|      business_id       | count |\n",
       "+------------------------+-------+\n",
       "| Xlpihd7zT4Li6PRJOXMtbQ |   6   |\n",
       "| nKJERtWMwBF-eL3skiRiBw |   68  |\n",
       "| UNOoJeOzTQgRCUjTup1avA |  147  |\n",
       "| n9tzswbOPrdqoNlcWPRhtw |   10  |\n",
       "| ab_OlG6OXMenmGWnA_BYaA |   10  |\n",
       "+------------------------+-------+\n",
       "[5 rows x 2 columns]"
      ]
     },
     "execution_count": 46,
     "metadata": {},
     "output_type": "execute_result"
    }
   ],
   "source": [
    "business_review_counts.head(5)"
   ]
  },
  {
   "cell_type": "code",
   "execution_count": 47,
   "metadata": {
    "collapsed": true
   },
   "outputs": [],
   "source": [
    "city_business_reviews = review_city.groupby(['acity', 'business_id'], {'count':gl.aggregate.COUNT('review_id')})"
   ]
  },
  {
   "cell_type": "code",
   "execution_count": 50,
   "metadata": {
    "collapsed": true
   },
   "outputs": [],
   "source": [
    "city_business_review_quantiles = city_business_reviews.groupby('acity',{'quantiles':gl.aggregate.QUANTILE('count', [0.25, 0.5, 0.75, 1]), \n",
    "                                                           'distinct_businesses':gl.aggregate.COUNT('business_id')})"
   ]
  },
  {
   "cell_type": "code",
   "execution_count": 51,
   "metadata": {
    "collapsed": false
   },
   "outputs": [
    {
     "data": {
      "text/html": [
       "<div style=\"max-height:1000px;max-width:1500px;overflow:auto;\"><table frame=\"box\" rules=\"cols\">\n",
       "    <tr>\n",
       "        <th style=\"padding-left: 1em; padding-right: 1em; text-align: center\">acity</th>\n",
       "        <th style=\"padding-left: 1em; padding-right: 1em; text-align: center\">distinct_businesses</th>\n",
       "        <th style=\"padding-left: 1em; padding-right: 1em; text-align: center\">quantiles</th>\n",
       "    </tr>\n",
       "    <tr>\n",
       "        <td style=\"padding-left: 1em; padding-right: 1em; text-align: center; vertical-align: top\">Las Vegas</td>\n",
       "        <td style=\"padding-left: 1em; padding-right: 1em; text-align: center; vertical-align: top\">21221</td>\n",
       "        <td style=\"padding-left: 1em; padding-right: 1em; text-align: center; vertical-align: top\">[5.0, 10.0, 30.0, 5042.0]</td>\n",
       "    </tr>\n",
       "    <tr>\n",
       "        <td style=\"padding-left: 1em; padding-right: 1em; text-align: center; vertical-align: top\">Edinburgh</td>\n",
       "        <td style=\"padding-left: 1em; padding-right: 1em; text-align: center; vertical-align: top\">3061</td>\n",
       "        <td style=\"padding-left: 1em; padding-right: 1em; text-align: center; vertical-align: top\">[3.0, 5.0, 10.0, 182.0]</td>\n",
       "    </tr>\n",
       "    <tr>\n",
       "        <td style=\"padding-left: 1em; padding-right: 1em; text-align: center; vertical-align: top\">Phoenix</td>\n",
       "        <td style=\"padding-left: 1em; padding-right: 1em; text-align: center; vertical-align: top\">32610</td>\n",
       "        <td style=\"padding-left: 1em; padding-right: 1em; text-align: center; vertical-align: top\">[4.0, 8.0, 22.0, 1569.0]</td>\n",
       "    </tr>\n",
       "    <tr>\n",
       "        <td style=\"padding-left: 1em; padding-right: 1em; text-align: center; vertical-align: top\">Waterloo</td>\n",
       "        <td style=\"padding-left: 1em; padding-right: 1em; text-align: center; vertical-align: top\">474</td>\n",
       "        <td style=\"padding-left: 1em; padding-right: 1em; text-align: center; vertical-align: top\">[4.0, 6.0, 12.0, 75.0]</td>\n",
       "    </tr>\n",
       "    <tr>\n",
       "        <td style=\"padding-left: 1em; padding-right: 1em; text-align: center; vertical-align: top\">Other</td>\n",
       "        <td style=\"padding-left: 1em; padding-right: 1em; text-align: center; vertical-align: top\">180</td>\n",
       "        <td style=\"padding-left: 1em; padding-right: 1em; text-align: center; vertical-align: top\">[3.0, 4.0, 8.0, 891.0]</td>\n",
       "    </tr>\n",
       "    <tr>\n",
       "        <td style=\"padding-left: 1em; padding-right: 1em; text-align: center; vertical-align: top\">Montreal</td>\n",
       "        <td style=\"padding-left: 1em; padding-right: 1em; text-align: center; vertical-align: top\">4941</td>\n",
       "        <td style=\"padding-left: 1em; padding-right: 1em; text-align: center; vertical-align: top\">[4.0, 6.0, 14.0, 1066.0]</td>\n",
       "    </tr>\n",
       "    <tr>\n",
       "        <td style=\"padding-left: 1em; padding-right: 1em; text-align: center; vertical-align: top\">Madison</td>\n",
       "        <td style=\"padding-left: 1em; padding-right: 1em; text-align: center; vertical-align: top\">2802</td>\n",
       "        <td style=\"padding-left: 1em; padding-right: 1em; text-align: center; vertical-align: top\">[4.0, 8.0, 21.0, 932.0]</td>\n",
       "    </tr>\n",
       "    <tr>\n",
       "        <td style=\"padding-left: 1em; padding-right: 1em; text-align: center; vertical-align: top\">Urbana-Champaign</td>\n",
       "        <td style=\"padding-left: 1em; padding-right: 1em; text-align: center; vertical-align: top\">737</td>\n",
       "        <td style=\"padding-left: 1em; padding-right: 1em; text-align: center; vertical-align: top\">[5.0, 10.0, 23.0, 573.0]</td>\n",
       "    </tr>\n",
       "    <tr>\n",
       "        <td style=\"padding-left: 1em; padding-right: 1em; text-align: center; vertical-align: top\">Charlotte</td>\n",
       "        <td style=\"padding-left: 1em; padding-right: 1em; text-align: center; vertical-align: top\">6429</td>\n",
       "        <td style=\"padding-left: 1em; padding-right: 1em; text-align: center; vertical-align: top\">[4.0, 8.0, 20.0, 1068.0]</td>\n",
       "    </tr>\n",
       "    <tr>\n",
       "        <td style=\"padding-left: 1em; padding-right: 1em; text-align: center; vertical-align: top\">Karlsruhe</td>\n",
       "        <td style=\"padding-left: 1em; padding-right: 1em; text-align: center; vertical-align: top\">873</td>\n",
       "        <td style=\"padding-left: 1em; padding-right: 1em; text-align: center; vertical-align: top\">[2.0, 3.0, 5.0, 31.0]</td>\n",
       "    </tr>\n",
       "</table>\n",
       "[11 rows x 3 columns]<br/>Note: Only the head of the SFrame is printed.<br/>You can use print_rows(num_rows=m, num_columns=n) to print more rows and columns.\n",
       "</div>"
      ],
      "text/plain": [
       "Columns:\n",
       "\tacity\tstr\n",
       "\tdistinct_businesses\tint\n",
       "\tquantiles\tarray\n",
       "\n",
       "Rows: 11\n",
       "\n",
       "Data:\n",
       "+------------------+---------------------+---------------------------+\n",
       "|      acity       | distinct_businesses |         quantiles         |\n",
       "+------------------+---------------------+---------------------------+\n",
       "|    Las Vegas     |        21221        | [5.0, 10.0, 30.0, 5042.0] |\n",
       "|    Edinburgh     |         3061        |  [3.0, 5.0, 10.0, 182.0]  |\n",
       "|     Phoenix      |        32610        |  [4.0, 8.0, 22.0, 1569.0] |\n",
       "|     Waterloo     |         474         |   [4.0, 6.0, 12.0, 75.0]  |\n",
       "|      Other       |         180         |   [3.0, 4.0, 8.0, 891.0]  |\n",
       "|     Montreal     |         4941        |  [4.0, 6.0, 14.0, 1066.0] |\n",
       "|     Madison      |         2802        |  [4.0, 8.0, 21.0, 932.0]  |\n",
       "| Urbana-Champaign |         737         |  [5.0, 10.0, 23.0, 573.0] |\n",
       "|    Charlotte     |         6429        |  [4.0, 8.0, 20.0, 1068.0] |\n",
       "|    Karlsruhe     |         873         |   [2.0, 3.0, 5.0, 31.0]   |\n",
       "+------------------+---------------------+---------------------------+\n",
       "[11 rows x 3 columns]\n",
       "Note: Only the head of the SFrame is printed.\n",
       "You can use print_rows(num_rows=m, num_columns=n) to print more rows and columns."
      ]
     },
     "execution_count": 51,
     "metadata": {},
     "output_type": "execute_result"
    }
   ],
   "source": [
    "city_business_review_quantiles"
   ]
  },
  {
   "cell_type": "markdown",
   "metadata": {},
   "source": [
    "### Star rating distribution \n"
   ]
  },
  {
   "cell_type": "code",
   "execution_count": 52,
   "metadata": {
    "collapsed": false
   },
   "outputs": [
    {
     "data": {
      "text/html": [
       "<div style=\"max-height:1000px;max-width:1500px;overflow:auto;\"><table frame=\"box\" rules=\"cols\">\n",
       "    <tr>\n",
       "        <th style=\"padding-left: 1em; padding-right: 1em; text-align: center\">business_id</th>\n",
       "        <th style=\"padding-left: 1em; padding-right: 1em; text-align: center\">acity</th>\n",
       "        <th style=\"padding-left: 1em; padding-right: 1em; text-align: center\">date</th>\n",
       "        <th style=\"padding-left: 1em; padding-right: 1em; text-align: center\">review_id</th>\n",
       "        <th style=\"padding-left: 1em; padding-right: 1em; text-align: center\">stars</th>\n",
       "        <th style=\"padding-left: 1em; padding-right: 1em; text-align: center\">text</th>\n",
       "    </tr>\n",
       "    <tr>\n",
       "        <td style=\"padding-left: 1em; padding-right: 1em; text-align: center; vertical-align: top\">5UmKMjUEUNdYWqANhGckJw</td>\n",
       "        <td style=\"padding-left: 1em; padding-right: 1em; text-align: center; vertical-align: top\">Pittsburgh</td>\n",
       "        <td style=\"padding-left: 1em; padding-right: 1em; text-align: center; vertical-align: top\">2012-08-01</td>\n",
       "        <td style=\"padding-left: 1em; padding-right: 1em; text-align: center; vertical-align: top\">Ya85v4eqdd6k9Od8HbQjyA</td>\n",
       "        <td style=\"padding-left: 1em; padding-right: 1em; text-align: center; vertical-align: top\">4</td>\n",
       "        <td style=\"padding-left: 1em; padding-right: 1em; text-align: center; vertical-align: top\">Mr Hoagie is an<br>institution. Walking in, ...</td>\n",
       "    </tr>\n",
       "</table>\n",
       "<table frame=\"box\" rules=\"cols\">\n",
       "    <tr>\n",
       "        <th style=\"padding-left: 1em; padding-right: 1em; text-align: center\">type</th>\n",
       "        <th style=\"padding-left: 1em; padding-right: 1em; text-align: center\">user_id</th>\n",
       "        <th style=\"padding-left: 1em; padding-right: 1em; text-align: center\">votes</th>\n",
       "    </tr>\n",
       "    <tr>\n",
       "        <td style=\"padding-left: 1em; padding-right: 1em; text-align: center; vertical-align: top\">review</td>\n",
       "        <td style=\"padding-left: 1em; padding-right: 1em; text-align: center; vertical-align: top\">PUFPaY9KxDAcGqfsorJp3Q</td>\n",
       "        <td style=\"padding-left: 1em; padding-right: 1em; text-align: center; vertical-align: top\">{'funny': 0, 'useful': 0,<br>'cool': 0} ...</td>\n",
       "    </tr>\n",
       "</table>\n",
       "[1 rows x 9 columns]<br/>\n",
       "</div>"
      ],
      "text/plain": [
       "Columns:\n",
       "\tbusiness_id\tstr\n",
       "\tacity\tstr\n",
       "\tdate\tstr\n",
       "\treview_id\tstr\n",
       "\tstars\tint\n",
       "\ttext\tstr\n",
       "\ttype\tstr\n",
       "\tuser_id\tstr\n",
       "\tvotes\tdict\n",
       "\n",
       "Rows: 1\n",
       "\n",
       "Data:\n",
       "+------------------------+------------+------------+------------------------+-------+\n",
       "|      business_id       |   acity    |    date    |       review_id        | stars |\n",
       "+------------------------+------------+------------+------------------------+-------+\n",
       "| 5UmKMjUEUNdYWqANhGckJw | Pittsburgh | 2012-08-01 | Ya85v4eqdd6k9Od8HbQjyA |   4   |\n",
       "+------------------------+------------+------------+------------------------+-------+\n",
       "+-------------------------------+--------+------------------------+\n",
       "|              text             |  type  |        user_id         |\n",
       "+-------------------------------+--------+------------------------+\n",
       "| Mr Hoagie is an institutio... | review | PUFPaY9KxDAcGqfsorJp3Q |\n",
       "+-------------------------------+--------+------------------------+\n",
       "+-------------------------------+\n",
       "|             votes             |\n",
       "+-------------------------------+\n",
       "| {'funny': 0, 'useful': 0, ... |\n",
       "+-------------------------------+\n",
       "[1 rows x 9 columns]"
      ]
     },
     "execution_count": 52,
     "metadata": {},
     "output_type": "execute_result"
    }
   ],
   "source": [
    "review_city.head(1)"
   ]
  },
  {
   "cell_type": "code",
   "execution_count": 54,
   "metadata": {
    "collapsed": false
   },
   "outputs": [],
   "source": [
    "star_counts = review_city.groupby('stars', gl.aggregate.COUNT('review_id'))"
   ]
  },
  {
   "cell_type": "code",
   "execution_count": 60,
   "metadata": {
    "collapsed": false
   },
   "outputs": [
    {
     "data": {
      "text/plain": [
       "\n",
       "+--------------------+---------------+----------+\n",
       "|        item        |     value     | is exact |\n",
       "+--------------------+---------------+----------+\n",
       "|       Length       |    2225213    |   Yes    |\n",
       "|        Min         |      1.0      |   Yes    |\n",
       "|        Max         |      5.0      |   Yes    |\n",
       "|        Mean        | 3.75609211343 |   Yes    |\n",
       "|        Sum         |   8358105.0   |   Yes    |\n",
       "|      Variance      | 1.86736942769 |   Yes    |\n",
       "| Standard Deviation | 1.36651726212 |   Yes    |\n",
       "|  # Missing Values  |       0       |   Yes    |\n",
       "|  # unique values   |       5       |    No    |\n",
       "+--------------------+---------------+----------+\n",
       "\n",
       "Most frequent items:\n",
       "+-------+--------+--------+--------+--------+--------+\n",
       "| value |   5    |   4    |   3    |   1    |   2    |\n",
       "+-------+--------+--------+--------+--------+--------+\n",
       "| count | 900940 | 591618 | 282115 | 260492 | 190048 |\n",
       "+-------+--------+--------+--------+--------+--------+\n",
       "\n",
       "Quantiles: \n",
       "+-----+-----+-----+-----+-----+-----+-----+-----+------+\n",
       "|  0% |  1% |  5% | 25% | 50% | 75% | 95% | 99% | 100% |\n",
       "+-----+-----+-----+-----+-----+-----+-----+-----+------+\n",
       "| 1.0 | 1.0 | 1.0 | 3.0 | 4.0 | 5.0 | 5.0 | 5.0 | 5.0  |\n",
       "+-----+-----+-----+-----+-----+-----+-----+-----+------+"
      ]
     },
     "execution_count": 60,
     "metadata": {},
     "output_type": "execute_result"
    }
   ],
   "source": [
    "review_city['stars'].sketch_summary()"
   ]
  },
  {
   "cell_type": "code",
   "execution_count": 58,
   "metadata": {
    "collapsed": false
   },
   "outputs": [
    {
     "data": {
      "text/html": [
       "<div>\n",
       "<table border=\"1\" class=\"dataframe\">\n",
       "  <thead>\n",
       "    <tr style=\"text-align: right;\">\n",
       "      <th></th>\n",
       "      <th>stars</th>\n",
       "      <th>Count</th>\n",
       "    </tr>\n",
       "  </thead>\n",
       "  <tbody>\n",
       "    <tr>\n",
       "      <th>0</th>\n",
       "      <td>2</td>\n",
       "      <td>190048</td>\n",
       "    </tr>\n",
       "    <tr>\n",
       "      <th>4</th>\n",
       "      <td>1</td>\n",
       "      <td>260492</td>\n",
       "    </tr>\n",
       "    <tr>\n",
       "      <th>3</th>\n",
       "      <td>3</td>\n",
       "      <td>282115</td>\n",
       "    </tr>\n",
       "    <tr>\n",
       "      <th>2</th>\n",
       "      <td>4</td>\n",
       "      <td>591618</td>\n",
       "    </tr>\n",
       "    <tr>\n",
       "      <th>1</th>\n",
       "      <td>5</td>\n",
       "      <td>900940</td>\n",
       "    </tr>\n",
       "  </tbody>\n",
       "</table>\n",
       "</div>"
      ],
      "text/plain": [
       "   stars   Count\n",
       "0      2  190048\n",
       "4      1  260492\n",
       "3      3  282115\n",
       "2      4  591618\n",
       "1      5  900940"
      ]
     },
     "execution_count": 58,
     "metadata": {},
     "output_type": "execute_result"
    }
   ],
   "source": [
    "star_counts.to_dataframe().sort_values('Count')"
   ]
  },
  {
   "cell_type": "markdown",
   "metadata": {},
   "source": [
    "### Vote type analysis"
   ]
  },
  {
   "cell_type": "code",
   "execution_count": 61,
   "metadata": {
    "collapsed": false
   },
   "outputs": [
    {
     "data": {
      "text/html": [
       "<div style=\"max-height:1000px;max-width:1500px;overflow:auto;\"><table frame=\"box\" rules=\"cols\">\n",
       "    <tr>\n",
       "        <th style=\"padding-left: 1em; padding-right: 1em; text-align: center\">business_id</th>\n",
       "        <th style=\"padding-left: 1em; padding-right: 1em; text-align: center\">acity</th>\n",
       "        <th style=\"padding-left: 1em; padding-right: 1em; text-align: center\">date</th>\n",
       "        <th style=\"padding-left: 1em; padding-right: 1em; text-align: center\">review_id</th>\n",
       "        <th style=\"padding-left: 1em; padding-right: 1em; text-align: center\">stars</th>\n",
       "        <th style=\"padding-left: 1em; padding-right: 1em; text-align: center\">text</th>\n",
       "    </tr>\n",
       "    <tr>\n",
       "        <td style=\"padding-left: 1em; padding-right: 1em; text-align: center; vertical-align: top\">5UmKMjUEUNdYWqANhGckJw</td>\n",
       "        <td style=\"padding-left: 1em; padding-right: 1em; text-align: center; vertical-align: top\">Pittsburgh</td>\n",
       "        <td style=\"padding-left: 1em; padding-right: 1em; text-align: center; vertical-align: top\">2012-08-01</td>\n",
       "        <td style=\"padding-left: 1em; padding-right: 1em; text-align: center; vertical-align: top\">Ya85v4eqdd6k9Od8HbQjyA</td>\n",
       "        <td style=\"padding-left: 1em; padding-right: 1em; text-align: center; vertical-align: top\">4</td>\n",
       "        <td style=\"padding-left: 1em; padding-right: 1em; text-align: center; vertical-align: top\">Mr Hoagie is an<br>institution. Walking in, ...</td>\n",
       "    </tr>\n",
       "</table>\n",
       "<table frame=\"box\" rules=\"cols\">\n",
       "    <tr>\n",
       "        <th style=\"padding-left: 1em; padding-right: 1em; text-align: center\">type</th>\n",
       "        <th style=\"padding-left: 1em; padding-right: 1em; text-align: center\">user_id</th>\n",
       "        <th style=\"padding-left: 1em; padding-right: 1em; text-align: center\">votes</th>\n",
       "    </tr>\n",
       "    <tr>\n",
       "        <td style=\"padding-left: 1em; padding-right: 1em; text-align: center; vertical-align: top\">review</td>\n",
       "        <td style=\"padding-left: 1em; padding-right: 1em; text-align: center; vertical-align: top\">PUFPaY9KxDAcGqfsorJp3Q</td>\n",
       "        <td style=\"padding-left: 1em; padding-right: 1em; text-align: center; vertical-align: top\">{'funny': 0, 'useful': 0,<br>'cool': 0} ...</td>\n",
       "    </tr>\n",
       "</table>\n",
       "[1 rows x 9 columns]<br/>\n",
       "</div>"
      ],
      "text/plain": [
       "Columns:\n",
       "\tbusiness_id\tstr\n",
       "\tacity\tstr\n",
       "\tdate\tstr\n",
       "\treview_id\tstr\n",
       "\tstars\tint\n",
       "\ttext\tstr\n",
       "\ttype\tstr\n",
       "\tuser_id\tstr\n",
       "\tvotes\tdict\n",
       "\n",
       "Rows: 1\n",
       "\n",
       "Data:\n",
       "+------------------------+------------+------------+------------------------+-------+\n",
       "|      business_id       |   acity    |    date    |       review_id        | stars |\n",
       "+------------------------+------------+------------+------------------------+-------+\n",
       "| 5UmKMjUEUNdYWqANhGckJw | Pittsburgh | 2012-08-01 | Ya85v4eqdd6k9Od8HbQjyA |   4   |\n",
       "+------------------------+------------+------------+------------------------+-------+\n",
       "+-------------------------------+--------+------------------------+\n",
       "|              text             |  type  |        user_id         |\n",
       "+-------------------------------+--------+------------------------+\n",
       "| Mr Hoagie is an institutio... | review | PUFPaY9KxDAcGqfsorJp3Q |\n",
       "+-------------------------------+--------+------------------------+\n",
       "+-------------------------------+\n",
       "|             votes             |\n",
       "+-------------------------------+\n",
       "| {'funny': 0, 'useful': 0, ... |\n",
       "+-------------------------------+\n",
       "[1 rows x 9 columns]"
      ]
     },
     "execution_count": 61,
     "metadata": {},
     "output_type": "execute_result"
    }
   ],
   "source": [
    "review_city.head(1)"
   ]
  },
  {
   "cell_type": "code",
   "execution_count": 62,
   "metadata": {
    "collapsed": true
   },
   "outputs": [],
   "source": [
    "review_city['total_votes'] = review_city['votes'].apply(lambda x: sum(x.values()))"
   ]
  },
  {
   "cell_type": "code",
   "execution_count": 64,
   "metadata": {
    "collapsed": false
   },
   "outputs": [
    {
     "data": {
      "text/plain": [
       "\n",
       "+--------------------+---------------+----------+\n",
       "|        item        |     value     | is exact |\n",
       "+--------------------+---------------+----------+\n",
       "|       Length       |    2225213    |   Yes    |\n",
       "|        Min         |      0.0      |   Yes    |\n",
       "|        Max         |     447.0     |   Yes    |\n",
       "|        Mean        | 2.01188021102 |   Yes    |\n",
       "|        Sum         |   4476862.0   |   Yes    |\n",
       "|      Variance      | 24.7626065167 |   Yes    |\n",
       "| Standard Deviation | 4.97620402683 |   Yes    |\n",
       "|  # Missing Values  |       0       |   Yes    |\n",
       "|  # unique values   |      223      |    No    |\n",
       "+--------------------+---------------+----------+\n",
       "\n",
       "Most frequent items:\n",
       "+-------+---------+--------+--------+--------+-------+-------+-------+-------+\n",
       "| value |    0    |   1    |   2    |   3    |   4   |   5   |   6   |   7   |\n",
       "+-------+---------+--------+--------+--------+-------+-------+-------+-------+\n",
       "| count | 1082553 | 395768 | 228296 | 164303 | 94315 | 60091 | 44478 | 30270 |\n",
       "+-------+---------+--------+--------+--------+-------+-------+-------+-------+\n",
       "+-------+-------+\n",
       "|   8   |   9   |\n",
       "+-------+-------+\n",
       "| 21854 | 17313 |\n",
       "+-------+-------+\n",
       "\n",
       "Quantiles: \n",
       "+-----+-----+-----+-----+-----+-----+-----+------+-------+\n",
       "|  0% |  1% |  5% | 25% | 50% | 75% | 95% | 99%  |  100% |\n",
       "+-----+-----+-----+-----+-----+-----+-----+------+-------+\n",
       "| 0.0 | 0.0 | 0.0 | 0.0 | 1.0 | 2.0 | 8.0 | 21.0 | 447.0 |\n",
       "+-----+-----+-----+-----+-----+-----+-----+------+-------+"
      ]
     },
     "execution_count": 64,
     "metadata": {},
     "output_type": "execute_result"
    }
   ],
   "source": [
    "review_city['total_votes'].sketch_summary()"
   ]
  },
  {
   "cell_type": "code",
   "execution_count": 66,
   "metadata": {
    "collapsed": false
   },
   "outputs": [],
   "source": [
    "rcv = review_city.unpack('votes')"
   ]
  },
  {
   "cell_type": "code",
   "execution_count": 68,
   "metadata": {
    "collapsed": false
   },
   "outputs": [
    {
     "data": {
      "text/plain": [
       "\n",
       "+--------------------+----------------+----------+\n",
       "|        item        |     value      | is exact |\n",
       "+--------------------+----------------+----------+\n",
       "|       Length       |    2225213     |   Yes    |\n",
       "|        Min         |      0.0       |   Yes    |\n",
       "|        Max         |     138.0      |   Yes    |\n",
       "|        Mean        | 0.549643112817 |   Yes    |\n",
       "|        Sum         |   1223073.0    |   Yes    |\n",
       "|      Variance      | 2.80933346564  |   Yes    |\n",
       "| Standard Deviation |  1.6761066391  |   Yes    |\n",
       "|  # Missing Values  |       0        |   Yes    |\n",
       "|  # unique values   |      105       |    No    |\n",
       "+--------------------+----------------+----------+\n",
       "\n",
       "Most frequent items:\n",
       "+-------+---------+--------+--------+-------+-------+-------+------+------+------+\n",
       "| value |    0    |   1    |   2    |   3   |   4   |   5   |  6   |  7   |  8   |\n",
       "+-------+---------+--------+--------+-------+-------+-------+------+------+------+\n",
       "| count | 1622610 | 374102 | 114800 | 45755 | 22519 | 13067 | 8370 | 5743 | 4222 |\n",
       "+-------+---------+--------+--------+-------+-------+-------+------+------+------+\n",
       "+------+\n",
       "|  9   |\n",
       "+------+\n",
       "| 3007 |\n",
       "+------+\n",
       "\n",
       "Quantiles: \n",
       "+-----+-----+-----+-----+-----+-----+-----+-----+-------+\n",
       "|  0% |  1% |  5% | 25% | 50% | 75% | 95% | 99% |  100% |\n",
       "+-----+-----+-----+-----+-----+-----+-----+-----+-------+\n",
       "| 0.0 | 0.0 | 0.0 | 0.0 | 0.0 | 1.0 | 3.0 | 7.0 | 138.0 |\n",
       "+-----+-----+-----+-----+-----+-----+-----+-----+-------+"
      ]
     },
     "execution_count": 68,
     "metadata": {},
     "output_type": "execute_result"
    }
   ],
   "source": [
    "rcv['votes.cool'].sketch_summary()"
   ]
  },
  {
   "cell_type": "code",
   "execution_count": 69,
   "metadata": {
    "collapsed": false
   },
   "outputs": [
    {
     "data": {
      "text/plain": [
       "\n",
       "+--------------------+----------------+----------+\n",
       "|        item        |     value      | is exact |\n",
       "+--------------------+----------------+----------+\n",
       "|       Length       |    2225213     |   Yes    |\n",
       "|        Min         |      0.0       |   Yes    |\n",
       "|        Max         |     142.0      |   Yes    |\n",
       "|        Mean        | 0.441225177095 |   Yes    |\n",
       "|        Sum         |    981820.0    |   Yes    |\n",
       "|      Variance      | 2.36998538865  |   Yes    |\n",
       "| Standard Deviation | 1.53947568628  |   Yes    |\n",
       "|  # Missing Values  |       0        |   Yes    |\n",
       "|  # unique values   |      104       |    No    |\n",
       "+--------------------+----------------+----------+\n",
       "\n",
       "Most frequent items:\n",
       "+-------+---------+--------+-------+-------+-------+-------+------+------+------+\n",
       "| value |    0    |   1    |   2   |   3   |   4   |   5   |  6   |  7   |  8   |\n",
       "+-------+---------+--------+-------+-------+-------+-------+------+------+------+\n",
       "| count | 1753578 | 288974 | 88437 | 37108 | 18934 | 11212 | 7073 | 4889 | 3488 |\n",
       "+-------+---------+--------+-------+-------+-------+-------+------+------+------+\n",
       "+------+\n",
       "|  9   |\n",
       "+------+\n",
       "| 2413 |\n",
       "+------+\n",
       "\n",
       "Quantiles: \n",
       "+-----+-----+-----+-----+-----+-----+-----+-----+-------+\n",
       "|  0% |  1% |  5% | 25% | 50% | 75% | 95% | 99% |  100% |\n",
       "+-----+-----+-----+-----+-----+-----+-----+-----+-------+\n",
       "| 0.0 | 0.0 | 0.0 | 0.0 | 0.0 | 0.0 | 2.0 | 6.0 | 142.0 |\n",
       "+-----+-----+-----+-----+-----+-----+-----+-----+-------+"
      ]
     },
     "execution_count": 69,
     "metadata": {},
     "output_type": "execute_result"
    }
   ],
   "source": [
    "rcv['votes.funny'].sketch_summary()"
   ]
  },
  {
   "cell_type": "code",
   "execution_count": 70,
   "metadata": {
    "collapsed": false
   },
   "outputs": [
    {
     "data": {
      "text/plain": [
       "\n",
       "+--------------------+---------------+----------+\n",
       "|        item        |     value     | is exact |\n",
       "+--------------------+---------------+----------+\n",
       "|       Length       |    2225213    |   Yes    |\n",
       "|        Min         |      0.0      |   Yes    |\n",
       "|        Max         |     167.0     |   Yes    |\n",
       "|        Mean        | 1.02101192111 |   Yes    |\n",
       "|        Sum         |   2271969.0   |   Yes    |\n",
       "|      Variance      | 4.49691493202 |   Yes    |\n",
       "| Standard Deviation | 2.12059306139 |   Yes    |\n",
       "|  # Missing Values  |       0       |   Yes    |\n",
       "|  # unique values   |      109      |    No    |\n",
       "+--------------------+---------------+----------+\n",
       "\n",
       "Most frequent items:\n",
       "+-------+---------+--------+--------+--------+-------+-------+-------+-------+\n",
       "| value |    0    |   1    |   2    |   3    |   4   |   5   |   6   |   7   |\n",
       "+-------+---------+--------+--------+--------+-------+-------+-------+-------+\n",
       "| count | 1224709 | 519700 | 225496 | 105772 | 54327 | 30636 | 18599 | 12248 |\n",
       "+-------+---------+--------+--------+--------+-------+-------+-------+-------+\n",
       "+------+------+\n",
       "|  8   |  9   |\n",
       "+------+------+\n",
       "| 8321 | 5866 |\n",
       "+------+------+\n",
       "\n",
       "Quantiles: \n",
       "+-----+-----+-----+-----+-----+-----+-----+------+-------+\n",
       "|  0% |  1% |  5% | 25% | 50% | 75% | 95% | 99%  |  100% |\n",
       "+-----+-----+-----+-----+-----+-----+-----+------+-------+\n",
       "| 0.0 | 0.0 | 0.0 | 0.0 | 0.0 | 1.0 | 4.0 | 10.0 | 167.0 |\n",
       "+-----+-----+-----+-----+-----+-----+-----+------+-------+"
      ]
     },
     "execution_count": 70,
     "metadata": {},
     "output_type": "execute_result"
    }
   ],
   "source": [
    "rcv['votes.useful'].sketch_summary()"
   ]
  },
  {
   "cell_type": "code",
   "execution_count": null,
   "metadata": {
    "collapsed": true
   },
   "outputs": [],
   "source": []
  },
  {
   "cell_type": "code",
   "execution_count": null,
   "metadata": {
    "collapsed": true
   },
   "outputs": [],
   "source": []
  },
  {
   "cell_type": "code",
   "execution_count": null,
   "metadata": {
    "collapsed": true
   },
   "outputs": [],
   "source": []
  },
  {
   "cell_type": "code",
   "execution_count": null,
   "metadata": {
    "collapsed": true
   },
   "outputs": [],
   "source": []
  },
  {
   "cell_type": "code",
   "execution_count": null,
   "metadata": {
    "collapsed": true
   },
   "outputs": [],
   "source": []
  },
  {
   "cell_type": "code",
   "execution_count": null,
   "metadata": {
    "collapsed": true
   },
   "outputs": [],
   "source": []
  },
  {
   "cell_type": "code",
   "execution_count": null,
   "metadata": {
    "collapsed": true
   },
   "outputs": [],
   "source": []
  }
 ],
 "metadata": {
  "kernelspec": {
   "display_name": "Python 2",
   "language": "python",
   "name": "python2"
  },
  "language_info": {
   "codemirror_mode": {
    "name": "ipython",
    "version": 2
   },
   "file_extension": ".py",
   "mimetype": "text/x-python",
   "name": "python",
   "nbconvert_exporter": "python",
   "pygments_lexer": "ipython2",
   "version": "2.7.11"
  }
 },
 "nbformat": 4,
 "nbformat_minor": 0
}
