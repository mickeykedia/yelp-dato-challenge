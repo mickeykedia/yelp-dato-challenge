{
 "cells": [
  {
   "cell_type": "code",
   "execution_count": 1,
   "metadata": {
    "collapsed": false
   },
   "outputs": [],
   "source": [
    "import graphlab as gl"
   ]
  },
  {
   "cell_type": "code",
   "execution_count": 9,
   "metadata": {
    "collapsed": false
   },
   "outputs": [
    {
     "data": {
      "text/html": [
       "<pre>Finished parsing file /Users/mayankkedia/Documents/Jobs/Dato/yelp_dataset_challenge_academic_dataset/yelp_academic_dataset_business.json</pre>"
      ],
      "text/plain": [
       "Finished parsing file /Users/mayankkedia/Documents/Jobs/Dato/yelp_dataset_challenge_academic_dataset/yelp_academic_dataset_business.json"
      ]
     },
     "metadata": {},
     "output_type": "display_data"
    },
    {
     "data": {
      "text/html": [
       "<pre>Parsing completed. Parsed 100 lines in 1.42653 secs.</pre>"
      ],
      "text/plain": [
       "Parsing completed. Parsed 100 lines in 1.42653 secs."
      ]
     },
     "metadata": {},
     "output_type": "display_data"
    },
    {
     "name": "stdout",
     "output_type": "stream",
     "text": [
      "------------------------------------------------------\n",
      "Inferred types from first 100 line(s) of file as \n",
      "column_type_hints=[dict]\n",
      "If parsing fails due to incorrect types, you can correct\n",
      "the inferred type list above and pass it to read_csv in\n",
      "the column_type_hints argument\n",
      "------------------------------------------------------\n"
     ]
    },
    {
     "data": {
      "text/html": [
       "<pre>Read 59239 lines. Lines per second: 25728.8</pre>"
      ],
      "text/plain": [
       "Read 59239 lines. Lines per second: 25728.8"
      ]
     },
     "metadata": {},
     "output_type": "display_data"
    },
    {
     "data": {
      "text/html": [
       "<pre>Finished parsing file /Users/mayankkedia/Documents/Jobs/Dato/yelp_dataset_challenge_academic_dataset/yelp_academic_dataset_business.json</pre>"
      ],
      "text/plain": [
       "Finished parsing file /Users/mayankkedia/Documents/Jobs/Dato/yelp_dataset_challenge_academic_dataset/yelp_academic_dataset_business.json"
      ]
     },
     "metadata": {},
     "output_type": "display_data"
    },
    {
     "data": {
      "text/html": [
       "<pre>Parsing completed. Parsed 77445 lines in 2.61498 secs.</pre>"
      ],
      "text/plain": [
       "Parsing completed. Parsed 77445 lines in 2.61498 secs."
      ]
     },
     "metadata": {},
     "output_type": "display_data"
    }
   ],
   "source": [
    "bdf = gl.SFrame.read_json(\"yelp_dataset_challenge_academic_dataset/yelp_academic_dataset_business.json\", orient='lines')"
   ]
  },
  {
   "cell_type": "code",
   "execution_count": 10,
   "metadata": {
    "collapsed": false
   },
   "outputs": [
    {
     "data": {
      "text/html": [
       "<div style=\"max-height:1000px;max-width:1500px;overflow:auto;\"><table frame=\"box\" rules=\"cols\">\n",
       "    <tr>\n",
       "        <th style=\"padding-left: 1em; padding-right: 1em; text-align: center\">attributes</th>\n",
       "        <th style=\"padding-left: 1em; padding-right: 1em; text-align: center\">business_id</th>\n",
       "        <th style=\"padding-left: 1em; padding-right: 1em; text-align: center\">categories</th>\n",
       "        <th style=\"padding-left: 1em; padding-right: 1em; text-align: center\">city</th>\n",
       "    </tr>\n",
       "    <tr>\n",
       "        <td style=\"padding-left: 1em; padding-right: 1em; text-align: center; vertical-align: top\">{'Take-out': 'true',<br>'Drive-Thru': 'false', ...</td>\n",
       "        <td style=\"padding-left: 1em; padding-right: 1em; text-align: center; vertical-align: top\">5UmKMjUEUNdYWqANhGckJw</td>\n",
       "        <td style=\"padding-left: 1em; padding-right: 1em; text-align: center; vertical-align: top\">[Fast Food, Restaurants]</td>\n",
       "        <td style=\"padding-left: 1em; padding-right: 1em; text-align: center; vertical-align: top\">Dravosburg</td>\n",
       "    </tr>\n",
       "    <tr>\n",
       "        <td style=\"padding-left: 1em; padding-right: 1em; text-align: center; vertical-align: top\">{'Happy Hour': 'true',<br>'Accepts Credit Cards': ...</td>\n",
       "        <td style=\"padding-left: 1em; padding-right: 1em; text-align: center; vertical-align: top\">UsFtqoBl7naz8AVUBZMjQQ</td>\n",
       "        <td style=\"padding-left: 1em; padding-right: 1em; text-align: center; vertical-align: top\">[Nightlife]</td>\n",
       "        <td style=\"padding-left: 1em; padding-right: 1em; text-align: center; vertical-align: top\">Dravosburg</td>\n",
       "    </tr>\n",
       "    <tr>\n",
       "        <td style=\"padding-left: 1em; padding-right: 1em; text-align: center; vertical-align: top\">{}</td>\n",
       "        <td style=\"padding-left: 1em; padding-right: 1em; text-align: center; vertical-align: top\">3eu6MEFlq2Dg7bQh8QbdOg</td>\n",
       "        <td style=\"padding-left: 1em; padding-right: 1em; text-align: center; vertical-align: top\">[Auto Repair, Automotive]</td>\n",
       "        <td style=\"padding-left: 1em; padding-right: 1em; text-align: center; vertical-align: top\">Dravosburg</td>\n",
       "    </tr>\n",
       "    <tr>\n",
       "        <td style=\"padding-left: 1em; padding-right: 1em; text-align: center; vertical-align: top\">{'Good for Kids': 'true'}</td>\n",
       "        <td style=\"padding-left: 1em; padding-right: 1em; text-align: center; vertical-align: top\">cE27W9VPgO88Qxe4ol6y_g</td>\n",
       "        <td style=\"padding-left: 1em; padding-right: 1em; text-align: center; vertical-align: top\">[Active Life, Mini Golf,<br>Golf] ...</td>\n",
       "        <td style=\"padding-left: 1em; padding-right: 1em; text-align: center; vertical-align: top\">Bethel Park</td>\n",
       "    </tr>\n",
       "    <tr>\n",
       "        <td style=\"padding-left: 1em; padding-right: 1em; text-align: center; vertical-align: top\">{'Accepts Credit Cards':<br>'false', 'Price Range': ...</td>\n",
       "        <td style=\"padding-left: 1em; padding-right: 1em; text-align: center; vertical-align: top\">HZdLhv6COCleJMo7nPl-RA</td>\n",
       "        <td style=\"padding-left: 1em; padding-right: 1em; text-align: center; vertical-align: top\">[Shopping, Home Services,<br>Internet Service ...</td>\n",
       "        <td style=\"padding-left: 1em; padding-right: 1em; text-align: center; vertical-align: top\">Pittsburgh</td>\n",
       "    </tr>\n",
       "    <tr>\n",
       "        <td style=\"padding-left: 1em; padding-right: 1em; text-align: center; vertical-align: top\">{'Alcohol': 'full_bar',<br>'Noise Level': 'avera ...</td>\n",
       "        <td style=\"padding-left: 1em; padding-right: 1em; text-align: center; vertical-align: top\">mVHrayjG3uZ_RLHkLj-AMg</td>\n",
       "        <td style=\"padding-left: 1em; padding-right: 1em; text-align: center; vertical-align: top\">[Bars, American (New),<br>Nightlife, Lounges, ...</td>\n",
       "        <td style=\"padding-left: 1em; padding-right: 1em; text-align: center; vertical-align: top\">rankin</td>\n",
       "    </tr>\n",
       "    <tr>\n",
       "        <td style=\"padding-left: 1em; padding-right: 1em; text-align: center; vertical-align: top\">{'Good for Kids':<br>'false'} ...</td>\n",
       "        <td style=\"padding-left: 1em; padding-right: 1em; text-align: center; vertical-align: top\">VHYT1qgQw5JvXAlUDhTArA</td>\n",
       "        <td style=\"padding-left: 1em; padding-right: 1em; text-align: center; vertical-align: top\">[Active Life, Trainers,<br>Fitness &amp; Instruction] ...</td>\n",
       "        <td style=\"padding-left: 1em; padding-right: 1em; text-align: center; vertical-align: top\">Pittsburgh</td>\n",
       "    </tr>\n",
       "    <tr>\n",
       "        <td style=\"padding-left: 1em; padding-right: 1em; text-align: center; vertical-align: top\">{'Alcohol': 'full_bar',<br>'Noise Level': 'loud', ...</td>\n",
       "        <td style=\"padding-left: 1em; padding-right: 1em; text-align: center; vertical-align: top\">KayYbHCt-RkbGcPdGOThNg</td>\n",
       "        <td style=\"padding-left: 1em; padding-right: 1em; text-align: center; vertical-align: top\">[Bars, American<br>(Traditional), Nightl ...</td>\n",
       "        <td style=\"padding-left: 1em; padding-right: 1em; text-align: center; vertical-align: top\">Carnegie</td>\n",
       "    </tr>\n",
       "    <tr>\n",
       "        <td style=\"padding-left: 1em; padding-right: 1em; text-align: center; vertical-align: top\">{}</td>\n",
       "        <td style=\"padding-left: 1em; padding-right: 1em; text-align: center; vertical-align: top\">b12U9TFESStdy7CsTtcOeg</td>\n",
       "        <td style=\"padding-left: 1em; padding-right: 1em; text-align: center; vertical-align: top\">[Auto Repair, Automotive,<br>Tires] ...</td>\n",
       "        <td style=\"padding-left: 1em; padding-right: 1em; text-align: center; vertical-align: top\">Carnegie</td>\n",
       "    </tr>\n",
       "    <tr>\n",
       "        <td style=\"padding-left: 1em; padding-right: 1em; text-align: center; vertical-align: top\">{'Good for Kids': 'true'}</td>\n",
       "        <td style=\"padding-left: 1em; padding-right: 1em; text-align: center; vertical-align: top\">Sktj1eHQFuVa-M4bgnEh8g</td>\n",
       "        <td style=\"padding-left: 1em; padding-right: 1em; text-align: center; vertical-align: top\">[Active Life, Mini Golf]</td>\n",
       "        <td style=\"padding-left: 1em; padding-right: 1em; text-align: center; vertical-align: top\">Carnegie</td>\n",
       "    </tr>\n",
       "</table>\n",
       "<table frame=\"box\" rules=\"cols\">\n",
       "    <tr>\n",
       "        <th style=\"padding-left: 1em; padding-right: 1em; text-align: center\">full_address</th>\n",
       "        <th style=\"padding-left: 1em; padding-right: 1em; text-align: center\">hours</th>\n",
       "        <th style=\"padding-left: 1em; padding-right: 1em; text-align: center\">latitude</th>\n",
       "        <th style=\"padding-left: 1em; padding-right: 1em; text-align: center\">longitude</th>\n",
       "        <th style=\"padding-left: 1em; padding-right: 1em; text-align: center\">name</th>\n",
       "    </tr>\n",
       "    <tr>\n",
       "        <td style=\"padding-left: 1em; padding-right: 1em; text-align: center; vertical-align: top\">4734 Lebanon Church<br>Rd\\nDravosburg, PA 15034 ...</td>\n",
       "        <td style=\"padding-left: 1em; padding-right: 1em; text-align: center; vertical-align: top\">{'Tuesday': {'close':<br>'21:00', 'open': ...</td>\n",
       "        <td style=\"padding-left: 1em; padding-right: 1em; text-align: center; vertical-align: top\">40.3543266</td>\n",
       "        <td style=\"padding-left: 1em; padding-right: 1em; text-align: center; vertical-align: top\">-79.9007057</td>\n",
       "        <td style=\"padding-left: 1em; padding-right: 1em; text-align: center; vertical-align: top\">Mr Hoagie</td>\n",
       "    </tr>\n",
       "    <tr>\n",
       "        <td style=\"padding-left: 1em; padding-right: 1em; text-align: center; vertical-align: top\">202 McClure<br>St\\nDravosburg, PA 15034 ...</td>\n",
       "        <td style=\"padding-left: 1em; padding-right: 1em; text-align: center; vertical-align: top\">{}</td>\n",
       "        <td style=\"padding-left: 1em; padding-right: 1em; text-align: center; vertical-align: top\">40.3505527</td>\n",
       "        <td style=\"padding-left: 1em; padding-right: 1em; text-align: center; vertical-align: top\">-79.8868138</td>\n",
       "        <td style=\"padding-left: 1em; padding-right: 1em; text-align: center; vertical-align: top\">Clancy's Pub</td>\n",
       "    </tr>\n",
       "    <tr>\n",
       "        <td style=\"padding-left: 1em; padding-right: 1em; text-align: center; vertical-align: top\">1 Ravine St\\nDravosburg,<br>PA 15034 ...</td>\n",
       "        <td style=\"padding-left: 1em; padding-right: 1em; text-align: center; vertical-align: top\">{}</td>\n",
       "        <td style=\"padding-left: 1em; padding-right: 1em; text-align: center; vertical-align: top\">40.3509559</td>\n",
       "        <td style=\"padding-left: 1em; padding-right: 1em; text-align: center; vertical-align: top\">-79.889059</td>\n",
       "        <td style=\"padding-left: 1em; padding-right: 1em; text-align: center; vertical-align: top\">Joe Cislo's Auto</td>\n",
       "    </tr>\n",
       "    <tr>\n",
       "        <td style=\"padding-left: 1em; padding-right: 1em; text-align: center; vertical-align: top\">1530 Hamilton Rd\\nBethel<br>Park, PA 15234 ...</td>\n",
       "        <td style=\"padding-left: 1em; padding-right: 1em; text-align: center; vertical-align: top\">{}</td>\n",
       "        <td style=\"padding-left: 1em; padding-right: 1em; text-align: center; vertical-align: top\">40.3541155</td>\n",
       "        <td style=\"padding-left: 1em; padding-right: 1em; text-align: center; vertical-align: top\">-80.0146597</td>\n",
       "        <td style=\"padding-left: 1em; padding-right: 1em; text-align: center; vertical-align: top\">Cool Springs Golf Center</td>\n",
       "    </tr>\n",
       "    <tr>\n",
       "        <td style=\"padding-left: 1em; padding-right: 1em; text-align: center; vertical-align: top\">301 South Hills<br>Village\\nPittsburgh, PA ...</td>\n",
       "        <td style=\"padding-left: 1em; padding-right: 1em; text-align: center; vertical-align: top\">{'Monday': {'close':<br>'21:00', 'open': ...</td>\n",
       "        <td style=\"padding-left: 1em; padding-right: 1em; text-align: center; vertical-align: top\">40.35762</td>\n",
       "        <td style=\"padding-left: 1em; padding-right: 1em; text-align: center; vertical-align: top\">-80.05998</td>\n",
       "        <td style=\"padding-left: 1em; padding-right: 1em; text-align: center; vertical-align: top\">Verizon</td>\n",
       "    </tr>\n",
       "    <tr>\n",
       "        <td style=\"padding-left: 1em; padding-right: 1em; text-align: center; vertical-align: top\">414 Hawkins Ave\\nrankin,<br>PA 15104 ...</td>\n",
       "        <td style=\"padding-left: 1em; padding-right: 1em; text-align: center; vertical-align: top\">{'Tuesday': {'close':<br>'19:00', 'open': ...</td>\n",
       "        <td style=\"padding-left: 1em; padding-right: 1em; text-align: center; vertical-align: top\">40.4134643</td>\n",
       "        <td style=\"padding-left: 1em; padding-right: 1em; text-align: center; vertical-align: top\">-79.8802474</td>\n",
       "        <td style=\"padding-left: 1em; padding-right: 1em; text-align: center; vertical-align: top\">Emil's Lounge</td>\n",
       "    </tr>\n",
       "    <tr>\n",
       "        <td style=\"padding-left: 1em; padding-right: 1em; text-align: center; vertical-align: top\">2101 Greentree Rd Ste<br>B201\\nPittsburgh, PA ...</td>\n",
       "        <td style=\"padding-left: 1em; padding-right: 1em; text-align: center; vertical-align: top\">{}</td>\n",
       "        <td style=\"padding-left: 1em; padding-right: 1em; text-align: center; vertical-align: top\">40.3903858</td>\n",
       "        <td style=\"padding-left: 1em; padding-right: 1em; text-align: center; vertical-align: top\">-80.0708968</td>\n",
       "        <td style=\"padding-left: 1em; padding-right: 1em; text-align: center; vertical-align: top\">Extreme Fitness 2</td>\n",
       "    </tr>\n",
       "    <tr>\n",
       "        <td style=\"padding-left: 1em; padding-right: 1em; text-align: center; vertical-align: top\">141 Hawthorne<br>St\\nGreentree\\nCarnegie, ...</td>\n",
       "        <td style=\"padding-left: 1em; padding-right: 1em; text-align: center; vertical-align: top\">{'Monday': {'close':<br>'02:00', 'open': ...</td>\n",
       "        <td style=\"padding-left: 1em; padding-right: 1em; text-align: center; vertical-align: top\">40.415517</td>\n",
       "        <td style=\"padding-left: 1em; padding-right: 1em; text-align: center; vertical-align: top\">-80.067534</td>\n",
       "        <td style=\"padding-left: 1em; padding-right: 1em; text-align: center; vertical-align: top\">Alexion's Bar &amp; Grill</td>\n",
       "    </tr>\n",
       "    <tr>\n",
       "        <td style=\"padding-left: 1em; padding-right: 1em; text-align: center; vertical-align: top\">718A Hope Hollow<br>Rd\\nCarnegie, PA 15106 ...</td>\n",
       "        <td style=\"padding-left: 1em; padding-right: 1em; text-align: center; vertical-align: top\">{'Monday': {'close':<br>'19:00', 'open': ...</td>\n",
       "        <td style=\"padding-left: 1em; padding-right: 1em; text-align: center; vertical-align: top\">40.394588</td>\n",
       "        <td style=\"padding-left: 1em; padding-right: 1em; text-align: center; vertical-align: top\">-80.0844539</td>\n",
       "        <td style=\"padding-left: 1em; padding-right: 1em; text-align: center; vertical-align: top\">Flynn's Tire And Auto<br>Service ...</td>\n",
       "    </tr>\n",
       "    <tr>\n",
       "        <td style=\"padding-left: 1em; padding-right: 1em; text-align: center; vertical-align: top\">920 Forsythe<br>Rd\\nCarnegie\\nCarnegie, ...</td>\n",
       "        <td style=\"padding-left: 1em; padding-right: 1em; text-align: center; vertical-align: top\">{}</td>\n",
       "        <td style=\"padding-left: 1em; padding-right: 1em; text-align: center; vertical-align: top\">40.4054039</td>\n",
       "        <td style=\"padding-left: 1em; padding-right: 1em; text-align: center; vertical-align: top\">-80.0762665</td>\n",
       "        <td style=\"padding-left: 1em; padding-right: 1em; text-align: center; vertical-align: top\">Forsythe Miniature Golf &amp;<br>Snacks ...</td>\n",
       "    </tr>\n",
       "</table>\n",
       "<table frame=\"box\" rules=\"cols\">\n",
       "    <tr>\n",
       "        <th style=\"padding-left: 1em; padding-right: 1em; text-align: center\">neighborhoods</th>\n",
       "        <th style=\"padding-left: 1em; padding-right: 1em; text-align: center\">open</th>\n",
       "        <th style=\"padding-left: 1em; padding-right: 1em; text-align: center\">review_count</th>\n",
       "        <th style=\"padding-left: 1em; padding-right: 1em; text-align: center\">stars</th>\n",
       "        <th style=\"padding-left: 1em; padding-right: 1em; text-align: center\">state</th>\n",
       "        <th style=\"padding-left: 1em; padding-right: 1em; text-align: center\">type</th>\n",
       "    </tr>\n",
       "    <tr>\n",
       "        <td style=\"padding-left: 1em; padding-right: 1em; text-align: center; vertical-align: top\">[]</td>\n",
       "        <td style=\"padding-left: 1em; padding-right: 1em; text-align: center; vertical-align: top\">true</td>\n",
       "        <td style=\"padding-left: 1em; padding-right: 1em; text-align: center; vertical-align: top\">4</td>\n",
       "        <td style=\"padding-left: 1em; padding-right: 1em; text-align: center; vertical-align: top\">4.5</td>\n",
       "        <td style=\"padding-left: 1em; padding-right: 1em; text-align: center; vertical-align: top\">PA</td>\n",
       "        <td style=\"padding-left: 1em; padding-right: 1em; text-align: center; vertical-align: top\">business</td>\n",
       "    </tr>\n",
       "    <tr>\n",
       "        <td style=\"padding-left: 1em; padding-right: 1em; text-align: center; vertical-align: top\">[]</td>\n",
       "        <td style=\"padding-left: 1em; padding-right: 1em; text-align: center; vertical-align: top\">true</td>\n",
       "        <td style=\"padding-left: 1em; padding-right: 1em; text-align: center; vertical-align: top\">4</td>\n",
       "        <td style=\"padding-left: 1em; padding-right: 1em; text-align: center; vertical-align: top\">3.5</td>\n",
       "        <td style=\"padding-left: 1em; padding-right: 1em; text-align: center; vertical-align: top\">PA</td>\n",
       "        <td style=\"padding-left: 1em; padding-right: 1em; text-align: center; vertical-align: top\">business</td>\n",
       "    </tr>\n",
       "    <tr>\n",
       "        <td style=\"padding-left: 1em; padding-right: 1em; text-align: center; vertical-align: top\">[]</td>\n",
       "        <td style=\"padding-left: 1em; padding-right: 1em; text-align: center; vertical-align: top\">true</td>\n",
       "        <td style=\"padding-left: 1em; padding-right: 1em; text-align: center; vertical-align: top\">3</td>\n",
       "        <td style=\"padding-left: 1em; padding-right: 1em; text-align: center; vertical-align: top\">5.0</td>\n",
       "        <td style=\"padding-left: 1em; padding-right: 1em; text-align: center; vertical-align: top\">PA</td>\n",
       "        <td style=\"padding-left: 1em; padding-right: 1em; text-align: center; vertical-align: top\">business</td>\n",
       "    </tr>\n",
       "    <tr>\n",
       "        <td style=\"padding-left: 1em; padding-right: 1em; text-align: center; vertical-align: top\">[]</td>\n",
       "        <td style=\"padding-left: 1em; padding-right: 1em; text-align: center; vertical-align: top\">false</td>\n",
       "        <td style=\"padding-left: 1em; padding-right: 1em; text-align: center; vertical-align: top\">5</td>\n",
       "        <td style=\"padding-left: 1em; padding-right: 1em; text-align: center; vertical-align: top\">2.5</td>\n",
       "        <td style=\"padding-left: 1em; padding-right: 1em; text-align: center; vertical-align: top\">PA</td>\n",
       "        <td style=\"padding-left: 1em; padding-right: 1em; text-align: center; vertical-align: top\">business</td>\n",
       "    </tr>\n",
       "    <tr>\n",
       "        <td style=\"padding-left: 1em; padding-right: 1em; text-align: center; vertical-align: top\">[]</td>\n",
       "        <td style=\"padding-left: 1em; padding-right: 1em; text-align: center; vertical-align: top\">true</td>\n",
       "        <td style=\"padding-left: 1em; padding-right: 1em; text-align: center; vertical-align: top\">5</td>\n",
       "        <td style=\"padding-left: 1em; padding-right: 1em; text-align: center; vertical-align: top\">2.5</td>\n",
       "        <td style=\"padding-left: 1em; padding-right: 1em; text-align: center; vertical-align: top\">PA</td>\n",
       "        <td style=\"padding-left: 1em; padding-right: 1em; text-align: center; vertical-align: top\">business</td>\n",
       "    </tr>\n",
       "    <tr>\n",
       "        <td style=\"padding-left: 1em; padding-right: 1em; text-align: center; vertical-align: top\">[]</td>\n",
       "        <td style=\"padding-left: 1em; padding-right: 1em; text-align: center; vertical-align: top\">true</td>\n",
       "        <td style=\"padding-left: 1em; padding-right: 1em; text-align: center; vertical-align: top\">20</td>\n",
       "        <td style=\"padding-left: 1em; padding-right: 1em; text-align: center; vertical-align: top\">5.0</td>\n",
       "        <td style=\"padding-left: 1em; padding-right: 1em; text-align: center; vertical-align: top\">PA</td>\n",
       "        <td style=\"padding-left: 1em; padding-right: 1em; text-align: center; vertical-align: top\">business</td>\n",
       "    </tr>\n",
       "    <tr>\n",
       "        <td style=\"padding-left: 1em; padding-right: 1em; text-align: center; vertical-align: top\">[]</td>\n",
       "        <td style=\"padding-left: 1em; padding-right: 1em; text-align: center; vertical-align: top\">true</td>\n",
       "        <td style=\"padding-left: 1em; padding-right: 1em; text-align: center; vertical-align: top\">3</td>\n",
       "        <td style=\"padding-left: 1em; padding-right: 1em; text-align: center; vertical-align: top\">2.5</td>\n",
       "        <td style=\"padding-left: 1em; padding-right: 1em; text-align: center; vertical-align: top\">PA</td>\n",
       "        <td style=\"padding-left: 1em; padding-right: 1em; text-align: center; vertical-align: top\">business</td>\n",
       "    </tr>\n",
       "    <tr>\n",
       "        <td style=\"padding-left: 1em; padding-right: 1em; text-align: center; vertical-align: top\">[Greentree]</td>\n",
       "        <td style=\"padding-left: 1em; padding-right: 1em; text-align: center; vertical-align: top\">true</td>\n",
       "        <td style=\"padding-left: 1em; padding-right: 1em; text-align: center; vertical-align: top\">21</td>\n",
       "        <td style=\"padding-left: 1em; padding-right: 1em; text-align: center; vertical-align: top\">4.0</td>\n",
       "        <td style=\"padding-left: 1em; padding-right: 1em; text-align: center; vertical-align: top\">PA</td>\n",
       "        <td style=\"padding-left: 1em; padding-right: 1em; text-align: center; vertical-align: top\">business</td>\n",
       "    </tr>\n",
       "    <tr>\n",
       "        <td style=\"padding-left: 1em; padding-right: 1em; text-align: center; vertical-align: top\">[]</td>\n",
       "        <td style=\"padding-left: 1em; padding-right: 1em; text-align: center; vertical-align: top\">true</td>\n",
       "        <td style=\"padding-left: 1em; padding-right: 1em; text-align: center; vertical-align: top\">7</td>\n",
       "        <td style=\"padding-left: 1em; padding-right: 1em; text-align: center; vertical-align: top\">2.5</td>\n",
       "        <td style=\"padding-left: 1em; padding-right: 1em; text-align: center; vertical-align: top\">PA</td>\n",
       "        <td style=\"padding-left: 1em; padding-right: 1em; text-align: center; vertical-align: top\">business</td>\n",
       "    </tr>\n",
       "    <tr>\n",
       "        <td style=\"padding-left: 1em; padding-right: 1em; text-align: center; vertical-align: top\">[Carnegie]</td>\n",
       "        <td style=\"padding-left: 1em; padding-right: 1em; text-align: center; vertical-align: top\">false</td>\n",
       "        <td style=\"padding-left: 1em; padding-right: 1em; text-align: center; vertical-align: top\">4</td>\n",
       "        <td style=\"padding-left: 1em; padding-right: 1em; text-align: center; vertical-align: top\">4.0</td>\n",
       "        <td style=\"padding-left: 1em; padding-right: 1em; text-align: center; vertical-align: top\">PA</td>\n",
       "        <td style=\"padding-left: 1em; padding-right: 1em; text-align: center; vertical-align: top\">business</td>\n",
       "    </tr>\n",
       "</table>\n",
       "[10 rows x 15 columns]<br/>\n",
       "</div>"
      ],
      "text/plain": [
       "Columns:\n",
       "\tattributes\tdict\n",
       "\tbusiness_id\tstr\n",
       "\tcategories\tlist\n",
       "\tcity\tstr\n",
       "\tfull_address\tstr\n",
       "\thours\tdict\n",
       "\tlatitude\tfloat\n",
       "\tlongitude\tfloat\n",
       "\tname\tstr\n",
       "\tneighborhoods\tlist\n",
       "\topen\tstr\n",
       "\treview_count\tint\n",
       "\tstars\tfloat\n",
       "\tstate\tstr\n",
       "\ttype\tstr\n",
       "\n",
       "Rows: 10\n",
       "\n",
       "Data:\n",
       "+-------------------------------+------------------------+\n",
       "|           attributes          |      business_id       |\n",
       "+-------------------------------+------------------------+\n",
       "| {'Take-out': 'true', 'Driv... | 5UmKMjUEUNdYWqANhGckJw |\n",
       "| {'Happy Hour': 'true', 'Ac... | UsFtqoBl7naz8AVUBZMjQQ |\n",
       "|               {}              | 3eu6MEFlq2Dg7bQh8QbdOg |\n",
       "|   {'Good for Kids': 'true'}   | cE27W9VPgO88Qxe4ol6y_g |\n",
       "| {'Accepts Credit Cards': '... | HZdLhv6COCleJMo7nPl-RA |\n",
       "| {'Alcohol': 'full_bar', 'N... | mVHrayjG3uZ_RLHkLj-AMg |\n",
       "|   {'Good for Kids': 'false'}  | VHYT1qgQw5JvXAlUDhTArA |\n",
       "| {'Alcohol': 'full_bar', 'N... | KayYbHCt-RkbGcPdGOThNg |\n",
       "|               {}              | b12U9TFESStdy7CsTtcOeg |\n",
       "|   {'Good for Kids': 'true'}   | Sktj1eHQFuVa-M4bgnEh8g |\n",
       "+-------------------------------+------------------------+\n",
       "+--------------------------------+-------------+-------------------------------+\n",
       "|           categories           |     city    |          full_address         |\n",
       "+--------------------------------+-------------+-------------------------------+\n",
       "|    [Fast Food, Restaurants]    |  Dravosburg | 4734 Lebanon Church Rd\\nDr... |\n",
       "|          [Nightlife]           |  Dravosburg | 202 McClure St\\nDravosburg... |\n",
       "|   [Auto Repair, Automotive]    |  Dravosburg | 1 Ravine St\\nDravosburg, P... |\n",
       "| [Active Life, Mini Golf, Golf] | Bethel Park | 1530 Hamilton Rd\\nBethel P... |\n",
       "| [Shopping, Home Services, ...  |  Pittsburgh | 301 South Hills Village\\nP... |\n",
       "| [Bars, American (New), Nig...  |    rankin   | 414 Hawkins Ave\\nrankin, P... |\n",
       "| [Active Life, Trainers, Fi...  |  Pittsburgh | 2101 Greentree Rd Ste B201... |\n",
       "| [Bars, American (Tradition...  |   Carnegie  | 141 Hawthorne St\\nGreentre... |\n",
       "| [Auto Repair, Automotive, ...  |   Carnegie  | 718A Hope Hollow Rd\\nCarne... |\n",
       "|    [Active Life, Mini Golf]    |   Carnegie  | 920 Forsythe Rd\\nCarnegie\\... |\n",
       "+--------------------------------+-------------+-------------------------------+\n",
       "+-------------------------------+------------+-------------+\n",
       "|             hours             |  latitude  |  longitude  |\n",
       "+-------------------------------+------------+-------------+\n",
       "| {'Tuesday': {'close': '21:... | 40.3543266 | -79.9007057 |\n",
       "|               {}              | 40.3505527 | -79.8868138 |\n",
       "|               {}              | 40.3509559 |  -79.889059 |\n",
       "|               {}              | 40.3541155 | -80.0146597 |\n",
       "| {'Monday': {'close': '21:0... |  40.35762  |  -80.05998  |\n",
       "| {'Tuesday': {'close': '19:... | 40.4134643 | -79.8802474 |\n",
       "|               {}              | 40.3903858 | -80.0708968 |\n",
       "| {'Monday': {'close': '02:0... | 40.415517  |  -80.067534 |\n",
       "| {'Monday': {'close': '19:0... | 40.394588  | -80.0844539 |\n",
       "|               {}              | 40.4054039 | -80.0762665 |\n",
       "+-------------------------------+------------+-------------+\n",
       "+-------------------------------+---------------+-------+--------------+-------+\n",
       "|              name             | neighborhoods |  open | review_count | stars |\n",
       "+-------------------------------+---------------+-------+--------------+-------+\n",
       "|           Mr Hoagie           |       []      |  true |      4       |  4.5  |\n",
       "|          Clancy's Pub         |       []      |  true |      4       |  3.5  |\n",
       "|        Joe Cislo's Auto       |       []      |  true |      3       |  5.0  |\n",
       "|    Cool Springs Golf Center   |       []      | false |      5       |  2.5  |\n",
       "|            Verizon            |       []      |  true |      5       |  2.5  |\n",
       "|         Emil's Lounge         |       []      |  true |      20      |  5.0  |\n",
       "|       Extreme Fitness 2       |       []      |  true |      3       |  2.5  |\n",
       "|     Alexion's Bar & Grill     |  [Greentree]  |  true |      21      |  4.0  |\n",
       "| Flynn's Tire And Auto Service |       []      |  true |      7       |  2.5  |\n",
       "| Forsythe Miniature Golf & ... |   [Carnegie]  | false |      4       |  4.0  |\n",
       "+-------------------------------+---------------+-------+--------------+-------+\n",
       "+-------+----------+\n",
       "| state |   type   |\n",
       "+-------+----------+\n",
       "|   PA  | business |\n",
       "|   PA  | business |\n",
       "|   PA  | business |\n",
       "|   PA  | business |\n",
       "|   PA  | business |\n",
       "|   PA  | business |\n",
       "|   PA  | business |\n",
       "|   PA  | business |\n",
       "|   PA  | business |\n",
       "|   PA  | business |\n",
       "+-------+----------+\n",
       "[10 rows x 15 columns]"
      ]
     },
     "execution_count": 10,
     "metadata": {},
     "output_type": "execute_result"
    }
   ],
   "source": [
    "bdf.head()"
   ]
  },
  {
   "cell_type": "code",
   "execution_count": 11,
   "metadata": {
    "collapsed": false
   },
   "outputs": [
    {
     "name": "stdout",
     "output_type": "stream",
     "text": [
      "Canvas is accessible via web browser at the URL: http://localhost:53907/index.html\n",
      "Opening Canvas in default web browser.\n"
     ]
    }
   ],
   "source": [
    "bdf.show()"
   ]
  },
  {
   "cell_type": "markdown",
   "metadata": {},
   "source": [
    "### Social Network of Users in Yelp"
   ]
  },
  {
   "cell_type": "code",
   "execution_count": 12,
   "metadata": {
    "collapsed": false
   },
   "outputs": [
    {
     "data": {
      "text/html": [
       "<pre>Finished parsing file /Users/mayankkedia/Documents/Jobs/Dato/yelp_dataset_challenge_academic_dataset/yelp_academic_dataset_user.json</pre>"
      ],
      "text/plain": [
       "Finished parsing file /Users/mayankkedia/Documents/Jobs/Dato/yelp_dataset_challenge_academic_dataset/yelp_academic_dataset_user.json"
      ]
     },
     "metadata": {},
     "output_type": "display_data"
    },
    {
     "data": {
      "text/html": [
       "<pre>Parsing completed. Parsed 100 lines in 1.68613 secs.</pre>"
      ],
      "text/plain": [
       "Parsing completed. Parsed 100 lines in 1.68613 secs."
      ]
     },
     "metadata": {},
     "output_type": "display_data"
    },
    {
     "name": "stdout",
     "output_type": "stream",
     "text": [
      "------------------------------------------------------\n",
      "Inferred types from first 100 line(s) of file as \n",
      "column_type_hints=[dict]\n",
      "If parsing fails due to incorrect types, you can correct\n",
      "the inferred type list above and pass it to read_csv in\n",
      "the column_type_hints argument\n",
      "------------------------------------------------------\n"
     ]
    },
    {
     "data": {
      "text/html": [
       "<pre>Read 116593 lines. Lines per second: 41709.8</pre>"
      ],
      "text/plain": [
       "Read 116593 lines. Lines per second: 41709.8"
      ]
     },
     "metadata": {},
     "output_type": "display_data"
    },
    {
     "data": {
      "text/html": [
       "<pre>Finished parsing file /Users/mayankkedia/Documents/Jobs/Dato/yelp_dataset_challenge_academic_dataset/yelp_academic_dataset_user.json</pre>"
      ],
      "text/plain": [
       "Finished parsing file /Users/mayankkedia/Documents/Jobs/Dato/yelp_dataset_challenge_academic_dataset/yelp_academic_dataset_user.json"
      ]
     },
     "metadata": {},
     "output_type": "display_data"
    },
    {
     "data": {
      "text/html": [
       "<pre>Parsing completed. Parsed 552339 lines in 7.48805 secs.</pre>"
      ],
      "text/plain": [
       "Parsing completed. Parsed 552339 lines in 7.48805 secs."
      ]
     },
     "metadata": {},
     "output_type": "display_data"
    }
   ],
   "source": [
    "users = gl.SFrame.read_json(\"yelp_dataset_challenge_academic_dataset/yelp_academic_dataset_user.json\", orient=\"lines\")"
   ]
  },
  {
   "cell_type": "code",
   "execution_count": 13,
   "metadata": {
    "collapsed": false
   },
   "outputs": [
    {
     "data": {
      "text/html": [
       "<div style=\"max-height:1000px;max-width:1500px;overflow:auto;\"><table frame=\"box\" rules=\"cols\">\n",
       "    <tr>\n",
       "        <th style=\"padding-left: 1em; padding-right: 1em; text-align: center\">average_stars</th>\n",
       "        <th style=\"padding-left: 1em; padding-right: 1em; text-align: center\">compliments</th>\n",
       "        <th style=\"padding-left: 1em; padding-right: 1em; text-align: center\">elite</th>\n",
       "        <th style=\"padding-left: 1em; padding-right: 1em; text-align: center\">fans</th>\n",
       "        <th style=\"padding-left: 1em; padding-right: 1em; text-align: center\">friends</th>\n",
       "    </tr>\n",
       "    <tr>\n",
       "        <td style=\"padding-left: 1em; padding-right: 1em; text-align: center; vertical-align: top\">4.14</td>\n",
       "        <td style=\"padding-left: 1em; padding-right: 1em; text-align: center; vertical-align: top\">{'profile': 8, 'cute':<br>15, 'funny': 11, 'pla ...</td>\n",
       "        <td style=\"padding-left: 1em; padding-right: 1em; text-align: center; vertical-align: top\">[2005, 2006]</td>\n",
       "        <td style=\"padding-left: 1em; padding-right: 1em; text-align: center; vertical-align: top\">70</td>\n",
       "        <td style=\"padding-left: 1em; padding-right: 1em; text-align: center; vertical-align: top\">[rpOyqD_893cqmDAtJLbdog,<br>4U9kSBLuBDU391x6bxU-YA, ...</td>\n",
       "    </tr>\n",
       "    <tr>\n",
       "        <td style=\"padding-left: 1em; padding-right: 1em; text-align: center; vertical-align: top\">3.66</td>\n",
       "        <td style=\"padding-left: 1em; padding-right: 1em; text-align: center; vertical-align: top\">{'profile': 116, 'cute':<br>206, 'funny': 580, ...</td>\n",
       "        <td style=\"padding-left: 1em; padding-right: 1em; text-align: center; vertical-align: top\">[2005, 2006, 2007, 2008,<br>2009, 2010, 2011, 2012, ...</td>\n",
       "        <td style=\"padding-left: 1em; padding-right: 1em; text-align: center; vertical-align: top\">1179</td>\n",
       "        <td style=\"padding-left: 1em; padding-right: 1em; text-align: center; vertical-align: top\">[18kPq7GPye-YQ3LyKyAZPw,<br>4U9kSBLuBDU391x6bxU-YA, ...</td>\n",
       "    </tr>\n",
       "    <tr>\n",
       "        <td style=\"padding-left: 1em; padding-right: 1em; text-align: center; vertical-align: top\">3.6</td>\n",
       "        <td style=\"padding-left: 1em; padding-right: 1em; text-align: center; vertical-align: top\">{'profile': 9, 'cute':<br>23, 'funny': 120, ...</td>\n",
       "        <td style=\"padding-left: 1em; padding-right: 1em; text-align: center; vertical-align: top\">[2005, 2006, 2007, 2008,<br>2009, 2010, 2011, 2012, ...</td>\n",
       "        <td style=\"padding-left: 1em; padding-right: 1em; text-align: center; vertical-align: top\">100</td>\n",
       "        <td style=\"padding-left: 1em; padding-right: 1em; text-align: center; vertical-align: top\">[18kPq7GPye-YQ3LyKyAZPw,<br>rpOyqD_893cqmDAtJLbdog, ...</td>\n",
       "    </tr>\n",
       "    <tr>\n",
       "        <td style=\"padding-left: 1em; padding-right: 1em; text-align: center; vertical-align: top\">4.64</td>\n",
       "        <td style=\"padding-left: 1em; padding-right: 1em; text-align: center; vertical-align: top\">{'cute': 2}</td>\n",
       "        <td style=\"padding-left: 1em; padding-right: 1em; text-align: center; vertical-align: top\">[]</td>\n",
       "        <td style=\"padding-left: 1em; padding-right: 1em; text-align: center; vertical-align: top\">2</td>\n",
       "        <td style=\"padding-left: 1em; padding-right: 1em; text-align: center; vertical-align: top\">[18kPq7GPye-YQ3LyKyAZPw,<br>rpOyqD_893cqmDAtJLbdog, ...</td>\n",
       "    </tr>\n",
       "    <tr>\n",
       "        <td style=\"padding-left: 1em; padding-right: 1em; text-align: center; vertical-align: top\">3.8</td>\n",
       "        <td style=\"padding-left: 1em; padding-right: 1em; text-align: center; vertical-align: top\">{'cute': 2, 'plain': 2,<br>'writer': 2, 'note': 1, ...</td>\n",
       "        <td style=\"padding-left: 1em; padding-right: 1em; text-align: center; vertical-align: top\">[2005]</td>\n",
       "        <td style=\"padding-left: 1em; padding-right: 1em; text-align: center; vertical-align: top\">4</td>\n",
       "        <td style=\"padding-left: 1em; padding-right: 1em; text-align: center; vertical-align: top\">[rpOyqD_893cqmDAtJLbdog,<br>HDQixQ-WZEV0LVPJlIGQeQ, ...</td>\n",
       "    </tr>\n",
       "    <tr>\n",
       "        <td style=\"padding-left: 1em; padding-right: 1em; text-align: center; vertical-align: top\">4.35</td>\n",
       "        <td style=\"padding-left: 1em; padding-right: 1em; text-align: center; vertical-align: top\">{'profile': 231, 'cute':<br>274, 'funny': 1507, ...</td>\n",
       "        <td style=\"padding-left: 1em; padding-right: 1em; text-align: center; vertical-align: top\">[2005, 2006, 2007, 2008,<br>2009, 2010, 2011, 2012, ...</td>\n",
       "        <td style=\"padding-left: 1em; padding-right: 1em; text-align: center; vertical-align: top\">807</td>\n",
       "        <td style=\"padding-left: 1em; padding-right: 1em; text-align: center; vertical-align: top\">[18kPq7GPye-YQ3LyKyAZPw,<br>rpOyqD_893cqmDAtJLbdog, ...</td>\n",
       "    </tr>\n",
       "    <tr>\n",
       "        <td style=\"padding-left: 1em; padding-right: 1em; text-align: center; vertical-align: top\">4.45</td>\n",
       "        <td style=\"padding-left: 1em; padding-right: 1em; text-align: center; vertical-align: top\">{'profile': 2, 'cute': 4,<br>'funny': 2, 'plain': 6, ...</td>\n",
       "        <td style=\"padding-left: 1em; padding-right: 1em; text-align: center; vertical-align: top\">[2005, 2006, 2007]</td>\n",
       "        <td style=\"padding-left: 1em; padding-right: 1em; text-align: center; vertical-align: top\">6</td>\n",
       "        <td style=\"padding-left: 1em; padding-right: 1em; text-align: center; vertical-align: top\">[rpOyqD_893cqmDAtJLbdog,<br>4U9kSBLuBDU391x6bxU-YA, ...</td>\n",
       "    </tr>\n",
       "    <tr>\n",
       "        <td style=\"padding-left: 1em; padding-right: 1em; text-align: center; vertical-align: top\">3.88</td>\n",
       "        <td style=\"padding-left: 1em; padding-right: 1em; text-align: center; vertical-align: top\">{'plain': 5, 'hot': 1,<br>'cool': 1} ...</td>\n",
       "        <td style=\"padding-left: 1em; padding-right: 1em; text-align: center; vertical-align: top\">[2005]</td>\n",
       "        <td style=\"padding-left: 1em; padding-right: 1em; text-align: center; vertical-align: top\">2</td>\n",
       "        <td style=\"padding-left: 1em; padding-right: 1em; text-align: center; vertical-align: top\">[i63u3SdbrLsP4FxiSKP0Zw,<br>lGrDfsaWl9IDUcEeUWyn6A] ...</td>\n",
       "    </tr>\n",
       "    <tr>\n",
       "        <td style=\"padding-left: 1em; padding-right: 1em; text-align: center; vertical-align: top\">3.58</td>\n",
       "        <td style=\"padding-left: 1em; padding-right: 1em; text-align: center; vertical-align: top\">{'profile': 1, 'cute': 1,<br>'funny': 8, 'plain': 5, ...</td>\n",
       "        <td style=\"padding-left: 1em; padding-right: 1em; text-align: center; vertical-align: top\">[]</td>\n",
       "        <td style=\"padding-left: 1em; padding-right: 1em; text-align: center; vertical-align: top\">7</td>\n",
       "        <td style=\"padding-left: 1em; padding-right: 1em; text-align: center; vertical-align: top\">[rpOyqD_893cqmDAtJLbdog,<br>4U9kSBLuBDU391x6bxU-YA, ...</td>\n",
       "    </tr>\n",
       "    <tr>\n",
       "        <td style=\"padding-left: 1em; padding-right: 1em; text-align: center; vertical-align: top\">4.3</td>\n",
       "        <td style=\"padding-left: 1em; padding-right: 1em; text-align: center; vertical-align: top\">{'photos': 1, 'hot': 1,<br>'plain': 2, 'cool': 3} ...</td>\n",
       "        <td style=\"padding-left: 1em; padding-right: 1em; text-align: center; vertical-align: top\">[]</td>\n",
       "        <td style=\"padding-left: 1em; padding-right: 1em; text-align: center; vertical-align: top\">0</td>\n",
       "        <td style=\"padding-left: 1em; padding-right: 1em; text-align: center; vertical-align: top\">[4U9kSBLuBDU391x6bxU-YA,<br>PMgE5Yqv7QL_cTjjInyYIg, ...</td>\n",
       "    </tr>\n",
       "</table>\n",
       "<table frame=\"box\" rules=\"cols\">\n",
       "    <tr>\n",
       "        <th style=\"padding-left: 1em; padding-right: 1em; text-align: center\">name</th>\n",
       "        <th style=\"padding-left: 1em; padding-right: 1em; text-align: center\">review_count</th>\n",
       "        <th style=\"padding-left: 1em; padding-right: 1em; text-align: center\">type</th>\n",
       "        <th style=\"padding-left: 1em; padding-right: 1em; text-align: center\">user_id</th>\n",
       "        <th style=\"padding-left: 1em; padding-right: 1em; text-align: center\">votes</th>\n",
       "        <th style=\"padding-left: 1em; padding-right: 1em; text-align: center\">yelping_since</th>\n",
       "    </tr>\n",
       "    <tr>\n",
       "        <td style=\"padding-left: 1em; padding-right: 1em; text-align: center; vertical-align: top\">Russel</td>\n",
       "        <td style=\"padding-left: 1em; padding-right: 1em; text-align: center; vertical-align: top\">108</td>\n",
       "        <td style=\"padding-left: 1em; padding-right: 1em; text-align: center; vertical-align: top\">user</td>\n",
       "        <td style=\"padding-left: 1em; padding-right: 1em; text-align: center; vertical-align: top\">18kPq7GPye-YQ3LyKyAZPw</td>\n",
       "        <td style=\"padding-left: 1em; padding-right: 1em; text-align: center; vertical-align: top\">{'funny': 167, 'useful':<br>280, 'cool': 245} ...</td>\n",
       "        <td style=\"padding-left: 1em; padding-right: 1em; text-align: center; vertical-align: top\">2004-10</td>\n",
       "    </tr>\n",
       "    <tr>\n",
       "        <td style=\"padding-left: 1em; padding-right: 1em; text-align: center; vertical-align: top\">Jeremy</td>\n",
       "        <td style=\"padding-left: 1em; padding-right: 1em; text-align: center; vertical-align: top\">1274</td>\n",
       "        <td style=\"padding-left: 1em; padding-right: 1em; text-align: center; vertical-align: top\">user</td>\n",
       "        <td style=\"padding-left: 1em; padding-right: 1em; text-align: center; vertical-align: top\">rpOyqD_893cqmDAtJLbdog</td>\n",
       "        <td style=\"padding-left: 1em; padding-right: 1em; text-align: center; vertical-align: top\">{'funny': 7681, 'useful':<br>14199, 'cool': 11093} ...</td>\n",
       "        <td style=\"padding-left: 1em; padding-right: 1em; text-align: center; vertical-align: top\">2004-10</td>\n",
       "    </tr>\n",
       "    <tr>\n",
       "        <td style=\"padding-left: 1em; padding-right: 1em; text-align: center; vertical-align: top\">Michael</td>\n",
       "        <td style=\"padding-left: 1em; padding-right: 1em; text-align: center; vertical-align: top\">442</td>\n",
       "        <td style=\"padding-left: 1em; padding-right: 1em; text-align: center; vertical-align: top\">user</td>\n",
       "        <td style=\"padding-left: 1em; padding-right: 1em; text-align: center; vertical-align: top\">4U9kSBLuBDU391x6bxU-YA</td>\n",
       "        <td style=\"padding-left: 1em; padding-right: 1em; text-align: center; vertical-align: top\">{'funny': 908, 'useful':<br>1483, 'cool': 732} ...</td>\n",
       "        <td style=\"padding-left: 1em; padding-right: 1em; text-align: center; vertical-align: top\">2004-10</td>\n",
       "    </tr>\n",
       "    <tr>\n",
       "        <td style=\"padding-left: 1em; padding-right: 1em; text-align: center; vertical-align: top\">Ken</td>\n",
       "        <td style=\"padding-left: 1em; padding-right: 1em; text-align: center; vertical-align: top\">11</td>\n",
       "        <td style=\"padding-left: 1em; padding-right: 1em; text-align: center; vertical-align: top\">user</td>\n",
       "        <td style=\"padding-left: 1em; padding-right: 1em; text-align: center; vertical-align: top\">fHtTaujcyKvXglE33Z5yIw</td>\n",
       "        <td style=\"padding-left: 1em; padding-right: 1em; text-align: center; vertical-align: top\">{'funny': 1, 'useful':<br>11, 'cool': 5} ...</td>\n",
       "        <td style=\"padding-left: 1em; padding-right: 1em; text-align: center; vertical-align: top\">2004-10</td>\n",
       "    </tr>\n",
       "    <tr>\n",
       "        <td style=\"padding-left: 1em; padding-right: 1em; text-align: center; vertical-align: top\">Katherine</td>\n",
       "        <td style=\"padding-left: 1em; padding-right: 1em; text-align: center; vertical-align: top\">66</td>\n",
       "        <td style=\"padding-left: 1em; padding-right: 1em; text-align: center; vertical-align: top\">user</td>\n",
       "        <td style=\"padding-left: 1em; padding-right: 1em; text-align: center; vertical-align: top\">SIBCL7HBkrP4llolm4SC2A</td>\n",
       "        <td style=\"padding-left: 1em; padding-right: 1em; text-align: center; vertical-align: top\">{'funny': 11, 'useful':<br>34, 'cool': 13} ...</td>\n",
       "        <td style=\"padding-left: 1em; padding-right: 1em; text-align: center; vertical-align: top\">2004-10</td>\n",
       "    </tr>\n",
       "    <tr>\n",
       "        <td style=\"padding-left: 1em; padding-right: 1em; text-align: center; vertical-align: top\">Joan</td>\n",
       "        <td style=\"padding-left: 1em; padding-right: 1em; text-align: center; vertical-align: top\">1611</td>\n",
       "        <td style=\"padding-left: 1em; padding-right: 1em; text-align: center; vertical-align: top\">user</td>\n",
       "        <td style=\"padding-left: 1em; padding-right: 1em; text-align: center; vertical-align: top\">8J4IIYcqBlFch8T90N923A</td>\n",
       "        <td style=\"padding-left: 1em; padding-right: 1em; text-align: center; vertical-align: top\">{'funny': 13010,<br>'useful': 17705, 'cool': ...</td>\n",
       "        <td style=\"padding-left: 1em; padding-right: 1em; text-align: center; vertical-align: top\">2004-10</td>\n",
       "    </tr>\n",
       "    <tr>\n",
       "        <td style=\"padding-left: 1em; padding-right: 1em; text-align: center; vertical-align: top\">George</td>\n",
       "        <td style=\"padding-left: 1em; padding-right: 1em; text-align: center; vertical-align: top\">55</td>\n",
       "        <td style=\"padding-left: 1em; padding-right: 1em; text-align: center; vertical-align: top\">user</td>\n",
       "        <td style=\"padding-left: 1em; padding-right: 1em; text-align: center; vertical-align: top\">ysYmC-ufbdmVEX9yAv-VEQ</td>\n",
       "        <td style=\"padding-left: 1em; padding-right: 1em; text-align: center; vertical-align: top\">{'funny': 35, 'useful':<br>39, 'cool': 25} ...</td>\n",
       "        <td style=\"padding-left: 1em; padding-right: 1em; text-align: center; vertical-align: top\">2004-10</td>\n",
       "    </tr>\n",
       "    <tr>\n",
       "        <td style=\"padding-left: 1em; padding-right: 1em; text-align: center; vertical-align: top\">Mary</td>\n",
       "        <td style=\"padding-left: 1em; padding-right: 1em; text-align: center; vertical-align: top\">60</td>\n",
       "        <td style=\"padding-left: 1em; padding-right: 1em; text-align: center; vertical-align: top\">user</td>\n",
       "        <td style=\"padding-left: 1em; padding-right: 1em; text-align: center; vertical-align: top\">WPOKvkacSKHx_bIG1alFiA</td>\n",
       "        <td style=\"padding-left: 1em; padding-right: 1em; text-align: center; vertical-align: top\">{'funny': 32, 'useful':<br>131, 'cool': 34} ...</td>\n",
       "        <td style=\"padding-left: 1em; padding-right: 1em; text-align: center; vertical-align: top\">2004-10</td>\n",
       "    </tr>\n",
       "    <tr>\n",
       "        <td style=\"padding-left: 1em; padding-right: 1em; text-align: center; vertical-align: top\">Nader</td>\n",
       "        <td style=\"padding-left: 1em; padding-right: 1em; text-align: center; vertical-align: top\">101</td>\n",
       "        <td style=\"padding-left: 1em; padding-right: 1em; text-align: center; vertical-align: top\">user</td>\n",
       "        <td style=\"padding-left: 1em; padding-right: 1em; text-align: center; vertical-align: top\">UTS9XcT14H2ZscRIf0MYHQ</td>\n",
       "        <td style=\"padding-left: 1em; padding-right: 1em; text-align: center; vertical-align: top\">{'funny': 53, 'useful':<br>243, 'cool': 49} ...</td>\n",
       "        <td style=\"padding-left: 1em; padding-right: 1em; text-align: center; vertical-align: top\">2004-10</td>\n",
       "    </tr>\n",
       "    <tr>\n",
       "        <td style=\"padding-left: 1em; padding-right: 1em; text-align: center; vertical-align: top\">Joseph</td>\n",
       "        <td style=\"padding-left: 1em; padding-right: 1em; text-align: center; vertical-align: top\">20</td>\n",
       "        <td style=\"padding-left: 1em; padding-right: 1em; text-align: center; vertical-align: top\">user</td>\n",
       "        <td style=\"padding-left: 1em; padding-right: 1em; text-align: center; vertical-align: top\">qL7Astun3i7qwr2IL5iowA</td>\n",
       "        <td style=\"padding-left: 1em; padding-right: 1em; text-align: center; vertical-align: top\">{'funny': 6, 'useful':<br>30, 'cool': 15} ...</td>\n",
       "        <td style=\"padding-left: 1em; padding-right: 1em; text-align: center; vertical-align: top\">2004-10</td>\n",
       "    </tr>\n",
       "</table>\n",
       "[10 rows x 11 columns]<br/>\n",
       "</div>"
      ],
      "text/plain": [
       "Columns:\n",
       "\taverage_stars\tfloat\n",
       "\tcompliments\tdict\n",
       "\telite\tlist\n",
       "\tfans\tint\n",
       "\tfriends\tlist\n",
       "\tname\tstr\n",
       "\treview_count\tint\n",
       "\ttype\tstr\n",
       "\tuser_id\tstr\n",
       "\tvotes\tdict\n",
       "\tyelping_since\tstr\n",
       "\n",
       "Rows: 10\n",
       "\n",
       "Data:\n",
       "+---------------+-------------------------------+-------------------------------+\n",
       "| average_stars |          compliments          |             elite             |\n",
       "+---------------+-------------------------------+-------------------------------+\n",
       "|      4.14     | {'profile': 8, 'cute': 15,... |          [2005, 2006]         |\n",
       "|      3.66     | {'profile': 116, 'cute': 2... | [2005, 2006, 2007, 2008, 2... |\n",
       "|      3.6      | {'profile': 9, 'cute': 23,... | [2005, 2006, 2007, 2008, 2... |\n",
       "|      4.64     |          {'cute': 2}          |               []              |\n",
       "|      3.8      | {'cute': 2, 'plain': 2, 'w... |             [2005]            |\n",
       "|      4.35     | {'profile': 231, 'cute': 2... | [2005, 2006, 2007, 2008, 2... |\n",
       "|      4.45     | {'profile': 2, 'cute': 4, ... |       [2005, 2006, 2007]      |\n",
       "|      3.88     | {'plain': 5, 'hot': 1, 'co... |             [2005]            |\n",
       "|      3.58     | {'profile': 1, 'cute': 1, ... |               []              |\n",
       "|      4.3      | {'photos': 1, 'hot': 1, 'p... |               []              |\n",
       "+---------------+-------------------------------+-------------------------------+\n",
       "+------+-------------------------------+-----------+--------------+------+\n",
       "| fans |            friends            |    name   | review_count | type |\n",
       "+------+-------------------------------+-----------+--------------+------+\n",
       "|  70  | [rpOyqD_893cqmDAtJLbdog, 4... |   Russel  |     108      | user |\n",
       "| 1179 | [18kPq7GPye-YQ3LyKyAZPw, 4... |   Jeremy  |     1274     | user |\n",
       "| 100  | [18kPq7GPye-YQ3LyKyAZPw, r... |  Michael  |     442      | user |\n",
       "|  2   | [18kPq7GPye-YQ3LyKyAZPw, r... |    Ken    |      11      | user |\n",
       "|  4   | [rpOyqD_893cqmDAtJLbdog, H... | Katherine |      66      | user |\n",
       "| 807  | [18kPq7GPye-YQ3LyKyAZPw, r... |    Joan   |     1611     | user |\n",
       "|  6   | [rpOyqD_893cqmDAtJLbdog, 4... |   George  |      55      | user |\n",
       "|  2   | [i63u3SdbrLsP4FxiSKP0Zw, l... |    Mary   |      60      | user |\n",
       "|  7   | [rpOyqD_893cqmDAtJLbdog, 4... |   Nader   |     101      | user |\n",
       "|  0   | [4U9kSBLuBDU391x6bxU-YA, P... |   Joseph  |      20      | user |\n",
       "+------+-------------------------------+-----------+--------------+------+\n",
       "+------------------------+-------------------------------+---------------+\n",
       "|        user_id         |             votes             | yelping_since |\n",
       "+------------------------+-------------------------------+---------------+\n",
       "| 18kPq7GPye-YQ3LyKyAZPw | {'funny': 167, 'useful': 2... |    2004-10    |\n",
       "| rpOyqD_893cqmDAtJLbdog | {'funny': 7681, 'useful': ... |    2004-10    |\n",
       "| 4U9kSBLuBDU391x6bxU-YA | {'funny': 908, 'useful': 1... |    2004-10    |\n",
       "| fHtTaujcyKvXglE33Z5yIw | {'funny': 1, 'useful': 11,... |    2004-10    |\n",
       "| SIBCL7HBkrP4llolm4SC2A | {'funny': 11, 'useful': 34... |    2004-10    |\n",
       "| 8J4IIYcqBlFch8T90N923A | {'funny': 13010, 'useful':... |    2004-10    |\n",
       "| ysYmC-ufbdmVEX9yAv-VEQ | {'funny': 35, 'useful': 39... |    2004-10    |\n",
       "| WPOKvkacSKHx_bIG1alFiA | {'funny': 32, 'useful': 13... |    2004-10    |\n",
       "| UTS9XcT14H2ZscRIf0MYHQ | {'funny': 53, 'useful': 24... |    2004-10    |\n",
       "| qL7Astun3i7qwr2IL5iowA | {'funny': 6, 'useful': 30,... |    2004-10    |\n",
       "+------------------------+-------------------------------+---------------+\n",
       "[10 rows x 11 columns]"
      ]
     },
     "execution_count": 13,
     "metadata": {},
     "output_type": "execute_result"
    }
   ],
   "source": [
    "users.head()"
   ]
  },
  {
   "cell_type": "code",
   "execution_count": 37,
   "metadata": {
    "collapsed": false
   },
   "outputs": [],
   "source": [
    "edges = users.flat_map(column_names=[\"user_id\", \"friend_id\"], fn=lambda x: [[x['user_id'], i] for i in x['friends']])"
   ]
  },
  {
   "cell_type": "code",
   "execution_count": 40,
   "metadata": {
    "collapsed": false
   },
   "outputs": [
    {
     "name": "stdout",
     "output_type": "stream",
     "text": [
      "Number of edges 3563817\n",
      "Number of users 552339\n"
     ]
    }
   ],
   "source": [
    "print \"Number of edges {}\".format(len(edges))\n",
    "print \"Number of users {}\".format(len(users))"
   ]
  },
  {
   "cell_type": "code",
   "execution_count": 41,
   "metadata": {
    "collapsed": true
   },
   "outputs": [],
   "source": [
    "del users['friends']"
   ]
  },
  {
   "cell_type": "code",
   "execution_count": 43,
   "metadata": {
    "collapsed": false
   },
   "outputs": [],
   "source": [
    "uf_graph = gl.SGraph(users, edges, 'user_id', 'user_id', 'friend_id')"
   ]
  },
  {
   "cell_type": "code",
   "execution_count": 45,
   "metadata": {
    "collapsed": true
   },
   "outputs": [],
   "source": [
    "edges.save('yelp_dataset_challenge_academic_dataset/edges')\n",
    "users.save('yelp_dataset_challenge_academic_dataset/users')"
   ]
  },
  {
   "cell_type": "code",
   "execution_count": 47,
   "metadata": {
    "collapsed": false
   },
   "outputs": [
    {
     "data": {
      "text/plain": [
       "{'num_edges': 3563817, 'num_vertices': 552339}"
      ]
     },
     "execution_count": 47,
     "metadata": {},
     "output_type": "execute_result"
    }
   ],
   "source": [
    "uf_graph.summary()"
   ]
  },
  {
   "cell_type": "code",
   "execution_count": 48,
   "metadata": {
    "collapsed": false
   },
   "outputs": [
    {
     "data": {
      "text/html": [
       "<pre>+-----------------------------+</pre>"
      ],
      "text/plain": [
       "+-----------------------------+"
      ]
     },
     "metadata": {},
     "output_type": "display_data"
    },
    {
     "data": {
      "text/html": [
       "<pre>| Number of components merged |</pre>"
      ],
      "text/plain": [
       "| Number of components merged |"
      ]
     },
     "metadata": {},
     "output_type": "display_data"
    },
    {
     "data": {
      "text/html": [
       "<pre>+-----------------------------+</pre>"
      ],
      "text/plain": [
       "+-----------------------------+"
      ]
     },
     "metadata": {},
     "output_type": "display_data"
    },
    {
     "data": {
      "text/html": [
       "<pre>| 711082                      |</pre>"
      ],
      "text/plain": [
       "| 711082                      |"
      ]
     },
     "metadata": {},
     "output_type": "display_data"
    },
    {
     "data": {
      "text/html": [
       "<pre>| 0                           |</pre>"
      ],
      "text/plain": [
       "| 0                           |"
      ]
     },
     "metadata": {},
     "output_type": "display_data"
    },
    {
     "data": {
      "text/html": [
       "<pre>+-----------------------------+</pre>"
      ],
      "text/plain": [
       "+-----------------------------+"
      ]
     },
     "metadata": {},
     "output_type": "display_data"
    }
   ],
   "source": [
    "cc = gl.connected_components.create(uf_graph)"
   ]
  },
  {
   "cell_type": "code",
   "execution_count": 49,
   "metadata": {
    "collapsed": false
   },
   "outputs": [
    {
     "name": "stdout",
     "output_type": "stream",
     "text": [
      "Class                                   : ConnectedComponentsModel\n",
      "\n",
      "Graph\n",
      "-----\n",
      "num_edges                               : 3563817\n",
      "num_vertices                            : 552339\n",
      "\n",
      "Results\n",
      "-------\n",
      "graph                                   : SGraph. See m['graph']\n",
      "component size                          : SFrame. See m['component_size']\n",
      "number of connected components          : 306530\n",
      "vertex component id                     : SFrame. See m['component_id']\n",
      "\n",
      "Metrics\n",
      "-------\n",
      "training time (secs)                    : 2.0241\n",
      "\n",
      "Queryable Fields\n",
      "----------------\n",
      "graph                                   : A new SGraph with the color id as a vertex property\n",
      "component_id                            : An SFrame with each vertex's component id\n",
      "component_size                          : An SFrame with the size of each component\n",
      "training_time                           : Total training time of the model\n",
      "\n"
     ]
    }
   ],
   "source": [
    "cc.summary()"
   ]
  },
  {
   "cell_type": "markdown",
   "metadata": {},
   "source": [
    "### Review Analysis"
   ]
  },
  {
   "cell_type": "code",
   "execution_count": 50,
   "metadata": {
    "collapsed": false
   },
   "outputs": [
    {
     "data": {
      "text/html": [
       "<pre>Finished parsing file /Users/mayankkedia/Documents/Jobs/Dato/yelp_dataset_challenge_academic_dataset/yelp_academic_dataset_review.json</pre>"
      ],
      "text/plain": [
       "Finished parsing file /Users/mayankkedia/Documents/Jobs/Dato/yelp_dataset_challenge_academic_dataset/yelp_academic_dataset_review.json"
      ]
     },
     "metadata": {},
     "output_type": "display_data"
    },
    {
     "data": {
      "text/html": [
       "<pre>Parsing completed. Parsed 100 lines in 0.85405 secs.</pre>"
      ],
      "text/plain": [
       "Parsing completed. Parsed 100 lines in 0.85405 secs."
      ]
     },
     "metadata": {},
     "output_type": "display_data"
    },
    {
     "name": "stdout",
     "output_type": "stream",
     "text": [
      "------------------------------------------------------\n",
      "Inferred types from first 100 line(s) of file as \n",
      "column_type_hints=[dict]\n",
      "If parsing fails due to incorrect types, you can correct\n",
      "the inferred type list above and pass it to read_csv in\n",
      "the column_type_hints argument\n",
      "------------------------------------------------------\n"
     ]
    },
    {
     "data": {
      "text/html": [
       "<pre>Read 59936 lines. Lines per second: 34042.7</pre>"
      ],
      "text/plain": [
       "Read 59936 lines. Lines per second: 34042.7"
      ]
     },
     "metadata": {},
     "output_type": "display_data"
    },
    {
     "data": {
      "text/html": [
       "<pre>Read 427087 lines. Lines per second: 56029.7</pre>"
      ],
      "text/plain": [
       "Read 427087 lines. Lines per second: 56029.7"
      ]
     },
     "metadata": {},
     "output_type": "display_data"
    },
    {
     "data": {
      "text/html": [
       "<pre>Read 707927 lines. Lines per second: 55034.1</pre>"
      ],
      "text/plain": [
       "Read 707927 lines. Lines per second: 55034.1"
      ]
     },
     "metadata": {},
     "output_type": "display_data"
    },
    {
     "data": {
      "text/html": [
       "<pre>Read 1007811 lines. Lines per second: 56499.1</pre>"
      ],
      "text/plain": [
       "Read 1007811 lines. Lines per second: 56499.1"
      ]
     },
     "metadata": {},
     "output_type": "display_data"
    },
    {
     "data": {
      "text/html": [
       "<pre>Read 1362395 lines. Lines per second: 57825.6</pre>"
      ],
      "text/plain": [
       "Read 1362395 lines. Lines per second: 57825.6"
      ]
     },
     "metadata": {},
     "output_type": "display_data"
    },
    {
     "data": {
      "text/html": [
       "<pre>Read 1658187 lines. Lines per second: 58075.6</pre>"
      ],
      "text/plain": [
       "Read 1658187 lines. Lines per second: 58075.6"
      ]
     },
     "metadata": {},
     "output_type": "display_data"
    },
    {
     "data": {
      "text/html": [
       "<pre>Read 1967297 lines. Lines per second: 56937.5</pre>"
      ],
      "text/plain": [
       "Read 1967297 lines. Lines per second: 56937.5"
      ]
     },
     "metadata": {},
     "output_type": "display_data"
    },
    {
     "data": {
      "text/html": [
       "<pre>Finished parsing file /Users/mayankkedia/Documents/Jobs/Dato/yelp_dataset_challenge_academic_dataset/yelp_academic_dataset_review.json</pre>"
      ],
      "text/plain": [
       "Finished parsing file /Users/mayankkedia/Documents/Jobs/Dato/yelp_dataset_challenge_academic_dataset/yelp_academic_dataset_review.json"
      ]
     },
     "metadata": {},
     "output_type": "display_data"
    },
    {
     "data": {
      "text/html": [
       "<pre>Parsing completed. Parsed 2225213 lines in 38.7666 secs.</pre>"
      ],
      "text/plain": [
       "Parsing completed. Parsed 2225213 lines in 38.7666 secs."
      ]
     },
     "metadata": {},
     "output_type": "display_data"
    }
   ],
   "source": [
    "reviews = gl.SFrame.read_json(\"yelp_dataset_challenge_academic_dataset/yelp_academic_dataset_review.json\", orient=\"lines\")"
   ]
  },
  {
   "cell_type": "code",
   "execution_count": 53,
   "metadata": {
    "collapsed": false
   },
   "outputs": [
    {
     "name": "stdout",
     "output_type": "stream",
     "text": [
      "Number of reviews are 2225213\n"
     ]
    }
   ],
   "source": [
    "print \"Number of reviews are {}\".format(len(reviews))"
   ]
  },
  {
   "cell_type": "code",
   "execution_count": 55,
   "metadata": {
    "collapsed": false
   },
   "outputs": [],
   "source": [
    "reviews.save(\"yelp_dataset_challenge_academic_dataset/reviews\")"
   ]
  },
  {
   "cell_type": "code",
   "execution_count": 56,
   "metadata": {
    "collapsed": false
   },
   "outputs": [
    {
     "data": {
      "text/plain": [
       "<bound method SFrame.column_names of Columns:\n",
       "\tbusiness_id\tstr\n",
       "\tdate\tstr\n",
       "\treview_id\tstr\n",
       "\tstars\tint\n",
       "\ttext\tstr\n",
       "\ttype\tstr\n",
       "\tuser_id\tstr\n",
       "\tvotes\tdict\n",
       "\n",
       "Rows: 2225213\n",
       "\n",
       "Data:\n",
       "+------------------------+------------+------------------------+-------+\n",
       "|      business_id       |    date    |       review_id        | stars |\n",
       "+------------------------+------------+------------------------+-------+\n",
       "| 5UmKMjUEUNdYWqANhGckJw | 2012-08-01 | Ya85v4eqdd6k9Od8HbQjyA |   4   |\n",
       "| 5UmKMjUEUNdYWqANhGckJw | 2014-02-13 | KPvLNJ21_4wbYNctrOwWdQ |   5   |\n",
       "| 5UmKMjUEUNdYWqANhGckJw | 2015-10-31 | fFSoGV46Yxuwbr3fHNuZig |   5   |\n",
       "| UsFtqoBl7naz8AVUBZMjQQ | 2013-11-08 | Di3exaUCFNw1V4kSNW5pgA |   5   |\n",
       "| UsFtqoBl7naz8AVUBZMjQQ | 2014-03-29 | 0Lua2-PbqEQMjD9r89-asw |   3   |\n",
       "| UsFtqoBl7naz8AVUBZMjQQ | 2014-10-29 | 7N9j5YbBHBW6qguE5DAeyA |   1   |\n",
       "| UsFtqoBl7naz8AVUBZMjQQ | 2014-11-28 | mjCJR33jvUNt41iJCxDU_g |   4   |\n",
       "| 3eu6MEFlq2Dg7bQh8QbdOg | 2014-02-27 | Ieh3kfZ-5J9pLju4JiQDvQ |   5   |\n",
       "| 3eu6MEFlq2Dg7bQh8QbdOg | 2015-06-16 | PU28OoBSHpZLkYGCmNxlmg |   5   |\n",
       "| cE27W9VPgO88Qxe4ol6y_g | 2012-08-19 | XsA6AojkWjOHA4FmuAb8XQ |   3   |\n",
       "+------------------------+------------+------------------------+-------+\n",
       "+-------------------------------+--------+------------------------+\n",
       "|              text             |  type  |        user_id         |\n",
       "+-------------------------------+--------+------------------------+\n",
       "| Mr Hoagie is an institutio... | review | PUFPaY9KxDAcGqfsorJp3Q |\n",
       "| Excellent food. Superb cus... | review | Iu6AxdBYGR4A0wspR9BYHA |\n",
       "| Yes this place is a little... | review | auESFwWvW42h6alXgFxAXQ |\n",
       "| All the food is great here... | review | uK8tzraOp4M5u3uYrqIBXg |\n",
       "| We checked this place out ... | review | I_47G-R2_egp7ME5u_ltew |\n",
       "| Wing sauce is like water. ... | review | PP_xoMSYlGr2pb67BbqBdA |\n",
       "| Cold cheap beer. Good bar ... | review | JPPhyFE-UE453zA6K0TVgw |\n",
       "| I highly recommend this pl... | review | 2d5HeDvZTDUNVog_WuUpSg |\n",
       "| I am a big believer in fir... | review | BShxMIUwaJS378xcrz4Nmg |\n",
       "| Decent range somewhat clos... | review | fhNxoMwwTipzjO8A9LFe8Q |\n",
       "+-------------------------------+--------+------------------------+\n",
       "+-------------------------------+\n",
       "|             votes             |\n",
       "+-------------------------------+\n",
       "| {'funny': 0, 'useful': 0, ... |\n",
       "| {'funny': 0, 'useful': 0, ... |\n",
       "| {'funny': 0, 'useful': 0, ... |\n",
       "| {'funny': 0, 'useful': 0, ... |\n",
       "| {'funny': 0, 'useful': 0, ... |\n",
       "| {'funny': 0, 'useful': 0, ... |\n",
       "| {'funny': 0, 'useful': 0, ... |\n",
       "| {'funny': 0, 'useful': 0, ... |\n",
       "| {'funny': 0, 'useful': 0, ... |\n",
       "| {'funny': 0, 'useful': 1, ... |\n",
       "+-------------------------------+\n",
       "[2225213 rows x 8 columns]\n",
       "Note: Only the head of the SFrame is printed.\n",
       "You can use print_rows(num_rows=m, num_columns=n) to print more rows and columns.>"
      ]
     },
     "execution_count": 56,
     "metadata": {},
     "output_type": "execute_result"
    }
   ],
   "source": [
    "reviews.column_names"
   ]
  },
  {
   "cell_type": "code",
   "execution_count": 59,
   "metadata": {
    "collapsed": false
   },
   "outputs": [],
   "source": [
    "sm = gl.sentiment_analysis.create(reviews, 'stars', ['text'])\n"
   ]
  },
  {
   "cell_type": "code",
   "execution_count": 61,
   "metadata": {
    "collapsed": false
   },
   "outputs": [
    {
     "name": "stdout",
     "output_type": "stream",
     "text": [
      "Class                         : LogisticClassifier\n",
      "\n",
      "Schema\n",
      "------\n",
      "Number of coefficients        : 1798239\n",
      "Number of examples            : 1846160\n",
      "Number of classes             : 2\n",
      "Number of feature columns     : 1\n",
      "Number of unpacked features   : 1798238\n",
      "\n",
      "Hyperparameters\n",
      "---------------\n",
      "L1 penalty                    : 0.0\n",
      "L2 penalty                    : 0.2\n",
      "\n",
      "Training Summary\n",
      "----------------\n",
      "Solver                        : lbfgs\n",
      "Solver iterations             : 10\n",
      "Solver status                 : TERMINATED: Iteration limit reached.\n",
      "Training time (sec)           : 130.3352\n",
      "\n",
      "Settings\n",
      "--------\n",
      "Log-likelihood                : 102265.7832\n",
      "\n",
      "Highest Positive Coefficients\n",
      "-----------------------------\n",
      "text[\"issues]                 : 22.0132\n",
      "text[streaming/gaming.]       : 18.1088\n",
      "text[erbi]                    : 14.9552\n",
      "text[resurfacing!]            : 13.9053\n",
      "text[180!!!]                  : 13.4644\n",
      "\n",
      "Lowest Negative Coefficients\n",
      "----------------------------\n",
      "text[historical/cozy/older]   : -21.039\n",
      "text[instructs)]              : -15.5122\n",
      "text[directions....just]      : -15.3112\n",
      "text[slices\").]               : -14.5836\n",
      "text[seaweed/rice).]          : -14.5276\n",
      "\n"
     ]
    }
   ],
   "source": [
    "sm.summary()"
   ]
  },
  {
   "cell_type": "code",
   "execution_count": 62,
   "metadata": {
    "collapsed": false
   },
   "outputs": [
    {
     "data": {
      "text/html": [
       "<div style=\"max-height:1000px;max-width:1500px;overflow:auto;\"><table frame=\"box\" rules=\"cols\">\n",
       "    <tr>\n",
       "        <th style=\"padding-left: 1em; padding-right: 1em; text-align: center\">business_id</th>\n",
       "        <th style=\"padding-left: 1em; padding-right: 1em; text-align: center\">date</th>\n",
       "        <th style=\"padding-left: 1em; padding-right: 1em; text-align: center\">review_id</th>\n",
       "        <th style=\"padding-left: 1em; padding-right: 1em; text-align: center\">stars</th>\n",
       "        <th style=\"padding-left: 1em; padding-right: 1em; text-align: center\">text</th>\n",
       "        <th style=\"padding-left: 1em; padding-right: 1em; text-align: center\">type</th>\n",
       "    </tr>\n",
       "    <tr>\n",
       "        <td style=\"padding-left: 1em; padding-right: 1em; text-align: center; vertical-align: top\">5UmKMjUEUNdYWqANhGckJw</td>\n",
       "        <td style=\"padding-left: 1em; padding-right: 1em; text-align: center; vertical-align: top\">2012-08-01</td>\n",
       "        <td style=\"padding-left: 1em; padding-right: 1em; text-align: center; vertical-align: top\">Ya85v4eqdd6k9Od8HbQjyA</td>\n",
       "        <td style=\"padding-left: 1em; padding-right: 1em; text-align: center; vertical-align: top\">4</td>\n",
       "        <td style=\"padding-left: 1em; padding-right: 1em; text-align: center; vertical-align: top\">Mr Hoagie is an<br>institution. Walking in, ...</td>\n",
       "        <td style=\"padding-left: 1em; padding-right: 1em; text-align: center; vertical-align: top\">review</td>\n",
       "    </tr>\n",
       "    <tr>\n",
       "        <td style=\"padding-left: 1em; padding-right: 1em; text-align: center; vertical-align: top\">5UmKMjUEUNdYWqANhGckJw</td>\n",
       "        <td style=\"padding-left: 1em; padding-right: 1em; text-align: center; vertical-align: top\">2014-02-13</td>\n",
       "        <td style=\"padding-left: 1em; padding-right: 1em; text-align: center; vertical-align: top\">KPvLNJ21_4wbYNctrOwWdQ</td>\n",
       "        <td style=\"padding-left: 1em; padding-right: 1em; text-align: center; vertical-align: top\">5</td>\n",
       "        <td style=\"padding-left: 1em; padding-right: 1em; text-align: center; vertical-align: top\">Excellent food. Superb<br>customer service. I miss ...</td>\n",
       "        <td style=\"padding-left: 1em; padding-right: 1em; text-align: center; vertical-align: top\">review</td>\n",
       "    </tr>\n",
       "    <tr>\n",
       "        <td style=\"padding-left: 1em; padding-right: 1em; text-align: center; vertical-align: top\">5UmKMjUEUNdYWqANhGckJw</td>\n",
       "        <td style=\"padding-left: 1em; padding-right: 1em; text-align: center; vertical-align: top\">2015-10-31</td>\n",
       "        <td style=\"padding-left: 1em; padding-right: 1em; text-align: center; vertical-align: top\">fFSoGV46Yxuwbr3fHNuZig</td>\n",
       "        <td style=\"padding-left: 1em; padding-right: 1em; text-align: center; vertical-align: top\">5</td>\n",
       "        <td style=\"padding-left: 1em; padding-right: 1em; text-align: center; vertical-align: top\">Yes this place is a<br>little out dated and not ...</td>\n",
       "        <td style=\"padding-left: 1em; padding-right: 1em; text-align: center; vertical-align: top\">review</td>\n",
       "    </tr>\n",
       "    <tr>\n",
       "        <td style=\"padding-left: 1em; padding-right: 1em; text-align: center; vertical-align: top\">UsFtqoBl7naz8AVUBZMjQQ</td>\n",
       "        <td style=\"padding-left: 1em; padding-right: 1em; text-align: center; vertical-align: top\">2013-11-08</td>\n",
       "        <td style=\"padding-left: 1em; padding-right: 1em; text-align: center; vertical-align: top\">Di3exaUCFNw1V4kSNW5pgA</td>\n",
       "        <td style=\"padding-left: 1em; padding-right: 1em; text-align: center; vertical-align: top\">5</td>\n",
       "        <td style=\"padding-left: 1em; padding-right: 1em; text-align: center; vertical-align: top\">All the food is great<br>here. But the best thing ...</td>\n",
       "        <td style=\"padding-left: 1em; padding-right: 1em; text-align: center; vertical-align: top\">review</td>\n",
       "    </tr>\n",
       "    <tr>\n",
       "        <td style=\"padding-left: 1em; padding-right: 1em; text-align: center; vertical-align: top\">UsFtqoBl7naz8AVUBZMjQQ</td>\n",
       "        <td style=\"padding-left: 1em; padding-right: 1em; text-align: center; vertical-align: top\">2014-03-29</td>\n",
       "        <td style=\"padding-left: 1em; padding-right: 1em; text-align: center; vertical-align: top\">0Lua2-PbqEQMjD9r89-asw</td>\n",
       "        <td style=\"padding-left: 1em; padding-right: 1em; text-align: center; vertical-align: top\">3</td>\n",
       "        <td style=\"padding-left: 1em; padding-right: 1em; text-align: center; vertical-align: top\">We checked this place out<br>this past Monday for ...</td>\n",
       "        <td style=\"padding-left: 1em; padding-right: 1em; text-align: center; vertical-align: top\">review</td>\n",
       "    </tr>\n",
       "    <tr>\n",
       "        <td style=\"padding-left: 1em; padding-right: 1em; text-align: center; vertical-align: top\">UsFtqoBl7naz8AVUBZMjQQ</td>\n",
       "        <td style=\"padding-left: 1em; padding-right: 1em; text-align: center; vertical-align: top\">2014-10-29</td>\n",
       "        <td style=\"padding-left: 1em; padding-right: 1em; text-align: center; vertical-align: top\">7N9j5YbBHBW6qguE5DAeyA</td>\n",
       "        <td style=\"padding-left: 1em; padding-right: 1em; text-align: center; vertical-align: top\">1</td>\n",
       "        <td style=\"padding-left: 1em; padding-right: 1em; text-align: center; vertical-align: top\">Wing sauce is like water.<br>Pretty much a lot of ...</td>\n",
       "        <td style=\"padding-left: 1em; padding-right: 1em; text-align: center; vertical-align: top\">review</td>\n",
       "    </tr>\n",
       "    <tr>\n",
       "        <td style=\"padding-left: 1em; padding-right: 1em; text-align: center; vertical-align: top\">UsFtqoBl7naz8AVUBZMjQQ</td>\n",
       "        <td style=\"padding-left: 1em; padding-right: 1em; text-align: center; vertical-align: top\">2014-11-28</td>\n",
       "        <td style=\"padding-left: 1em; padding-right: 1em; text-align: center; vertical-align: top\">mjCJR33jvUNt41iJCxDU_g</td>\n",
       "        <td style=\"padding-left: 1em; padding-right: 1em; text-align: center; vertical-align: top\">4</td>\n",
       "        <td style=\"padding-left: 1em; padding-right: 1em; text-align: center; vertical-align: top\">Cold cheap beer. Good bar<br>food. Good service. ...</td>\n",
       "        <td style=\"padding-left: 1em; padding-right: 1em; text-align: center; vertical-align: top\">review</td>\n",
       "    </tr>\n",
       "    <tr>\n",
       "        <td style=\"padding-left: 1em; padding-right: 1em; text-align: center; vertical-align: top\">3eu6MEFlq2Dg7bQh8QbdOg</td>\n",
       "        <td style=\"padding-left: 1em; padding-right: 1em; text-align: center; vertical-align: top\">2014-02-27</td>\n",
       "        <td style=\"padding-left: 1em; padding-right: 1em; text-align: center; vertical-align: top\">Ieh3kfZ-5J9pLju4JiQDvQ</td>\n",
       "        <td style=\"padding-left: 1em; padding-right: 1em; text-align: center; vertical-align: top\">5</td>\n",
       "        <td style=\"padding-left: 1em; padding-right: 1em; text-align: center; vertical-align: top\">I highly recommend this<br>place. The mechanics are ...</td>\n",
       "        <td style=\"padding-left: 1em; padding-right: 1em; text-align: center; vertical-align: top\">review</td>\n",
       "    </tr>\n",
       "    <tr>\n",
       "        <td style=\"padding-left: 1em; padding-right: 1em; text-align: center; vertical-align: top\">3eu6MEFlq2Dg7bQh8QbdOg</td>\n",
       "        <td style=\"padding-left: 1em; padding-right: 1em; text-align: center; vertical-align: top\">2015-06-16</td>\n",
       "        <td style=\"padding-left: 1em; padding-right: 1em; text-align: center; vertical-align: top\">PU28OoBSHpZLkYGCmNxlmg</td>\n",
       "        <td style=\"padding-left: 1em; padding-right: 1em; text-align: center; vertical-align: top\">5</td>\n",
       "        <td style=\"padding-left: 1em; padding-right: 1em; text-align: center; vertical-align: top\">I am a big believer in<br>first impressions, so ...</td>\n",
       "        <td style=\"padding-left: 1em; padding-right: 1em; text-align: center; vertical-align: top\">review</td>\n",
       "    </tr>\n",
       "    <tr>\n",
       "        <td style=\"padding-left: 1em; padding-right: 1em; text-align: center; vertical-align: top\">cE27W9VPgO88Qxe4ol6y_g</td>\n",
       "        <td style=\"padding-left: 1em; padding-right: 1em; text-align: center; vertical-align: top\">2012-08-19</td>\n",
       "        <td style=\"padding-left: 1em; padding-right: 1em; text-align: center; vertical-align: top\">XsA6AojkWjOHA4FmuAb8XQ</td>\n",
       "        <td style=\"padding-left: 1em; padding-right: 1em; text-align: center; vertical-align: top\">3</td>\n",
       "        <td style=\"padding-left: 1em; padding-right: 1em; text-align: center; vertical-align: top\">Decent range somewhat<br>close to the city.  The ...</td>\n",
       "        <td style=\"padding-left: 1em; padding-right: 1em; text-align: center; vertical-align: top\">review</td>\n",
       "    </tr>\n",
       "</table>\n",
       "<table frame=\"box\" rules=\"cols\">\n",
       "    <tr>\n",
       "        <th style=\"padding-left: 1em; padding-right: 1em; text-align: center\">user_id</th>\n",
       "        <th style=\"padding-left: 1em; padding-right: 1em; text-align: center\">votes</th>\n",
       "    </tr>\n",
       "    <tr>\n",
       "        <td style=\"padding-left: 1em; padding-right: 1em; text-align: center; vertical-align: top\">PUFPaY9KxDAcGqfsorJp3Q</td>\n",
       "        <td style=\"padding-left: 1em; padding-right: 1em; text-align: center; vertical-align: top\">{'funny': 0, 'useful': 0,<br>'cool': 0} ...</td>\n",
       "    </tr>\n",
       "    <tr>\n",
       "        <td style=\"padding-left: 1em; padding-right: 1em; text-align: center; vertical-align: top\">Iu6AxdBYGR4A0wspR9BYHA</td>\n",
       "        <td style=\"padding-left: 1em; padding-right: 1em; text-align: center; vertical-align: top\">{'funny': 0, 'useful': 0,<br>'cool': 0} ...</td>\n",
       "    </tr>\n",
       "    <tr>\n",
       "        <td style=\"padding-left: 1em; padding-right: 1em; text-align: center; vertical-align: top\">auESFwWvW42h6alXgFxAXQ</td>\n",
       "        <td style=\"padding-left: 1em; padding-right: 1em; text-align: center; vertical-align: top\">{'funny': 0, 'useful': 0,<br>'cool': 0} ...</td>\n",
       "    </tr>\n",
       "    <tr>\n",
       "        <td style=\"padding-left: 1em; padding-right: 1em; text-align: center; vertical-align: top\">uK8tzraOp4M5u3uYrqIBXg</td>\n",
       "        <td style=\"padding-left: 1em; padding-right: 1em; text-align: center; vertical-align: top\">{'funny': 0, 'useful': 0,<br>'cool': 0} ...</td>\n",
       "    </tr>\n",
       "    <tr>\n",
       "        <td style=\"padding-left: 1em; padding-right: 1em; text-align: center; vertical-align: top\">I_47G-R2_egp7ME5u_ltew</td>\n",
       "        <td style=\"padding-left: 1em; padding-right: 1em; text-align: center; vertical-align: top\">{'funny': 0, 'useful': 0,<br>'cool': 0} ...</td>\n",
       "    </tr>\n",
       "    <tr>\n",
       "        <td style=\"padding-left: 1em; padding-right: 1em; text-align: center; vertical-align: top\">PP_xoMSYlGr2pb67BbqBdA</td>\n",
       "        <td style=\"padding-left: 1em; padding-right: 1em; text-align: center; vertical-align: top\">{'funny': 0, 'useful': 0,<br>'cool': 0} ...</td>\n",
       "    </tr>\n",
       "    <tr>\n",
       "        <td style=\"padding-left: 1em; padding-right: 1em; text-align: center; vertical-align: top\">JPPhyFE-UE453zA6K0TVgw</td>\n",
       "        <td style=\"padding-left: 1em; padding-right: 1em; text-align: center; vertical-align: top\">{'funny': 0, 'useful': 0,<br>'cool': 0} ...</td>\n",
       "    </tr>\n",
       "    <tr>\n",
       "        <td style=\"padding-left: 1em; padding-right: 1em; text-align: center; vertical-align: top\">2d5HeDvZTDUNVog_WuUpSg</td>\n",
       "        <td style=\"padding-left: 1em; padding-right: 1em; text-align: center; vertical-align: top\">{'funny': 0, 'useful': 0,<br>'cool': 0} ...</td>\n",
       "    </tr>\n",
       "    <tr>\n",
       "        <td style=\"padding-left: 1em; padding-right: 1em; text-align: center; vertical-align: top\">BShxMIUwaJS378xcrz4Nmg</td>\n",
       "        <td style=\"padding-left: 1em; padding-right: 1em; text-align: center; vertical-align: top\">{'funny': 0, 'useful': 0,<br>'cool': 0} ...</td>\n",
       "    </tr>\n",
       "    <tr>\n",
       "        <td style=\"padding-left: 1em; padding-right: 1em; text-align: center; vertical-align: top\">fhNxoMwwTipzjO8A9LFe8Q</td>\n",
       "        <td style=\"padding-left: 1em; padding-right: 1em; text-align: center; vertical-align: top\">{'funny': 0, 'useful': 1,<br>'cool': 0} ...</td>\n",
       "    </tr>\n",
       "</table>\n",
       "[10 rows x 8 columns]<br/>\n",
       "</div>"
      ],
      "text/plain": [
       "Columns:\n",
       "\tbusiness_id\tstr\n",
       "\tdate\tstr\n",
       "\treview_id\tstr\n",
       "\tstars\tint\n",
       "\ttext\tstr\n",
       "\ttype\tstr\n",
       "\tuser_id\tstr\n",
       "\tvotes\tdict\n",
       "\n",
       "Rows: 10\n",
       "\n",
       "Data:\n",
       "+------------------------+------------+------------------------+-------+\n",
       "|      business_id       |    date    |       review_id        | stars |\n",
       "+------------------------+------------+------------------------+-------+\n",
       "| 5UmKMjUEUNdYWqANhGckJw | 2012-08-01 | Ya85v4eqdd6k9Od8HbQjyA |   4   |\n",
       "| 5UmKMjUEUNdYWqANhGckJw | 2014-02-13 | KPvLNJ21_4wbYNctrOwWdQ |   5   |\n",
       "| 5UmKMjUEUNdYWqANhGckJw | 2015-10-31 | fFSoGV46Yxuwbr3fHNuZig |   5   |\n",
       "| UsFtqoBl7naz8AVUBZMjQQ | 2013-11-08 | Di3exaUCFNw1V4kSNW5pgA |   5   |\n",
       "| UsFtqoBl7naz8AVUBZMjQQ | 2014-03-29 | 0Lua2-PbqEQMjD9r89-asw |   3   |\n",
       "| UsFtqoBl7naz8AVUBZMjQQ | 2014-10-29 | 7N9j5YbBHBW6qguE5DAeyA |   1   |\n",
       "| UsFtqoBl7naz8AVUBZMjQQ | 2014-11-28 | mjCJR33jvUNt41iJCxDU_g |   4   |\n",
       "| 3eu6MEFlq2Dg7bQh8QbdOg | 2014-02-27 | Ieh3kfZ-5J9pLju4JiQDvQ |   5   |\n",
       "| 3eu6MEFlq2Dg7bQh8QbdOg | 2015-06-16 | PU28OoBSHpZLkYGCmNxlmg |   5   |\n",
       "| cE27W9VPgO88Qxe4ol6y_g | 2012-08-19 | XsA6AojkWjOHA4FmuAb8XQ |   3   |\n",
       "+------------------------+------------+------------------------+-------+\n",
       "+-------------------------------+--------+------------------------+\n",
       "|              text             |  type  |        user_id         |\n",
       "+-------------------------------+--------+------------------------+\n",
       "| Mr Hoagie is an institutio... | review | PUFPaY9KxDAcGqfsorJp3Q |\n",
       "| Excellent food. Superb cus... | review | Iu6AxdBYGR4A0wspR9BYHA |\n",
       "| Yes this place is a little... | review | auESFwWvW42h6alXgFxAXQ |\n",
       "| All the food is great here... | review | uK8tzraOp4M5u3uYrqIBXg |\n",
       "| We checked this place out ... | review | I_47G-R2_egp7ME5u_ltew |\n",
       "| Wing sauce is like water. ... | review | PP_xoMSYlGr2pb67BbqBdA |\n",
       "| Cold cheap beer. Good bar ... | review | JPPhyFE-UE453zA6K0TVgw |\n",
       "| I highly recommend this pl... | review | 2d5HeDvZTDUNVog_WuUpSg |\n",
       "| I am a big believer in fir... | review | BShxMIUwaJS378xcrz4Nmg |\n",
       "| Decent range somewhat clos... | review | fhNxoMwwTipzjO8A9LFe8Q |\n",
       "+-------------------------------+--------+------------------------+\n",
       "+-------------------------------+\n",
       "|             votes             |\n",
       "+-------------------------------+\n",
       "| {'funny': 0, 'useful': 0, ... |\n",
       "| {'funny': 0, 'useful': 0, ... |\n",
       "| {'funny': 0, 'useful': 0, ... |\n",
       "| {'funny': 0, 'useful': 0, ... |\n",
       "| {'funny': 0, 'useful': 0, ... |\n",
       "| {'funny': 0, 'useful': 0, ... |\n",
       "| {'funny': 0, 'useful': 0, ... |\n",
       "| {'funny': 0, 'useful': 0, ... |\n",
       "| {'funny': 0, 'useful': 0, ... |\n",
       "| {'funny': 0, 'useful': 1, ... |\n",
       "+-------------------------------+\n",
       "[10 rows x 8 columns]"
      ]
     },
     "execution_count": 62,
     "metadata": {},
     "output_type": "execute_result"
    }
   ],
   "source": [
    "reviews.head()"
   ]
  },
  {
   "cell_type": "code",
   "execution_count": 67,
   "metadata": {
    "collapsed": false
   },
   "outputs": [
    {
     "data": {
      "text/html": [
       "<div style=\"max-height:1000px;max-width:1500px;overflow:auto;\"><table frame=\"box\" rules=\"cols\">\n",
       "    <tr>\n",
       "        <th style=\"padding-left: 1em; padding-right: 1em; text-align: center\">class</th>\n",
       "        <th style=\"padding-left: 1em; padding-right: 1em; text-align: center\">probability</th>\n",
       "    </tr>\n",
       "    <tr>\n",
       "        <td style=\"padding-left: 1em; padding-right: 1em; text-align: center; vertical-align: top\">1</td>\n",
       "        <td style=\"padding-left: 1em; padding-right: 1em; text-align: center; vertical-align: top\">0.982881795183</td>\n",
       "    </tr>\n",
       "    <tr>\n",
       "        <td style=\"padding-left: 1em; padding-right: 1em; text-align: center; vertical-align: top\">1</td>\n",
       "        <td style=\"padding-left: 1em; padding-right: 1em; text-align: center; vertical-align: top\">0.965239705824</td>\n",
       "    </tr>\n",
       "    <tr>\n",
       "        <td style=\"padding-left: 1em; padding-right: 1em; text-align: center; vertical-align: top\">1</td>\n",
       "        <td style=\"padding-left: 1em; padding-right: 1em; text-align: center; vertical-align: top\">0.999199803031</td>\n",
       "    </tr>\n",
       "    <tr>\n",
       "        <td style=\"padding-left: 1em; padding-right: 1em; text-align: center; vertical-align: top\">1</td>\n",
       "        <td style=\"padding-left: 1em; padding-right: 1em; text-align: center; vertical-align: top\">0.999804026457</td>\n",
       "    </tr>\n",
       "    <tr>\n",
       "        <td style=\"padding-left: 1em; padding-right: 1em; text-align: center; vertical-align: top\">1</td>\n",
       "        <td style=\"padding-left: 1em; padding-right: 1em; text-align: center; vertical-align: top\">0.910302121241</td>\n",
       "    </tr>\n",
       "    <tr>\n",
       "        <td style=\"padding-left: 1em; padding-right: 1em; text-align: center; vertical-align: top\">0</td>\n",
       "        <td style=\"padding-left: 1em; padding-right: 1em; text-align: center; vertical-align: top\">0.986207358898</td>\n",
       "    </tr>\n",
       "    <tr>\n",
       "        <td style=\"padding-left: 1em; padding-right: 1em; text-align: center; vertical-align: top\">1</td>\n",
       "        <td style=\"padding-left: 1em; padding-right: 1em; text-align: center; vertical-align: top\">0.997549638937</td>\n",
       "    </tr>\n",
       "    <tr>\n",
       "        <td style=\"padding-left: 1em; padding-right: 1em; text-align: center; vertical-align: top\">1</td>\n",
       "        <td style=\"padding-left: 1em; padding-right: 1em; text-align: center; vertical-align: top\">0.951177662229</td>\n",
       "    </tr>\n",
       "    <tr>\n",
       "        <td style=\"padding-left: 1em; padding-right: 1em; text-align: center; vertical-align: top\">1</td>\n",
       "        <td style=\"padding-left: 1em; padding-right: 1em; text-align: center; vertical-align: top\">0.999990136227</td>\n",
       "    </tr>\n",
       "    <tr>\n",
       "        <td style=\"padding-left: 1em; padding-right: 1em; text-align: center; vertical-align: top\">1</td>\n",
       "        <td style=\"padding-left: 1em; padding-right: 1em; text-align: center; vertical-align: top\">0.969640549756</td>\n",
       "    </tr>\n",
       "</table>\n",
       "[10 rows x 2 columns]<br/>\n",
       "</div>"
      ],
      "text/plain": [
       "Columns:\n",
       "\tclass\tint\n",
       "\tprobability\tfloat\n",
       "\n",
       "Rows: 10\n",
       "\n",
       "Data:\n",
       "+-------+----------------+\n",
       "| class |  probability   |\n",
       "+-------+----------------+\n",
       "|   1   | 0.982881795183 |\n",
       "|   1   | 0.965239705824 |\n",
       "|   1   | 0.999199803031 |\n",
       "|   1   | 0.999804026457 |\n",
       "|   1   | 0.910302121241 |\n",
       "|   0   | 0.986207358898 |\n",
       "|   1   | 0.997549638937 |\n",
       "|   1   | 0.951177662229 |\n",
       "|   1   | 0.999990136227 |\n",
       "|   1   | 0.969640549756 |\n",
       "+-------+----------------+\n",
       "[10 rows x 2 columns]"
      ]
     },
     "execution_count": 67,
     "metadata": {},
     "output_type": "execute_result"
    }
   ],
   "source": [
    "sm.classify(reviews.head())"
   ]
  },
  {
   "cell_type": "code",
   "execution_count": 65,
   "metadata": {
    "collapsed": false
   },
   "outputs": [
    {
     "data": {
      "text/plain": [
       "'Mr Hoagie is an institution. Walking in, it does seem like a throwback to 30 years ago, old fashioned menu board, booths out of the 70s, and a large selection of food. Their speciality is the Italian Hoagie, and it is voted the best in the area year after year. I usually order the burger, while the patties are obviously cooked from frozen, all of the other ingredients are very fresh. Overall, its a good alternative to Subway, which is down the road.'"
      ]
     },
     "execution_count": 65,
     "metadata": {},
     "output_type": "execute_result"
    }
   ],
   "source": [
    "reviews['text'][0]"
   ]
  },
  {
   "cell_type": "code",
   "execution_count": null,
   "metadata": {
    "collapsed": false
   },
   "outputs": [],
   "source": [
    "m = gl.product_sentiment.create(reviews,'stars', ['text'], 'review_id', splitby='sentence')"
   ]
  },
  {
   "cell_type": "code",
   "execution_count": null,
   "metadata": {
    "collapsed": true
   },
   "outputs": [],
   "source": []
  },
  {
   "cell_type": "code",
   "execution_count": null,
   "metadata": {
    "collapsed": true
   },
   "outputs": [],
   "source": []
  },
  {
   "cell_type": "code",
   "execution_count": null,
   "metadata": {
    "collapsed": true
   },
   "outputs": [],
   "source": []
  }
 ],
 "metadata": {
  "kernelspec": {
   "display_name": "Python 2",
   "language": "python",
   "name": "python2"
  },
  "language_info": {
   "codemirror_mode": {
    "name": "ipython",
    "version": 2
   },
   "file_extension": ".py",
   "mimetype": "text/x-python",
   "name": "python",
   "nbconvert_exporter": "python",
   "pygments_lexer": "ipython2",
   "version": "2.7.11"
  }
 },
 "nbformat": 4,
 "nbformat_minor": 0
}
